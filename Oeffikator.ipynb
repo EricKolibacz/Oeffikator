{
 "cells": [
  {
   "cell_type": "markdown",
   "id": "aa9c3c26",
   "metadata": {},
   "source": [
    "# Oeffikator"
   ]
  },
  {
   "cell_type": "markdown",
   "id": "209f649f",
   "metadata": {},
   "source": [
    "## Setup\n",
    "We start off with global varibale and function definition and important imports."
   ]
  },
  {
   "cell_type": "code",
   "execution_count": 1,
   "id": "f165cfe8",
   "metadata": {},
   "outputs": [],
   "source": [
    "import datetime\n",
    "import geopy.distance\n",
    "import json\n",
    "import matplotlib.colors as mcolors\n",
    "import matplotlib.pyplot as plt\n",
    "import numpy as np\n",
    "import os\n",
    "import pandas as pd\n",
    "import random \n",
    "import requests\n",
    "import time\n",
    "\n",
    "from sklearn.base import BaseEstimator, TransformerMixin\n",
    "from sklearn.impute import SimpleImputer"
   ]
  },
  {
   "cell_type": "code",
   "execution_count": 2,
   "id": "9c87ba12",
   "metadata": {},
   "outputs": [],
   "source": [
    "BVG_URL = \"http://bvg-apps-ext.hafas.de/bin/mgate.exe/mgate.exe\"\n",
    "# requires key, x and y coordinates\n",
    "JSON_GEOLOC = '{\"auth\":{\"aid\":\"%s\",\"type\":\"AID\"},\"client\":{\"id\":\"BVG\",\"type\":\"AND\"},\"ext\":\"BVG.1\",\"ver\":\"1.18\",\"lang\":\"eng\",\"svcReqL\":[{\"meth\":\"ServerInfo\",\"req\":{\"getServerDateTime\":true,\"getTimeTablePeriod\":false}},{\"meth\":\"LocGeoPos\",\"cfg\":{\"polyEnc\":\"GPA\"},\"req\":{\"ring\":{\"cCrd\":{\"x\":%d,\"y\":%d},\"maxDist\":20000},\"getStops\":true,\"getPOIs\":true,\"maxLoc\":1}}],\"formatted\":false}'\n",
    "# set travel date always to upcoming monday (!)\n",
    "day = datetime.datetime.today()\n",
    "while day.weekday()!= 0:\n",
    "    day+=datetime.timedelta(1)\n",
    "cdict = {'red':   ((0.0, 0.0, 0.0),\n",
    "                   (0.5, 0.0, 0.0),\n",
    "                   (1.0, 1.0, 1.0)),\n",
    "         'blue':  ((0.0, 0.0, 0.0),\n",
    "                   (1.0, 0.0, 0.0)),\n",
    "         'green': ((0.0, 0.0, 1.0),\n",
    "                   (0.5, 0.0, 0.0),\n",
    "                   (1.0, 0.0, 0.0))}\n",
    "CMAP = mcolors.LinearSegmentedColormap('my_colormap', cdict, 100)"
   ]
  },
  {
   "cell_type": "code",
   "execution_count": 3,
   "id": "5ee1421e",
   "metadata": {},
   "outputs": [],
   "source": [
    "def request_data(json_string):\n",
    "    data = json.loads(json_string)\n",
    "    headers = {'Content-type': 'application/json', 'Accept': 'text/plain'}\n",
    "    r = requests.post(BVG_URL, data=json.dumps(data), headers=headers)\n",
    "    return json.loads(r.text)\n",
    "    \n",
    "def query_location(query):\n",
    "    print(\"query: \", query)\n",
    "    params = (\n",
    "        ('query', query),\n",
    "        ('results', '1'),\n",
    "        ('stops', 'false'),\n",
    "        ('poi', 'false'),\n",
    "    )\n",
    "    return requests.get('https://v5.bvg.transport.rest/locations', params=params).json()[0]\n",
    "\n",
    "def get_location_from_coordinates(coordinates):\n",
    "    resp = request_data(JSON_GEOLOC % (key, to_BVG_sdt(coordinates[0]), to_BVG_sdt(coordinates[1])))\n",
    "    return resp[\"svcResL\"][1][\"res\"][\"locL\"][0][\"name\"]\n",
    "\n",
    "def get_trip(start, destination):\n",
    "    params = (\n",
    "        ('from.address', start[\"address\"]),\n",
    "        ('from.latitude', start[\"latitude\"]),\n",
    "        ('from.longitude', start[\"longitude\"]),\n",
    "        ('to.address', destination[\"address\"]),\n",
    "        ('to.latitude', destination[\"latitude\"]),\n",
    "        ('to.longitude', destination[\"longitude\"]),\n",
    "        ('departure', day.strftime(\"%Y-%m-%dT11:00+00:00\")),\n",
    "        ('results', '1'),\n",
    "        ('stopovers', 'true')\n",
    "    )\n",
    "    return requests.get('https://v5.bvg.transport.rest/journeys', params=params).json()\n",
    "\n",
    "def write_entry(file_name, i, x, y, atime):\n",
    "    with open(\"results/\" + file_name,\"a+\") as f:\n",
    "        f.write(str(i)+\",\"+str(x)+\",\"+str(y)+\",\"+atime+\"\\n\")\n",
    "\n",
    "def compute_distance(x1,y1,x2,y2):\n",
    "    return geopy.distance.distance((x1,y1), (x2,y2)).km\n",
    "\n",
    "def to_BVG_sdt(x : float) -> int:\n",
    "    return int(x*10E5)\n",
    "\n",
    "class TimeTransformer(BaseEstimator, TransformerMixin):\n",
    "    def __init__(self, start_time=\"12000\"):\n",
    "        self.start_time = datetime.datetime.strptime(\"120000\",\"%H%M%S\")\n",
    "    def fit(self, X, y=None):\n",
    "        return self\n",
    "    def transform(self, X, y=None):\n",
    "        X[\"Time\"] = pd.to_datetime(X[\"Time\"], format=\"%H%M%S\")\n",
    "        X[\"Time\"] = X[\"Time\"] - self.start_time\n",
    "        X[\"Time\"] = X[\"Time\"].dt.total_seconds()/60\n",
    "        X = X.dropna()\n",
    "        X = X[X[\"Time\"] > 0] # drop all items where time is negative\n",
    "        X = X.drop_duplicates([\"X\", \"Y\"])\n",
    "        return X"
   ]
  },
  {
   "cell_type": "markdown",
   "id": "d7ddde4b",
   "metadata": {},
   "source": [
    "## Get your authentification key\n",
    "Before we get started, let's read or locally stored auth key."
   ]
  },
  {
   "cell_type": "code",
   "execution_count": 4,
   "id": "9185a709",
   "metadata": {},
   "outputs": [],
   "source": [
    "with open(\"AUTHKEY.txt\") as keyfile:\n",
    "        key = keyfile.read().splitlines()[0]"
   ]
  },
  {
   "cell_type": "markdown",
   "id": "62cf3f32",
   "metadata": {},
   "source": [
    "## Crawl Data"
   ]
  },
  {
   "cell_type": "markdown",
   "id": "80d9a6fb",
   "metadata": {},
   "source": [
    "Let's define some parameter first."
   ]
  },
  {
   "cell_type": "code",
   "execution_count": 15,
   "id": "8b203f5e",
   "metadata": {},
   "outputs": [
    {
     "name": "stdout",
     "output_type": "stream",
     "text": [
      "query:  maxstr. 5\n",
      "We gonne use following address: 13347 Berlin-Wedding, Maxstr. 5\n"
     ]
    }
   ],
   "source": [
    "query = \"maxstr. 5\"\n",
    "start = query_location(query)\n",
    "print(\"We gonne use following address: \" + start[\"address\"])"
   ]
  },
  {
   "cell_type": "code",
   "execution_count": 16,
   "id": "c9534c8c",
   "metadata": {},
   "outputs": [
    {
     "name": "stdout",
     "output_type": "stream",
     "text": [
      "X distance GPS:  0.21359999999999957\n",
      "Y distance GPS:  0.08549999999999613\n",
      "X distance km:  23.6313760602401\n",
      "Y distance km:  9.256943112258886\n",
      "Amount of requests:  99\n",
      "Estimated time: 5min\n"
     ]
    }
   ],
   "source": [
    "file_name = str(to_BVG_sdt(start[\"longitude\"])) + \"_\" + str(to_BVG_sdt(start[\"latitude\"])) + \".csv\"\n",
    "# in format left, right, bottom, top\n",
    "# or xmin, xmax, ymin, ymax\n",
    "bounding_box = (13.2756, 13.4892, 52.4677, 52.5532)\n",
    "step_size_x = 0.02\n",
    "step_size_y = step_size_x / 2\n",
    "\n",
    "print(\"X distance GPS: \",bounding_box[1]-bounding_box[0])\n",
    "print(\"Y distance GPS: \", bounding_box[3]-bounding_box[2])\n",
    "\n",
    "print(\"X distance km: \",compute_distance(bounding_box[0],bounding_box[2],bounding_box[1],bounding_box[2]))\n",
    "print(\"Y distance km: \",compute_distance(bounding_box[1],bounding_box[2],bounding_box[1],bounding_box[3]))\n",
    "\n",
    "length = len(np.arange(bounding_box[0],bounding_box[1],step_size_x)) * len(np.arange(bounding_box[2],bounding_box[3],step_size_y))\n",
    "print(\"Amount of requests: \",length)\n",
    "print(\"Estimated time: \" + str(int(length*3.33/60)) + \"min\")"
   ]
  },
  {
   "cell_type": "markdown",
   "id": "71ebbd2c",
   "metadata": {},
   "source": [
    "Check if there exists a file for this starting position."
   ]
  },
  {
   "cell_type": "code",
   "execution_count": 17,
   "id": "c31b3dea",
   "metadata": {},
   "outputs": [
    {
     "data": {
      "text/plain": [
       "0"
      ]
     },
     "execution_count": 17,
     "metadata": {},
     "output_type": "execute_result"
    }
   ],
   "source": [
    "all_files = os.listdir(\"results\")    \n",
    "csv_files = [file_name for file_name in all_files if file_name.endswith(\".csv\")]\n",
    "if file_name in csv_files:\n",
    "    with open(\"results/\" + file_name, \"r\", encoding=\"utf-8\", errors=\"ignore\") as f:\n",
    "        final_line = f.readlines()[-1]\n",
    "    start_index = int(final_line.split(',')[0])\n",
    "else:\n",
    "    start_index = 0\n",
    "start_index"
   ]
  },
  {
   "cell_type": "markdown",
   "id": "16aad915",
   "metadata": {},
   "source": [
    "And now let's get the points."
   ]
  },
  {
   "cell_type": "code",
   "execution_count": 18,
   "id": "c2dae912",
   "metadata": {},
   "outputs": [
    {
     "name": "stdout",
     "output_type": "stream",
     "text": [
      "1.0101010101010102 % Fortschritt, es fehlen 98\n",
      "13.2756 52.4677\n",
      "2.0202020202020203 % Fortschritt, es fehlen 97\n",
      "13.278407 52.4777\n",
      "3.0303030303030303 % Fortschritt, es fehlen 96\n",
      "13.280474 52.4877\n",
      "4.040404040404041 % Fortschritt, es fehlen 95\n",
      "13.284403 52.497699999999995\n",
      "5.05050505050505 % Fortschritt, es fehlen 94\n",
      "13.290147 52.50769999999999\n",
      "6.0606060606060606 % Fortschritt, es fehlen 93\n",
      "13.289778 52.51769999999999\n",
      "7.07070707070707 % Fortschritt, es fehlen 92\n",
      "13.284241 52.52769999999999\n",
      "8.080808080808081 % Fortschritt, es fehlen 91\n",
      "13.300134 52.53769999999999\n",
      "9.090909090909092 % Fortschritt, es fehlen 90\n",
      "13.300404 52.547699999999985\n",
      "10.1010101010101 % Fortschritt, es fehlen 89\n",
      "13.2956 52.4677\n",
      "11.11111111111111 % Fortschritt, es fehlen 88\n",
      "13.295199 52.4777\n"
     ]
    }
   ],
   "source": [
    "i = start_index \n",
    "destination_i = 0\n",
    "for x in np.arange(bounding_box[0],bounding_box[1],step_size_x):\n",
    "    for y in np.arange(bounding_box[2],bounding_box[3],step_size_y):\n",
    "        destination_i+=1\n",
    "        try:\n",
    "            print(destination_i/length*100,\"% Fortschritt, es fehlen\",length - destination_i)\n",
    "            destination = {\"longitude\": str(x), \"latitude\": str(y), \"address\": \"placeholder\"}\n",
    "            print(x,y)\n",
    "            time.sleep(60/100)\n",
    "            response = get_trip(start,destination)\n",
    "            for leg in response[\"journeys\"][0][\"legs\"]:\n",
    "                if \"stopovers\" in leg:\n",
    "                    for stop in leg[\"stopovers\"]:\n",
    "                        if stop[\"arrival\"] != None:\n",
    "                            i+=1\n",
    "                            x = stop[\"stop\"][\"location\"][\"longitude\"]\n",
    "                            y = stop[\"stop\"][\"location\"][\"latitude\"]\n",
    "                            atime = stop[\"arrival\"][11:19].replace(\":\",\"\")\n",
    "                            write_entry(file_name, i, x, y, atime)\n",
    "            i+=1\n",
    "            write_entry(file_name, i, leg[\"destination\"][\"longitude\"], leg[\"destination\"][\"latitude\"], leg[\"arrival\"][11:19].replace(\":\",\"\"))\n",
    "        except ValueError:\n",
    "            with open(\"results/\" + file_name,\"a+\") as f:\n",
    "                f.write(str(i)+\",\"+str(x)+\",\"+str(y)+\",error\\n\")\n",
    "            continue"
   ]
  },
  {
   "cell_type": "markdown",
   "id": "7f5594b3",
   "metadata": {},
   "source": [
    "(Different Method to generate directions https://stackoverflow.com/questions/57539749/find-out-centre-of-the-most-dense-region-in-a-scatter-plot )"
   ]
  },
  {
   "cell_type": "code",
   "execution_count": null,
   "id": "cfb20f6e",
   "metadata": {},
   "outputs": [
    {
     "data": {
      "text/plain": [
       "{'origin': {'type': 'location',\n",
       "  'id': '770005916',\n",
       "  'latitude': 52.548871,\n",
       "  'longitude': 13.365647,\n",
       "  'address': '13347 Berlin-Wedding, Maxstr. 5'},\n",
       " 'destination': {'type': 'stop',\n",
       "  'id': '900000009104',\n",
       "  'name': 'S+U Wedding',\n",
       "  'location': {'type': 'location',\n",
       "   'id': '900009104',\n",
       "   'latitude': 52.542732,\n",
       "   'longitude': 13.366061},\n",
       "  'products': {'suburban': True,\n",
       "   'subway': True,\n",
       "   'tram': False,\n",
       "   'bus': True,\n",
       "   'ferry': False,\n",
       "   'express': False,\n",
       "   'regional': False}},\n",
       " 'departure': '2022-02-14T12:02:00+01:00',\n",
       " 'plannedDeparture': '2022-02-14T12:02:00+01:00',\n",
       " 'departureDelay': None,\n",
       " 'arrival': '2022-02-14T12:13:00+01:00',\n",
       " 'plannedArrival': '2022-02-14T12:13:00+01:00',\n",
       " 'arrivalDelay': None,\n",
       " 'public': True,\n",
       " 'walking': True,\n",
       " 'distance': 894}"
      ]
     },
     "execution_count": 11,
     "metadata": {},
     "output_type": "execute_result"
    }
   ],
   "source": [
    "leg"
   ]
  },
  {
   "cell_type": "code",
   "execution_count": null,
   "id": "7810d15e",
   "metadata": {},
   "outputs": [],
   "source": [
    "# Evaluate a gaussian kde on a regular grid of nbins x nbins over data extents\n",
    "# k = kde.gaussian_kde(data.T)\n",
    "# xi, yi = np.mgrid[x.min():x.max():nbins*1j, y.min():y.max():nbins*1j]\n",
    "# zi = k(np.vstack([xi.flatten(), yi.flatten()]))"
   ]
  },
  {
   "cell_type": "markdown",
   "id": "0645887c",
   "metadata": {},
   "source": [
    "Time to get the data."
   ]
  },
  {
   "cell_type": "markdown",
   "id": "b1b54376",
   "metadata": {},
   "source": [
    "## Plotting"
   ]
  },
  {
   "cell_type": "markdown",
   "id": "e7c24a91",
   "metadata": {},
   "source": [
    "Let's read data first."
   ]
  },
  {
   "cell_type": "code",
   "execution_count": null,
   "id": "7114995e",
   "metadata": {},
   "outputs": [],
   "source": [
    "file_name_plottting = \"13365647_52548871.csv\"\n",
    "df = pd.read_csv(\"results/\" + file_name_plottting, sep=\",\", index_col = 0, names=[\"X\",\"Y\",\"Time\"],  na_values=\"None\", dtype = {\"X\": np.float32, \"Y\": np.float32, \"Time\":str})"
   ]
  },
  {
   "cell_type": "markdown",
   "id": "e4e64044",
   "metadata": {},
   "source": [
    "And then transform it with some custom pipelines."
   ]
  },
  {
   "cell_type": "code",
   "execution_count": null,
   "id": "a371a2e1",
   "metadata": {},
   "outputs": [],
   "source": [
    "time_transformer = TimeTransformer()\n",
    "dfn = time_transformer.transform(df)"
   ]
  },
  {
   "cell_type": "markdown",
   "id": "e90b3784",
   "metadata": {},
   "source": [
    "It's time to plot:"
   ]
  },
  {
   "cell_type": "code",
   "execution_count": null,
   "id": "4e79805e",
   "metadata": {},
   "outputs": [],
   "source": [
    "bounding_box"
   ]
  },
  {
   "cell_type": "code",
   "execution_count": null,
   "id": "321bf5b7",
   "metadata": {},
   "outputs": [
    {
     "ename": "NameError",
     "evalue": "name 'bounding_box_locations' is not defined",
     "output_type": "error",
     "traceback": [
      "\u001b[0;31m---------------------------------------------------------------------------\u001b[0m",
      "\u001b[0;31mNameError\u001b[0m                                 Traceback (most recent call last)",
      "Input \u001b[0;32mIn [9]\u001b[0m, in \u001b[0;36m<module>\u001b[0;34m\u001b[0m\n\u001b[0;32m----> 1\u001b[0m bounding_box_locations\n",
      "\u001b[0;31mNameError\u001b[0m: name 'bounding_box_locations' is not defined"
     ]
    }
   ],
   "source": [
    "bounding_box_locations"
   ]
  },
  {
   "cell_type": "code",
   "execution_count": null,
   "id": "cbd360e1",
   "metadata": {},
   "outputs": [
    {
     "ename": "NameError",
     "evalue": "name 'file_name_plottting' is not defined",
     "output_type": "error",
     "traceback": [
      "\u001b[0;31m---------------------------------------------------------------------------\u001b[0m",
      "\u001b[0;31mNameError\u001b[0m                                 Traceback (most recent call last)",
      "Input \u001b[0;32mIn [10]\u001b[0m, in \u001b[0;36m<module>\u001b[0;34m\u001b[0m\n\u001b[1;32m      1\u001b[0m \u001b[39m#get the start location coordinates from the file name\u001b[39;00m\n\u001b[0;32m----> 2\u001b[0m start_location \u001b[39m=\u001b[39m \u001b[39mtuple\u001b[39m([\u001b[39mint\u001b[39m(coordinate)\u001b[39m*\u001b[39m\u001b[39m10E-7\u001b[39m \u001b[39mfor\u001b[39;00m coordinate \u001b[39min\u001b[39;00m file_name_plottting[:\u001b[39m-\u001b[39m\u001b[39m4\u001b[39m]\u001b[39m.\u001b[39msplit(\u001b[39m\"\u001b[39m\u001b[39m_\u001b[39m\u001b[39m\"\u001b[39m)])\n\u001b[1;32m      3\u001b[0m \u001b[39m# get the bounding box from the location\u001b[39;00m\n\u001b[1;32m      4\u001b[0m bounding_box_locations \u001b[39m=\u001b[39m (\u001b[39mmin\u001b[39m(dfn[\u001b[39m\"\u001b[39m\u001b[39mX\u001b[39m\u001b[39m\"\u001b[39m]), \u001b[39mmax\u001b[39m(dfn[\u001b[39m\"\u001b[39m\u001b[39mX\u001b[39m\u001b[39m\"\u001b[39m]), \u001b[39mmin\u001b[39m(dfn[\u001b[39m\"\u001b[39m\u001b[39mY\u001b[39m\u001b[39m\"\u001b[39m]), \u001b[39mmax\u001b[39m(dfn[\u001b[39m\"\u001b[39m\u001b[39mY\u001b[39m\u001b[39m\"\u001b[39m]))\n",
      "\u001b[0;31mNameError\u001b[0m: name 'file_name_plottting' is not defined"
     ]
    }
   ],
   "source": [
    "#get the start location coordinates from the file name\n",
    "start_location = tuple([int(coordinate)*10E-7 for coordinate in file_name_plottting[:-4].split(\"_\")])\n",
    "# get the bounding box from the location\n",
    "bounding_box_locations = (min(dfn[\"X\"]), max(dfn[\"X\"]), min(dfn[\"Y\"]), max(dfn[\"Y\"]))\n",
    "# sets hard coded for the map \"map_berlin_A.png\"\n",
    "bounding_box_map = (13.272, 13.491, 52.456, 52.563)\n",
    "map = plt.imread('maps/map_berlin_A.png')\n",
    "# define the amount of color levels should be there\n",
    "levels = np.linspace(np.min(dfn[\"Time\"]), 60, 32)\n",
    "\n",
    "fig, ax = plt.subplots(figsize = (18,18))\n",
    "ax.set_xlim(bounding_box_map[0],bounding_box_map[1])\n",
    "ax.set_ylim(bounding_box_map[2],bounding_box_map[3])\n",
    "ax.tricontourf(dfn[\"X\"], dfn[\"Y\"], dfn[\"Time\"], levels=levels, alpha= 0.5, cmap = CMAP, antialiased=True)\n",
    "#Displaying destination locations\n",
    "ax.scatter(dfn[\"X\"], dfn[\"Y\"], alpha=0.5, color = \"brown\")\n",
    "\n",
    "# \"aspect=1.65\" as a magic number\n",
    "ax.imshow(map, extent = bounding_box_map, aspect = 1.65)\n",
    "# plot the starting position\n",
    "ax.plot(start_location[0], start_location[1], marker=\"*\", markersize=20, color=\"tab:orange\")"
   ]
  },
  {
   "cell_type": "code",
   "execution_count": null,
   "id": "d6db6da8",
   "metadata": {},
   "outputs": [],
   "source": [
    "plt.savefig(\"results/images/map_berlin_sWedding.png\")"
   ]
  },
  {
   "cell_type": "markdown",
   "id": "15e3b3e7",
   "metadata": {},
   "source": [
    "## Creating a map\n",
    "This code is copied from following website: http://bigmap.osmz.ru/"
   ]
  },
  {
   "cell_type": "code",
   "execution_count": null,
   "id": "1e9c7a92",
   "metadata": {},
   "outputs": [],
   "source": [
    "#!/usr/bin/env python\n",
    "# Generated by BigMap 2. Permalink: http://bigmap.osmz.ru/bigmap.php?xmin=17592&xmax=17611&ymin=10740&ymax=10755&zoom=15&scale=256&tiles=osm-de\n",
    "\n",
    "import io, urllib.request, datetime, time, re, random\n",
    "from PIL import Image, ImageDraw\n",
    "# ^^^^^^ install \"python-pillow\" package | pip install Pillow | easy_install Pillow\n",
    "\n",
    "(zoom, xmin, ymin, xmax, ymax) = (15, 17592, 10740, 17611, 10755)\n",
    "layers = [\"https://{abc}.tile.openstreetmap.de/tiles/osmde/!z/!x/!y.png\"]\n",
    "attribution = 'Map data (c) OpenStreetMap, Tiles (c) OSM DE'\n",
    "xsize = xmax - xmin + 1\n",
    "ysize = ymax - ymin + 1\n",
    "tilesize = 256\n",
    "\n",
    "resultImage = Image.new(\"RGBA\", (xsize * tilesize, ysize * tilesize), (0,0,0,0))\n",
    "counter = 0\n",
    "for x in range(xmin, xmax+1):\n",
    "\tfor y in range(ymin, ymax+1):\n",
    "\t\tfor layer in layers:\n",
    "\t\t\turl = layer.replace(\"!x\", str(x)).replace(\"!y\", str(y)).replace(\"!z\", str(zoom))\n",
    "\t\t\tmatch = re.search(\"{([a-z0-9]+)}\", url)\n",
    "\t\t\tif match:\n",
    "\t\t\t\turl = url.replace(match.group(0), random.choice(match.group(1)))\n",
    "\t\t\tprint(url, \"... \");\n",
    "\t\t\ttry:\n",
    "\t\t\t\treq = urllib.request.Request(url, headers={'User-Agent': 'BigMap/2.0'})\n",
    "\t\t\t\ttile = urllib.request.urlopen(req).read()\n",
    "\t\t\texcept Exception as e:\n",
    "\t\t\t\tprint(\"Error\", e)\n",
    "\t\t\t\tcontinue;\n",
    "\t\t\timage = Image.open(io.BytesIO(tile))\n",
    "\t\t\tresultImage.paste(image, ((x-xmin)*tilesize, (y-ymin)*tilesize), image.convert(\"RGBA\"))\n",
    "\t\t\tcounter += 1\n",
    "\t\t\tif counter == 10:\n",
    "\t\t\t\ttime.sleep(2);\n",
    "\t\t\t\tcounter = 0\n",
    "\n",
    "draw = ImageDraw.Draw(resultImage)\n",
    "draw.text((5, ysize*tilesize-15), attribution, (0,0,0))\n",
    "del draw\n",
    "\n",
    "now = datetime.datetime.now()\n",
    "outputFileName = \"maps/map_Berlin_A_high.png\"# % (zoom, now.year % 100, now.month, now.day, now.hour, now.minute)\n",
    "resultImage.save(outputFileName)"
   ]
  },
  {
   "cell_type": "markdown",
   "id": "3e43683c",
   "metadata": {},
   "source": [
    "## Previous code"
   ]
  },
  {
   "cell_type": "code",
   "execution_count": null,
   "id": "a4c050d6",
   "metadata": {},
   "outputs": [],
   "source": [
    "import json\n",
    "import requests\n",
    "url = \"http://bvg-apps-ext.hafas.de/bin/mgate.exe/mgate.exe\"\n",
    "s1 = '{\"auth\":{\"aid\":\"%s\",\"type\":\"AID\"},\"client\":{\"id\":\"BVG\",\"type\":\"AND\"},\"ext\":\"BVG.1\",\"ver\":\"1.18\",\"lang\":\"eng\",\"svcReqL\":[{\"meth\":\"ServerInfo\",\"req\":{\"getServerDateTime\":true,\"getTimeTablePeriod\":false}},{\"meth\":\"LocGeoPos\",\"cfg\":{\"polyEnc\":\"GPA\"},\"req\":{\"ring\":{\"cCrd\":{\"x\":%d,\"y\":%d},\"maxDist\":20000},\"getStops\":true,\"getPOIs\":true,\"maxLoc\":1}}],\"formatted\":false}'\n",
    "s1 = s1 % (key,13430400,52536099)\n",
    "data = json.loads(s1)\n",
    "headers = {'Content-type': 'application/json', 'Accept': 'text/plain'}\n",
    "r = requests.post(url, data=json.dumps(data), headers=headers)\n",
    "#print(r.text)\n",
    "resp = json.loads(r.text)\n",
    "resp[\"svcResL\"][1]['res']['locL'][0]['lid']"
   ]
  },
  {
   "cell_type": "code",
   "execution_count": null,
   "id": "c77d3f29",
   "metadata": {},
   "outputs": [],
   "source": [
    "rp = \"\"\"{\"ver\":\"1.18\",\"ext\":\"BVG.1\",\"lang\":\"eng\",\"id\":\"tm2ktgxukkk3y2wg\",\"err\":\"OK\",\"svcResL\":[{\"meth\":\"ServerInfo\",\"err\":\"OK\",\"res\":{\"common\":{\"locL\":[],\"prodL\":[],\"polyL\":[],\"layerL\":[{\"id\":\"standard\",\"name\":\"standard\",\"index\":0,\"annoCnt\":0}],\"crdSysL\":[{\"id\":\"standard\",\"index\":0,\"type\":\"WGS84\"}],\"opL\":[],\"remL\":[],\"icoL\":[]},\"sD\":\"20220202\",\"sT\":\"114242\",\"enc\":\"ISO-8859-1\",\"planrtTS\":\"1643798528\"}},{\"meth\":\"LocGeoPos\",\"err\":\"OK\",\"res\":{\"common\":{\"locL\":[],\"prodL\":[{\"pid\":\"L::2::Tram::B3041857784::Tram_3041857784_M10::*\",\"name\":\"M10\",\"nameS\":\"M10\",\"icoX\":0,\"cls\":4,\"prodCtx\":{\"name\":\"M10\",\"line\":\"M10\",\"lineId\":\"M10\",\"catOut\":\"Tram    \",\"catOutS\":\"T\",\"catOutL\":\"Tram    \"},\"himIdL\":[\"HIM_FREETEXT_75748\",\"HIM_FREETEXT_52249\"]}],\"polyL\":[],\"layerL\":[{\"id\":\"standard\",\"name\":\"standard\",\"index\":0,\"annoCnt\":0}],\"crdSysL\":[{\"id\":\"standard\",\"index\":0,\"type\":\"WGS84\"}],\"opL\":[],\"remL\":[],\"icoL\":[{\"res\":\"prod_gen\"},{\"res\":\"POI\"}]},\"locL\":[{\"lid\":\"A=4@O=Berlin, Theater unterm Dach@X=13430936@Y=52537482@u=158@U=104@L=900980701@\",\"type\":\"P\",\"name\":\"Berlin, Theater unterm Dach\",\"icoX\":1,\"extId\":\"900980701\",\"state\":\"F\",\"crd\":{\"x\":13430936,\"y\":52537482,\"layerX\":0,\"crdSysX\":0},\"dist\":158,\"dur\":309}]}}]}\n",
    "\"\"\"\n",
    "resp = json.loads(rp)\n",
    "a = resp[\"svcResL\"][1]['res']['locL'][0]['extId']\n",
    "b = resp[\"svcResL\"][1]['res']['locL'][0]['type']\n",
    "print(a,b)\n",
    "\n",
    "resp"
   ]
  },
  {
   "cell_type": "code",
   "execution_count": null,
   "id": "a806b98a",
   "metadata": {
    "scrolled": false
   },
   "outputs": [],
   "source": [
    "import geopy.distance\n",
    "\n",
    "F = 10E-7\n",
    "def distance(x,y,x2,y2):\n",
    "    coords_1 = (y*F, x*F)\n",
    "    coords_2 = (y2*F, x2*F)\n",
    "    return geopy.distance.distance(coords_1, coords_2).km\n",
    "\n",
    "\n",
    "F = 10E-7\n",
    "import json\n",
    "import requests\n",
    "url = \"http://bvg-apps-ext.hafas.de/bin/mgate.exe/mgate.exe\"\n",
    "s1 = '{\"auth\":{\"aid\":\"%s\",\"type\":\"AID\"},\"client\":{\"id\":\"BVG\",\"type\":\"AND\"},\"ext\":\"BVG.1\",\"ver\":\"1.18\",\"lang\":\"eng\",\"svcReqL\":[{\"meth\":\"ServerInfo\",\"req\":{\"getServerDateTime\":true,\"getTimeTablePeriod\":false}},{\"meth\":\"LocGeoPos\",\"cfg\":{\"polyEnc\":\"GPA\"},\"req\":{\"ring\":{\"cCrd\":{\"x\":%d,\"y\":%d},\"maxDist\":20000},\"getStops\":true,\"getPOIs\":true,\"maxLoc\":1}}],\"formatted\":false}'\n",
    "s1 = s1 % (key)\n",
    "teststops = []\n",
    "for x in range(13440000,13490000,2000):\n",
    "    print(x)\n",
    "    y= 52536099\n",
    "    \n",
    "    s1_con = s1 % (x,y)\n",
    "    print(distance(x*F,y*F,13430400*F,52536099*F))\n",
    "    data = json.loads(s1_con)\n",
    "    headers = {'Content-type': 'application/json', 'Accept': 'text/plain'}\n",
    "    r = requests.post(url, data=json.dumps(data), headers=headers)\n",
    "    #print(r.text)\n",
    "    resp = json.loads(r.text)\n",
    "    stop = resp[\"svcResL\"][1]['res']['locL'][0]['lid']\n",
    "    teststops.append(stop)"
   ]
  },
  {
   "cell_type": "code",
   "execution_count": null,
   "id": "59b6c2fa",
   "metadata": {},
   "outputs": [],
   "source": [
    "teststops"
   ]
  },
  {
   "cell_type": "code",
   "execution_count": null,
   "id": "819bf4c5",
   "metadata": {},
   "outputs": [],
   "source": [
    "#messung wie weit die generierte station und die urpsprünglichen koordinaten auseinander liegen\n",
    "#ist 350m wenig genug?\n",
    "distance(13355768,52635339,13350744,52636099)"
   ]
  },
  {
   "cell_type": "code",
   "execution_count": null,
   "id": "34dac6ee",
   "metadata": {},
   "outputs": [],
   "source": [
    "distance(13355000*F,52635000*F,13357000*F,52635000*F)*1000"
   ]
  },
  {
   "cell_type": "code",
   "execution_count": null,
   "id": "143abeb2",
   "metadata": {},
   "outputs": [],
   "source": [
    "import json\n",
    "import requests\n",
    "url = \"http://bvg-apps-ext.hafas.de/bin/mgate.exe/mgate.exe\"\n",
    "s1 = '{\"auth\":{\"aid\":\"%s\",\"type\":\"AID\"},\"client\":{\"id\":\"BVG\",\"type\":\"AND\"},\"ext\":\"BVG.1\",\"ver\":\"1.18\",\"lang\":\"eng\",\"svcReqL\":[{\"meth\":\"ServerInfo\",\"req\":{\"getServerDateTime\":true,\"getTimeTablePeriod\":false}},{\"meth\":\"TripSearch\",\"cfg\":{\"polyEnc\":\"GPA\"},\"req\":{\"depLocL\":[{\"type\":\"P\",\"lid\":\"A=4@O=Berlin, Prenzlkasper@X=13424679@Y=52536107@u=109@U=104@L=900980734@\"}],\"arrLocL\":[{\"type\":\"S\",\"extId\":\"900200507\"}],\"outDate\":\"20220202\",\"outTime\":\"120000\",\"outFrwd\":true,\"gisFltrL\":[{\"mode\":\"FB\",\"profile\":{\"type\":\"F\",\"linDistRouting\":false,\"maxdist\":2000},\"type\":\"M\",\"meta\":\"foot_speed_normal\"}],\"getPolyline\":true,\"getPasslist\":true,\"getConGroups\":false,\"getIST\":false,\"getEco\":false,\"extChgTime\":-1}}],\"formatted\":false}'\n",
    "s1 = s1 % (key)\n",
    "#s1 = s1 % (13430400,52536099)\n",
    "data = json.loads(s1)\n",
    "headers = {'Content-type': 'application/json', 'Accept': 'text/plain'}\n",
    "r = requests.post(url, data=json.dumps(data), headers=headers)\n",
    "#print(r.text)\n",
    "resp = json.loads(r.text)\n",
    "for x in range(len(resp['svcResL'][1]['res']['outConL'])):\n",
    "    print(resp['svcResL'][1]['res']['outConL'][x]['arr']['aTimeS'])\n",
    "\n",
    "    print(\"\")"
   ]
  },
  {
   "cell_type": "code",
   "execution_count": null,
   "id": "ebb26edc",
   "metadata": {},
   "outputs": [],
   "source": [
    "length = len(range(13368007,13390623,2000)) * len(range(52518214,52523802,2000))\n",
    "length2 = len(range(13368007,13390623,2000)) * len(range(52518214,52543802,2000))\n",
    "print(length)\n",
    "print(length2)"
   ]
  },
  {
   "cell_type": "code",
   "execution_count": null,
   "id": "6e38f2ce",
   "metadata": {
    "scrolled": true
   },
   "outputs": [],
   "source": [
    "import geopy.distance\n",
    "\n",
    "import json\n",
    "import requests\n",
    "#test setup: x,y\n",
    "#punkt 1:52523802, 13368007\n",
    "#punkt 2:52518214, 13390623\n",
    "#startpunkt beier\n",
    "#punkt 3:52541350,  13366540\n",
    "# x sind die 13er zahlen\n",
    "F = 10E-7\n",
    "def distance(x,y,x2,y2):\n",
    "    coords_1 = (y*F, x*F)\n",
    "    coords_2 = (y2*F, x2*F)\n",
    "    return geopy.distance.distance(coords_1, coords_2).km\n",
    "\n",
    "\n",
    "\n",
    "quit()\n",
    "atimes = []\n",
    "i =0\n",
    "\n",
    "#links oben moabit 52.53746136684121, 13.31176629214652\n",
    "#rechts unten moabit 52.51996891399787, 13.366440440707555\n",
    "#xxxxxxxxxx\n",
    "X1=13311766\n",
    "Y1=52519960\n",
    "\n",
    "\n",
    "X2=13366440\n",
    "Y2=52537461\n",
    "\n",
    "print(\"X distance gps\",X2-X1)\n",
    "print(\"Y distance gps\", Y2-Y1)\n",
    "\n",
    "print(\"X distance km\",distance(X1,Y1,X2,Y1))\n",
    "print(\"Y distance km\",distance(X2,Y1,X2,Y2))\n",
    "\n",
    "length = len(range(X1,X2,2000)) * len(range(Y1,Y2,2000))\n",
    "print(\"anzahl berechnungen:\",length)\n",
    "\n",
    "start_lid = get_lid(13366540,52541350)\n",
    "print(start_lid)\n",
    "\n",
    "\n",
    "for x in range(13368007,13390623,2000):\n",
    "    for y in range(52518214,52543802,2000):\n",
    "        try:\n",
    "            print(x,y)\n",
    "            i+=1\n",
    "            print(i/length*100,\"% Fortschritt, es fehlen \",length - i)\n",
    "\n",
    "            dest = get_dest(x,y)\n",
    "            #print(get_lid(x,y))\n",
    "            print(\"destination paramteres:\",dest)\n",
    "            time = get_traveltime(start_lid,dest)\n",
    "            print(time)\n",
    "            f = open(\"results3.txt\",\"a+\")\n",
    "            f.write(str(x)+\",\"+str(y)+\",\"+str(i)+\",\"+str(time)+\"\\n\")\n",
    "            f.close()\n",
    "\n",
    "            #print(distance(13366540,52541350,x,y))\n",
    "            atimes.append((x,y,time))\n",
    "        except ValueError:\n",
    "            with open(\"results3.txt\",\"a+\") as f:\n",
    "                f.write(\"error\"+str(i)+\",x=\"+str(x)+\", \"+str(y)+\"\\n\")\n",
    "\n",
    "            continue\n",
    "            \n",
    "            \n",
    "            "
   ]
  },
  {
   "cell_type": "code",
   "execution_count": null,
   "id": "dedab06f",
   "metadata": {
    "scrolled": false
   },
   "outputs": [],
   "source": [
    "def get_lid(x,y):\n",
    "    url = \"http://bvg-apps-ext.hafas.de/bin/mgate.exe/mgate.exe\"\n",
    "    s1 = '{\"auth\":{\"aid\":\"%s\",\"type\":\"AID\"},\"client\":{\"id\":\"BVG\",\"type\":\"AND\"},\"ext\":\"BVG.1\",\"ver\":\"1.18\",\"lang\":\"eng\",\"svcReqL\":[{\"meth\":\"ServerInfo\",\"req\":{\"getServerDateTime\":true,\"getTimeTablePeriod\":false}},{\"meth\":\"LocGeoPos\",\"cfg\":{\"polyEnc\":\"GPA\"},\"req\":{\"ring\":{\"cCrd\":{\"x\":%d,\"y\":%d},\"maxDist\":20000},\"getStops\":true,\"getPOIs\":true,\"maxLoc\":1}}],\"formatted\":false}'\n",
    "    s1 = s1 % (key,x,y)\n",
    "    data = json.loads(s1)\n",
    "    headers = {'Content-type': 'application/json', 'Accept': 'text/plain'}\n",
    "    r = requests.post(url, data=json.dumps(data), headers=headers)\n",
    "    #print(r.text)\n",
    "    resp = json.loads(r.text)\n",
    "    return resp[\"svcResL\"][1]['res']['locL'][0]['lid']\n",
    "\n",
    "def get_dest(x,y):\n",
    "    url = \"http://bvg-apps-ext.hafas.de/bin/mgate.exe/mgate.exe\"\n",
    "    s1 = '{\"auth\":{\"aid\":\"%s\",\"type\":\"AID\"},\"client\":{\"id\":\"BVG\",\"type\":\"AND\"},\"ext\":\"BVG.1\",\"ver\":\"1.18\",\"lang\":\"eng\",\"svcReqL\":[{\"meth\":\"ServerInfo\",\"req\":{\"getServerDateTime\":true,\"getTimeTablePeriod\":false}},{\"meth\":\"LocGeoPos\",\"cfg\":{\"polyEnc\":\"GPA\"},\"req\":{\"ring\":{\"cCrd\":{\"x\":%d,\"y\":%d},\"maxDist\":20000},\"getStops\":true,\"getPOIs\":true,\"maxLoc\":1}}],\"formatted\":false}'\n",
    "    s1 = s1 % (key,x,y)\n",
    "    data = json.loads(s1)\n",
    "    headers = {'Content-type': 'application/json', 'Accept': 'text/plain'}\n",
    "    r = requests.post(url, data=json.dumps(data), headers=headers)\n",
    "    #print(r.text)\n",
    "    resp = json.loads(r.text)\n",
    "    e = resp[\"svcResL\"][1]['res']['locL'][0]['extId']\n",
    "    t = resp[\"svcResL\"][1]['res']['locL'][0]['type']\n",
    "    return (e,t)\n",
    "\n",
    "def get_traveltime(start_lid,dest):\n",
    "    extId = dest[0]\n",
    "    dest_type = dest[1]\n",
    "    url = \"http://bvg-apps-ext.hafas.de/bin/mgate.exe/mgate.exe\"\n",
    "    s1 = '{\"auth\":{\"aid\":\"%s\",\"type\":\"AID\"},\"client\":{\"id\":\"BVG\",\"type\":\"AND\"},\"ext\":\"BVG.1\",\"ver\":\"1.18\",\"lang\":\"eng\",\"svcReqL\":[{\"meth\":\"ServerInfo\",\"req\":{\"getServerDateTime\":true,\"getTimeTablePeriod\":false}},{\"meth\":\"TripSearch\",\"cfg\":{\"polyEnc\":\"GPA\"},\"req\":{\"depLocL\":[{\"type\":\"P\",\"lid\":\"%s\"}],\"arrLocL\":[{\"type\":\"%s\",\"extId\":\"%s\"}],\"outDate\":\"20220202\",\"outTime\":\"120000\",\"outFrwd\":true,\"gisFltrL\":[{\"mode\":\"FB\",\"profile\":{\"type\":\"F\",\"linDistRouting\":false,\"maxdist\":2000},\"type\":\"M\",\"meta\":\"foot_speed_normal\"}],\"getPolyline\":true,\"getPasslist\":true,\"getConGroups\":false,\"getIST\":false,\"getEco\":false,\"extChgTime\":-1}}],\"formatted\":false}'\n",
    "    #s1: 1. lid, 2. type, 3. extId\n",
    "    s1 = s1 % (key,start_lid,dest_type, extId)\n",
    "    data = json.loads(s1)\n",
    "    headers = {'Content-type': 'application/json', 'Accept': 'text/plain'}\n",
    "    r = requests.post(url, data=json.dumps(data), headers=headers)\n",
    "    #print(r.text)\n",
    "    resp = json.loads(r.text)\n",
    "    #for x in range(len(resp['svcResL'][1]['res']['outConL'])):\n",
    "    try:\n",
    "        aTime = resp['svcResL'][1]['res']['outConL'][0]['arr']['aTimeS']\n",
    "        print(resp['svcResL'][1]['res']['outConL'][0]['arr'])\n",
    "    except:\n",
    "        print(\"error!\")\n",
    "        print(resp)\n",
    "        return None\n",
    "    if aTime == None:\n",
    "        print(resp['svcResL'][1]['res']['outConL'][0]['arr'])\n",
    "\n",
    "        return None\n",
    "    return int(aTime)\n"
   ]
  },
  {
   "cell_type": "code",
   "execution_count": null,
   "id": "9315652f",
   "metadata": {},
   "outputs": [],
   "source": [
    "with open(\"results2.txt\") as r:\n",
    "        X = []\n",
    "        Y = []\n",
    "        L = []\n",
    "        for l in r:\n",
    "            if \"error\" in l:\n",
    "                continue\n",
    "            x = l.split(\",\")[0]\n",
    "            y = l.split(\",\")[1]\n",
    "            time = l.split(\",\")[3]\n",
    "            hour = time[0:2]\n",
    "            minutes = time[2:4]\n",
    "            length = int(minutes) + (int(hour) - 12)*60\n",
    "            #print(length)\n",
    "            X.append(int(x))\n",
    "            Y.append(int(y))\n",
    "            L.append(length)"
   ]
  },
  {
   "cell_type": "code",
   "execution_count": null,
   "id": "adcc7a71",
   "metadata": {},
   "outputs": [],
   "source": [
    "len(L)"
   ]
  },
  {
   "cell_type": "code",
   "execution_count": null,
   "id": "9615b355",
   "metadata": {},
   "outputs": [],
   "source": [
    "from mpl_toolkits.mplot3d import Axes3D\n",
    "import matplotlib.pyplot as plt\n",
    "from matplotlib import cm\n",
    "import numpy as np\n",
    "from sys import argv\n",
    "import matplotlib.pyplot as plt\n",
    "ax = plt.axes(projection='3d')\n",
    "from mpl_toolkits import mplot3d\n",
    "import matplotlib.animation as animation\n",
    "import numpy as np\n",
    "#fig, ax = plt.subplots(subplot_kw={\"projection\": \"3d\"})\n",
    "#ax.scatter3D(np.array(X),np.array(Y),np.array(length))\n",
    "\n",
    "#ax.scatter3D(X,Y,L,c=L)\n",
    "\n",
    "fig = plt.figure()\n",
    "ax = Axes3D(fig)\n",
    "ax.view_init(azim=180)\n",
    "\n",
    "surf = ax.plot_trisurf(X, Y, L, cmap=cm.jet, linewidth=0.1)\n",
    "fig.colorbar(surf, shrink=0.5, aspect=5)\n",
    "plt.savefig('teste.pdf')\n",
    "plt.show()\n",
    "\n",
    "\n",
    "\n",
    "print(\"Making animation\")\n"
   ]
  }
 ],
 "metadata": {
  "kernelspec": {
   "display_name": "Python 3",
   "language": "python",
   "name": "python3"
  },
  "language_info": {
   "codemirror_mode": {
    "name": "ipython",
    "version": 3
   },
   "file_extension": ".py",
   "mimetype": "text/x-python",
   "name": "python",
   "nbconvert_exporter": "python",
   "pygments_lexer": "ipython3",
   "version": "3.8.10"
  }
 },
 "nbformat": 4,
 "nbformat_minor": 5
}
