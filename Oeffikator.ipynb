{
 "cells": [
  {
   "cell_type": "markdown",
   "id": "aa9c3c26",
   "metadata": {},
   "source": [
    "# Oeffikator"
   ]
  },
  {
   "cell_type": "markdown",
   "id": "d7ddde4b",
   "metadata": {},
   "source": [
    "## Get your authentification key\n",
    "Before we get started, let's read or locally stored auth key."
   ]
  },
  {
   "cell_type": "code",
   "execution_count": 21,
   "id": "9185a709",
   "metadata": {},
   "outputs": [],
   "source": [
    "with open(\"AUTHKEY.txt\") as keyfile:\n",
    "        key = keyfile.read().splitlines()[0]"
   ]
  },
  {
   "cell_type": "code",
   "execution_count": 22,
   "id": "a4c050d6",
   "metadata": {},
   "outputs": [
    {
     "data": {
      "text/plain": [
       "'A=4@O=Berlin, Theater unterm Dach@X=13430936@Y=52537482@u=158@U=104@L=900980701@'"
      ]
     },
     "execution_count": 22,
     "metadata": {},
     "output_type": "execute_result"
    }
   ],
   "source": [
    "import json\n",
    "import requests\n",
    "url = \"http://bvg-apps-ext.hafas.de/bin/mgate.exe/mgate.exe\"\n",
    "s1 = '{\"auth\":{\"aid\":\"%s\",\"type\":\"AID\"},\"client\":{\"id\":\"BVG\",\"type\":\"AND\"},\"ext\":\"BVG.1\",\"ver\":\"1.18\",\"lang\":\"eng\",\"svcReqL\":[{\"meth\":\"ServerInfo\",\"req\":{\"getServerDateTime\":true,\"getTimeTablePeriod\":false}},{\"meth\":\"LocGeoPos\",\"cfg\":{\"polyEnc\":\"GPA\"},\"req\":{\"ring\":{\"cCrd\":{\"x\":%d,\"y\":%d},\"maxDist\":20000},\"getStops\":true,\"getPOIs\":true,\"maxLoc\":1}}],\"formatted\":false}'\n",
    "s1 = s1 % (key,13430400,52536099)\n",
    "data = json.loads(s1)\n",
    "headers = {'Content-type': 'application/json', 'Accept': 'text/plain'}\n",
    "r = requests.post(url, data=json.dumps(data), headers=headers)\n",
    "#print(r.text)\n",
    "resp = json.loads(r.text)\n",
    "resp[\"svcResL\"][1]['res']['locL'][0]['lid']"
   ]
  },
  {
   "cell_type": "code",
   "execution_count": 145,
   "id": "c77d3f29",
   "metadata": {},
   "outputs": [
    {
     "name": "stdout",
     "output_type": "stream",
     "text": [
      "900980701 P\n"
     ]
    },
    {
     "data": {
      "text/plain": [
       "{'ver': '1.18',\n",
       " 'ext': 'BVG.1',\n",
       " 'lang': 'eng',\n",
       " 'id': 'tm2ktgxukkk3y2wg',\n",
       " 'err': 'OK',\n",
       " 'svcResL': [{'meth': 'ServerInfo',\n",
       "   'err': 'OK',\n",
       "   'res': {'common': {'locL': [],\n",
       "     'prodL': [],\n",
       "     'polyL': [],\n",
       "     'layerL': [{'id': 'standard',\n",
       "       'name': 'standard',\n",
       "       'index': 0,\n",
       "       'annoCnt': 0}],\n",
       "     'crdSysL': [{'id': 'standard', 'index': 0, 'type': 'WGS84'}],\n",
       "     'opL': [],\n",
       "     'remL': [],\n",
       "     'icoL': []},\n",
       "    'sD': '20220202',\n",
       "    'sT': '114242',\n",
       "    'enc': 'ISO-8859-1',\n",
       "    'planrtTS': '1643798528'}},\n",
       "  {'meth': 'LocGeoPos',\n",
       "   'err': 'OK',\n",
       "   'res': {'common': {'locL': [],\n",
       "     'prodL': [{'pid': 'L::2::Tram::B3041857784::Tram_3041857784_M10::*',\n",
       "       'name': 'M10',\n",
       "       'nameS': 'M10',\n",
       "       'icoX': 0,\n",
       "       'cls': 4,\n",
       "       'prodCtx': {'name': 'M10',\n",
       "        'line': 'M10',\n",
       "        'lineId': 'M10',\n",
       "        'catOut': 'Tram    ',\n",
       "        'catOutS': 'T',\n",
       "        'catOutL': 'Tram    '},\n",
       "       'himIdL': ['HIM_FREETEXT_75748', 'HIM_FREETEXT_52249']}],\n",
       "     'polyL': [],\n",
       "     'layerL': [{'id': 'standard',\n",
       "       'name': 'standard',\n",
       "       'index': 0,\n",
       "       'annoCnt': 0}],\n",
       "     'crdSysL': [{'id': 'standard', 'index': 0, 'type': 'WGS84'}],\n",
       "     'opL': [],\n",
       "     'remL': [],\n",
       "     'icoL': [{'res': 'prod_gen'}, {'res': 'POI'}]},\n",
       "    'locL': [{'lid': 'A=4@O=Berlin, Theater unterm Dach@X=13430936@Y=52537482@u=158@U=104@L=900980701@',\n",
       "      'type': 'P',\n",
       "      'name': 'Berlin, Theater unterm Dach',\n",
       "      'icoX': 1,\n",
       "      'extId': '900980701',\n",
       "      'state': 'F',\n",
       "      'crd': {'x': 13430936, 'y': 52537482, 'layerX': 0, 'crdSysX': 0},\n",
       "      'dist': 158,\n",
       "      'dur': 309}]}}]}"
      ]
     },
     "execution_count": 145,
     "metadata": {},
     "output_type": "execute_result"
    }
   ],
   "source": [
    "rp = \"\"\"{\"ver\":\"1.18\",\"ext\":\"BVG.1\",\"lang\":\"eng\",\"id\":\"tm2ktgxukkk3y2wg\",\"err\":\"OK\",\"svcResL\":[{\"meth\":\"ServerInfo\",\"err\":\"OK\",\"res\":{\"common\":{\"locL\":[],\"prodL\":[],\"polyL\":[],\"layerL\":[{\"id\":\"standard\",\"name\":\"standard\",\"index\":0,\"annoCnt\":0}],\"crdSysL\":[{\"id\":\"standard\",\"index\":0,\"type\":\"WGS84\"}],\"opL\":[],\"remL\":[],\"icoL\":[]},\"sD\":\"20220202\",\"sT\":\"114242\",\"enc\":\"ISO-8859-1\",\"planrtTS\":\"1643798528\"}},{\"meth\":\"LocGeoPos\",\"err\":\"OK\",\"res\":{\"common\":{\"locL\":[],\"prodL\":[{\"pid\":\"L::2::Tram::B3041857784::Tram_3041857784_M10::*\",\"name\":\"M10\",\"nameS\":\"M10\",\"icoX\":0,\"cls\":4,\"prodCtx\":{\"name\":\"M10\",\"line\":\"M10\",\"lineId\":\"M10\",\"catOut\":\"Tram    \",\"catOutS\":\"T\",\"catOutL\":\"Tram    \"},\"himIdL\":[\"HIM_FREETEXT_75748\",\"HIM_FREETEXT_52249\"]}],\"polyL\":[],\"layerL\":[{\"id\":\"standard\",\"name\":\"standard\",\"index\":0,\"annoCnt\":0}],\"crdSysL\":[{\"id\":\"standard\",\"index\":0,\"type\":\"WGS84\"}],\"opL\":[],\"remL\":[],\"icoL\":[{\"res\":\"prod_gen\"},{\"res\":\"POI\"}]},\"locL\":[{\"lid\":\"A=4@O=Berlin, Theater unterm Dach@X=13430936@Y=52537482@u=158@U=104@L=900980701@\",\"type\":\"P\",\"name\":\"Berlin, Theater unterm Dach\",\"icoX\":1,\"extId\":\"900980701\",\"state\":\"F\",\"crd\":{\"x\":13430936,\"y\":52537482,\"layerX\":0,\"crdSysX\":0},\"dist\":158,\"dur\":309}]}}]}\n",
    "\"\"\"\n",
    "resp = json.loads(rp)\n",
    "a = resp[\"svcResL\"][1]['res']['locL'][0]['extId']\n",
    "b = resp[\"svcResL\"][1]['res']['locL'][0]['type']\n",
    "print(a,b)\n",
    "\n",
    "resp"
   ]
  },
  {
   "cell_type": "code",
   "execution_count": 71,
   "id": "a806b98a",
   "metadata": {
    "scrolled": false
   },
   "outputs": [
    {
     "name": "stdout",
     "output_type": "stream",
     "text": [
      "13440000\n",
      "0.6514041417555199\n",
      "13447000\n",
      "1.1263863268002978\n",
      "13454000\n",
      "1.601368509196995\n",
      "13461000\n",
      "2.076350687828952\n",
      "13468000\n",
      "2.5513328615796285\n",
      "13475000\n",
      "3.0263150293321215\n",
      "13482000\n",
      "3.5012971899698933\n",
      "13489000\n",
      "3.9762793423762823\n"
     ]
    }
   ],
   "source": [
    "import geopy.distance\n",
    "\n",
    "F = 10E-7\n",
    "def distance(x,y,x2,y2):\n",
    "    coords_1 = (y*F, x*F)\n",
    "    coords_2 = (y2*F, x2*F)\n",
    "    return geopy.distance.distance(coords_1, coords_2).km\n",
    "\n",
    "\n",
    "F = 10E-7\n",
    "import json\n",
    "import requests\n",
    "url = \"http://bvg-apps-ext.hafas.de/bin/mgate.exe/mgate.exe\"\n",
    "s1 = '{\"auth\":{\"aid\":\"%s\",\"type\":\"AID\"},\"client\":{\"id\":\"BVG\",\"type\":\"AND\"},\"ext\":\"BVG.1\",\"ver\":\"1.18\",\"lang\":\"eng\",\"svcReqL\":[{\"meth\":\"ServerInfo\",\"req\":{\"getServerDateTime\":true,\"getTimeTablePeriod\":false}},{\"meth\":\"LocGeoPos\",\"cfg\":{\"polyEnc\":\"GPA\"},\"req\":{\"ring\":{\"cCrd\":{\"x\":%d,\"y\":%d},\"maxDist\":20000},\"getStops\":true,\"getPOIs\":true,\"maxLoc\":1}}],\"formatted\":false}'\n",
    "s1 = s1 % (key)\n",
    "teststops = []\n",
    "for x in range(13440000,13490000,2000):\n",
    "    print(x)\n",
    "    y= 52536099\n",
    "    \n",
    "    s1_con = s1 % (x,y)\n",
    "    print(distance(x*F,y*F,13430400*F,52536099*F))\n",
    "    data = json.loads(s1_con)\n",
    "    headers = {'Content-type': 'application/json', 'Accept': 'text/plain'}\n",
    "    r = requests.post(url, data=json.dumps(data), headers=headers)\n",
    "    #print(r.text)\n",
    "    resp = json.loads(r.text)\n",
    "    stop = resp[\"svcResL\"][1]['res']['locL'][0]['lid']\n",
    "    teststops.append(stop)"
   ]
  },
  {
   "cell_type": "code",
   "execution_count": 72,
   "id": "59b6c2fa",
   "metadata": {},
   "outputs": [
    {
     "data": {
      "text/plain": [
       "['A=1@O=Arnswalder Platz (Berlin)@X=13437390@Y=52534093@u=284@U=86@L=900110025@',\n",
       " 'A=1@O=Kniprodestr./Storkower Str. (Berlin)@X=13449562@Y=52537185@u=211@U=86@L=900110026@',\n",
       " 'A=1@O=Storkower Str./Gewerbegebiet (Berlin)@X=13451755@Y=52535334@u=190@U=86@L=900110526@',\n",
       " 'A=4@O=Berlin, Sportplatz am Volkspark Prenzlauer Berg@X=13468313@Y=52536080@u=495@U=104@L=900981283@',\n",
       " 'A=4@O=Berlin, Sportplatz am Volkspark Prenzlauer Berg@X=13468313@Y=52536080@u=21@U=104@L=900981283@',\n",
       " 'A=1@O=Hohenschönhauser Str. (Berlin)@X=13473823@Y=52535585@u=97@U=86@L=900150711@',\n",
       " 'A=1@O=Altenhofer Str. (Berlin)@X=13480170@Y=52534929@u=179@U=86@L=900150509@',\n",
       " 'A=1@O=Zechliner Str. (Berlin)@X=13487154@Y=52533949@u=269@U=86@L=900160513@']"
      ]
     },
     "execution_count": 72,
     "metadata": {},
     "output_type": "execute_result"
    }
   ],
   "source": [
    "teststops"
   ]
  },
  {
   "cell_type": "code",
   "execution_count": 119,
   "id": "819bf4c5",
   "metadata": {},
   "outputs": [
    {
     "data": {
      "text/plain": [
       "0.3504861181079758"
      ]
     },
     "execution_count": 119,
     "metadata": {},
     "output_type": "execute_result"
    }
   ],
   "source": [
    "#messung wie weit die generierte station und die urpsprünglichen koordinaten auseinander liegen\n",
    "#ist 350m wenig genug?\n",
    "distance(13355768,52635339,13350744,52636099)"
   ]
  },
  {
   "cell_type": "code",
   "execution_count": 126,
   "id": "34dac6ee",
   "metadata": {},
   "outputs": [
    {
     "data": {
      "text/plain": [
       "135.40406796948972"
      ]
     },
     "execution_count": 126,
     "metadata": {},
     "output_type": "execute_result"
    }
   ],
   "source": [
    "distance(13355000*F,52635000*F,13357000*F,52635000*F)*1000"
   ]
  },
  {
   "cell_type": "code",
   "execution_count": 117,
   "id": "143abeb2",
   "metadata": {},
   "outputs": [
    {
     "name": "stdout",
     "output_type": "stream",
     "text": [
      "130100\n",
      "\n",
      "130200\n",
      "\n",
      "132100\n",
      "\n"
     ]
    }
   ],
   "source": [
    "import json\n",
    "import requests\n",
    "url = \"http://bvg-apps-ext.hafas.de/bin/mgate.exe/mgate.exe\"\n",
    "s1 = '{\"auth\":{\"aid\":\"%s\",\"type\":\"AID\"},\"client\":{\"id\":\"BVG\",\"type\":\"AND\"},\"ext\":\"BVG.1\",\"ver\":\"1.18\",\"lang\":\"eng\",\"svcReqL\":[{\"meth\":\"ServerInfo\",\"req\":{\"getServerDateTime\":true,\"getTimeTablePeriod\":false}},{\"meth\":\"TripSearch\",\"cfg\":{\"polyEnc\":\"GPA\"},\"req\":{\"depLocL\":[{\"type\":\"P\",\"lid\":\"A=4@O=Berlin, Prenzlkasper@X=13424679@Y=52536107@u=109@U=104@L=900980734@\"}],\"arrLocL\":[{\"type\":\"S\",\"extId\":\"900200507\"}],\"outDate\":\"20220202\",\"outTime\":\"120000\",\"outFrwd\":true,\"gisFltrL\":[{\"mode\":\"FB\",\"profile\":{\"type\":\"F\",\"linDistRouting\":false,\"maxdist\":2000},\"type\":\"M\",\"meta\":\"foot_speed_normal\"}],\"getPolyline\":true,\"getPasslist\":true,\"getConGroups\":false,\"getIST\":false,\"getEco\":false,\"extChgTime\":-1}}],\"formatted\":false}'\n",
    "s1 = s1 % (key)\n",
    "#s1 = s1 % (13430400,52536099)\n",
    "data = json.loads(s1)\n",
    "headers = {'Content-type': 'application/json', 'Accept': 'text/plain'}\n",
    "r = requests.post(url, data=json.dumps(data), headers=headers)\n",
    "#print(r.text)\n",
    "resp = json.loads(r.text)\n",
    "for x in range(len(resp['svcResL'][1]['res']['outConL'])):\n",
    "    print(resp['svcResL'][1]['res']['outConL'][x]['arr']['aTimeS'])\n",
    "\n",
    "    print(\"\")"
   ]
  },
  {
   "cell_type": "code",
   "execution_count": 4,
   "id": "ebb26edc",
   "metadata": {},
   "outputs": [
    {
     "name": "stdout",
     "output_type": "stream",
     "text": [
      "36\n",
      "156\n"
     ]
    }
   ],
   "source": [
    "length = len(range(13368007,13390623,2000)) * len(range(52518214,52523802,2000))\n",
    "length2 = len(range(13368007,13390623,2000)) * len(range(52518214,52543802,2000))\n",
    "print(length)\n",
    "print(length2)"
   ]
  },
  {
   "cell_type": "code",
   "execution_count": 2,
   "id": "6e38f2ce",
   "metadata": {
    "scrolled": true
   },
   "outputs": [
    {
     "name": "stdout",
     "output_type": "stream",
     "text": [
      "X distance gps 54674\n",
      "Y distance gps 17501\n",
      "X distance km 3.711242311869597\n",
      "Y distance km 1.947465357513018\n",
      "anzahl berechnungen: 252\n",
      "A=1@O=U Reinickendorfer Str./Fennstr. (Berlin)@X=13368713@Y=52541195@u=148@U=86@L=900008104@\n",
      "13368007 52518214\n",
      "0.3968253968253968 % Fortschritt, es fehlen  251\n",
      "destination paramteres: ('900980718', 'P')\n",
      "{'locX': 1, 'aOutR': True, 'aTimeS': '122300', 'type': 'N'}\n",
      "122300\n",
      "13368007 52520214\n",
      "0.7936507936507936 % Fortschritt, es fehlen  250\n",
      "destination paramteres: ('900981032', 'P')\n",
      "{'locX': 1, 'aOutR': True, 'aTimeS': '122100', 'type': 'N'}\n",
      "122100\n",
      "13368007 52522214\n",
      "1.1904761904761905 % Fortschritt, es fehlen  249\n"
     ]
    },
    {
     "ename": "KeyboardInterrupt",
     "evalue": "",
     "output_type": "error",
     "traceback": [
      "\u001b[0;31m---------------------------------------------------------------------------\u001b[0m",
      "\u001b[0;31mKeyboardInterrupt\u001b[0m                         Traceback (most recent call last)",
      "Input \u001b[0;32mIn [2]\u001b[0m, in \u001b[0;36m<module>\u001b[0;34m\u001b[0m\n\u001b[1;32m     50\u001b[0m i\u001b[38;5;241m+\u001b[39m\u001b[38;5;241m=\u001b[39m\u001b[38;5;241m1\u001b[39m\n\u001b[1;32m     51\u001b[0m \u001b[38;5;28mprint\u001b[39m(i\u001b[38;5;241m/\u001b[39mlength\u001b[38;5;241m*\u001b[39m\u001b[38;5;241m100\u001b[39m,\u001b[38;5;124m\"\u001b[39m\u001b[38;5;132;01m% F\u001b[39;00m\u001b[38;5;124mortschritt, es fehlen \u001b[39m\u001b[38;5;124m\"\u001b[39m,length \u001b[38;5;241m-\u001b[39m i)\n\u001b[0;32m---> 53\u001b[0m dest \u001b[38;5;241m=\u001b[39m \u001b[43mget_dest\u001b[49m\u001b[43m(\u001b[49m\u001b[43mx\u001b[49m\u001b[43m,\u001b[49m\u001b[43my\u001b[49m\u001b[43m)\u001b[49m\n\u001b[1;32m     54\u001b[0m \u001b[38;5;66;03m#print(get_lid(x,y))\u001b[39;00m\n\u001b[1;32m     55\u001b[0m \u001b[38;5;28mprint\u001b[39m(\u001b[38;5;124m\"\u001b[39m\u001b[38;5;124mdestination paramteres:\u001b[39m\u001b[38;5;124m\"\u001b[39m,dest)\n",
      "Input \u001b[0;32mIn [1]\u001b[0m, in \u001b[0;36mget_dest\u001b[0;34m(x, y)\u001b[0m\n\u001b[1;32m     16\u001b[0m data \u001b[38;5;241m=\u001b[39m json\u001b[38;5;241m.\u001b[39mloads(s1)\n\u001b[1;32m     17\u001b[0m headers \u001b[38;5;241m=\u001b[39m {\u001b[38;5;124m'\u001b[39m\u001b[38;5;124mContent-type\u001b[39m\u001b[38;5;124m'\u001b[39m: \u001b[38;5;124m'\u001b[39m\u001b[38;5;124mapplication/json\u001b[39m\u001b[38;5;124m'\u001b[39m, \u001b[38;5;124m'\u001b[39m\u001b[38;5;124mAccept\u001b[39m\u001b[38;5;124m'\u001b[39m: \u001b[38;5;124m'\u001b[39m\u001b[38;5;124mtext/plain\u001b[39m\u001b[38;5;124m'\u001b[39m}\n\u001b[0;32m---> 18\u001b[0m r \u001b[38;5;241m=\u001b[39m \u001b[43mrequests\u001b[49m\u001b[38;5;241;43m.\u001b[39;49m\u001b[43mpost\u001b[49m\u001b[43m(\u001b[49m\u001b[43murl\u001b[49m\u001b[43m,\u001b[49m\u001b[43m \u001b[49m\u001b[43mdata\u001b[49m\u001b[38;5;241;43m=\u001b[39;49m\u001b[43mjson\u001b[49m\u001b[38;5;241;43m.\u001b[39;49m\u001b[43mdumps\u001b[49m\u001b[43m(\u001b[49m\u001b[43mdata\u001b[49m\u001b[43m)\u001b[49m\u001b[43m,\u001b[49m\u001b[43m \u001b[49m\u001b[43mheaders\u001b[49m\u001b[38;5;241;43m=\u001b[39;49m\u001b[43mheaders\u001b[49m\u001b[43m)\u001b[49m\n\u001b[1;32m     19\u001b[0m \u001b[38;5;66;03m#print(r.text)\u001b[39;00m\n\u001b[1;32m     20\u001b[0m resp \u001b[38;5;241m=\u001b[39m json\u001b[38;5;241m.\u001b[39mloads(r\u001b[38;5;241m.\u001b[39mtext)\n",
      "File \u001b[0;32m/usr/lib/python3/dist-packages/requests/api.py:119\u001b[0m, in \u001b[0;36mpost\u001b[0;34m(url, data, json, **kwargs)\u001b[0m\n\u001b[1;32m    107\u001b[0m \u001b[38;5;28;01mdef\u001b[39;00m \u001b[38;5;21mpost\u001b[39m(url, data\u001b[38;5;241m=\u001b[39m\u001b[38;5;28;01mNone\u001b[39;00m, json\u001b[38;5;241m=\u001b[39m\u001b[38;5;28;01mNone\u001b[39;00m, \u001b[38;5;241m*\u001b[39m\u001b[38;5;241m*\u001b[39mkwargs):\n\u001b[1;32m    108\u001b[0m     \u001b[38;5;124mr\u001b[39m\u001b[38;5;124;03m\"\"\"Sends a POST request.\u001b[39;00m\n\u001b[1;32m    109\u001b[0m \n\u001b[1;32m    110\u001b[0m \u001b[38;5;124;03m    :param url: URL for the new :class:`Request` object.\u001b[39;00m\n\u001b[0;32m   (...)\u001b[0m\n\u001b[1;32m    116\u001b[0m \u001b[38;5;124;03m    :rtype: requests.Response\u001b[39;00m\n\u001b[1;32m    117\u001b[0m \u001b[38;5;124;03m    \"\"\"\u001b[39;00m\n\u001b[0;32m--> 119\u001b[0m     \u001b[38;5;28;01mreturn\u001b[39;00m \u001b[43mrequest\u001b[49m\u001b[43m(\u001b[49m\u001b[38;5;124;43m'\u001b[39;49m\u001b[38;5;124;43mpost\u001b[39;49m\u001b[38;5;124;43m'\u001b[39;49m\u001b[43m,\u001b[49m\u001b[43m \u001b[49m\u001b[43murl\u001b[49m\u001b[43m,\u001b[49m\u001b[43m \u001b[49m\u001b[43mdata\u001b[49m\u001b[38;5;241;43m=\u001b[39;49m\u001b[43mdata\u001b[49m\u001b[43m,\u001b[49m\u001b[43m \u001b[49m\u001b[43mjson\u001b[49m\u001b[38;5;241;43m=\u001b[39;49m\u001b[43mjson\u001b[49m\u001b[43m,\u001b[49m\u001b[43m \u001b[49m\u001b[38;5;241;43m*\u001b[39;49m\u001b[38;5;241;43m*\u001b[39;49m\u001b[43mkwargs\u001b[49m\u001b[43m)\u001b[49m\n",
      "File \u001b[0;32m/usr/lib/python3/dist-packages/requests/api.py:61\u001b[0m, in \u001b[0;36mrequest\u001b[0;34m(method, url, **kwargs)\u001b[0m\n\u001b[1;32m     57\u001b[0m \u001b[38;5;66;03m# By using the 'with' statement we are sure the session is closed, thus we\u001b[39;00m\n\u001b[1;32m     58\u001b[0m \u001b[38;5;66;03m# avoid leaving sockets open which can trigger a ResourceWarning in some\u001b[39;00m\n\u001b[1;32m     59\u001b[0m \u001b[38;5;66;03m# cases, and look like a memory leak in others.\u001b[39;00m\n\u001b[1;32m     60\u001b[0m \u001b[38;5;28;01mwith\u001b[39;00m sessions\u001b[38;5;241m.\u001b[39mSession() \u001b[38;5;28;01mas\u001b[39;00m session:\n\u001b[0;32m---> 61\u001b[0m     \u001b[38;5;28;01mreturn\u001b[39;00m \u001b[43msession\u001b[49m\u001b[38;5;241;43m.\u001b[39;49m\u001b[43mrequest\u001b[49m\u001b[43m(\u001b[49m\u001b[43mmethod\u001b[49m\u001b[38;5;241;43m=\u001b[39;49m\u001b[43mmethod\u001b[49m\u001b[43m,\u001b[49m\u001b[43m \u001b[49m\u001b[43murl\u001b[49m\u001b[38;5;241;43m=\u001b[39;49m\u001b[43murl\u001b[49m\u001b[43m,\u001b[49m\u001b[43m \u001b[49m\u001b[38;5;241;43m*\u001b[39;49m\u001b[38;5;241;43m*\u001b[39;49m\u001b[43mkwargs\u001b[49m\u001b[43m)\u001b[49m\n",
      "File \u001b[0;32m/usr/lib/python3/dist-packages/requests/sessions.py:542\u001b[0m, in \u001b[0;36mSession.request\u001b[0;34m(self, method, url, params, data, headers, cookies, files, auth, timeout, allow_redirects, proxies, hooks, stream, verify, cert, json)\u001b[0m\n\u001b[1;32m    537\u001b[0m send_kwargs \u001b[38;5;241m=\u001b[39m {\n\u001b[1;32m    538\u001b[0m     \u001b[38;5;124m'\u001b[39m\u001b[38;5;124mtimeout\u001b[39m\u001b[38;5;124m'\u001b[39m: timeout,\n\u001b[1;32m    539\u001b[0m     \u001b[38;5;124m'\u001b[39m\u001b[38;5;124mallow_redirects\u001b[39m\u001b[38;5;124m'\u001b[39m: allow_redirects,\n\u001b[1;32m    540\u001b[0m }\n\u001b[1;32m    541\u001b[0m send_kwargs\u001b[38;5;241m.\u001b[39mupdate(settings)\n\u001b[0;32m--> 542\u001b[0m resp \u001b[38;5;241m=\u001b[39m \u001b[38;5;28;43mself\u001b[39;49m\u001b[38;5;241;43m.\u001b[39;49m\u001b[43msend\u001b[49m\u001b[43m(\u001b[49m\u001b[43mprep\u001b[49m\u001b[43m,\u001b[49m\u001b[43m \u001b[49m\u001b[38;5;241;43m*\u001b[39;49m\u001b[38;5;241;43m*\u001b[39;49m\u001b[43msend_kwargs\u001b[49m\u001b[43m)\u001b[49m\n\u001b[1;32m    544\u001b[0m \u001b[38;5;28;01mreturn\u001b[39;00m resp\n",
      "File \u001b[0;32m/usr/lib/python3/dist-packages/requests/sessions.py:655\u001b[0m, in \u001b[0;36mSession.send\u001b[0;34m(self, request, **kwargs)\u001b[0m\n\u001b[1;32m    652\u001b[0m start \u001b[38;5;241m=\u001b[39m preferred_clock()\n\u001b[1;32m    654\u001b[0m \u001b[38;5;66;03m# Send the request\u001b[39;00m\n\u001b[0;32m--> 655\u001b[0m r \u001b[38;5;241m=\u001b[39m \u001b[43madapter\u001b[49m\u001b[38;5;241;43m.\u001b[39;49m\u001b[43msend\u001b[49m\u001b[43m(\u001b[49m\u001b[43mrequest\u001b[49m\u001b[43m,\u001b[49m\u001b[43m \u001b[49m\u001b[38;5;241;43m*\u001b[39;49m\u001b[38;5;241;43m*\u001b[39;49m\u001b[43mkwargs\u001b[49m\u001b[43m)\u001b[49m\n\u001b[1;32m    657\u001b[0m \u001b[38;5;66;03m# Total elapsed time of the request (approximately)\u001b[39;00m\n\u001b[1;32m    658\u001b[0m elapsed \u001b[38;5;241m=\u001b[39m preferred_clock() \u001b[38;5;241m-\u001b[39m start\n",
      "File \u001b[0;32m/usr/lib/python3/dist-packages/requests/adapters.py:439\u001b[0m, in \u001b[0;36mHTTPAdapter.send\u001b[0;34m(self, request, stream, timeout, verify, cert, proxies)\u001b[0m\n\u001b[1;32m    437\u001b[0m \u001b[38;5;28;01mtry\u001b[39;00m:\n\u001b[1;32m    438\u001b[0m     \u001b[38;5;28;01mif\u001b[39;00m \u001b[38;5;129;01mnot\u001b[39;00m chunked:\n\u001b[0;32m--> 439\u001b[0m         resp \u001b[38;5;241m=\u001b[39m \u001b[43mconn\u001b[49m\u001b[38;5;241;43m.\u001b[39;49m\u001b[43murlopen\u001b[49m\u001b[43m(\u001b[49m\n\u001b[1;32m    440\u001b[0m \u001b[43m            \u001b[49m\u001b[43mmethod\u001b[49m\u001b[38;5;241;43m=\u001b[39;49m\u001b[43mrequest\u001b[49m\u001b[38;5;241;43m.\u001b[39;49m\u001b[43mmethod\u001b[49m\u001b[43m,\u001b[49m\n\u001b[1;32m    441\u001b[0m \u001b[43m            \u001b[49m\u001b[43murl\u001b[49m\u001b[38;5;241;43m=\u001b[39;49m\u001b[43murl\u001b[49m\u001b[43m,\u001b[49m\n\u001b[1;32m    442\u001b[0m \u001b[43m            \u001b[49m\u001b[43mbody\u001b[49m\u001b[38;5;241;43m=\u001b[39;49m\u001b[43mrequest\u001b[49m\u001b[38;5;241;43m.\u001b[39;49m\u001b[43mbody\u001b[49m\u001b[43m,\u001b[49m\n\u001b[1;32m    443\u001b[0m \u001b[43m            \u001b[49m\u001b[43mheaders\u001b[49m\u001b[38;5;241;43m=\u001b[39;49m\u001b[43mrequest\u001b[49m\u001b[38;5;241;43m.\u001b[39;49m\u001b[43mheaders\u001b[49m\u001b[43m,\u001b[49m\n\u001b[1;32m    444\u001b[0m \u001b[43m            \u001b[49m\u001b[43mredirect\u001b[49m\u001b[38;5;241;43m=\u001b[39;49m\u001b[38;5;28;43;01mFalse\u001b[39;49;00m\u001b[43m,\u001b[49m\n\u001b[1;32m    445\u001b[0m \u001b[43m            \u001b[49m\u001b[43massert_same_host\u001b[49m\u001b[38;5;241;43m=\u001b[39;49m\u001b[38;5;28;43;01mFalse\u001b[39;49;00m\u001b[43m,\u001b[49m\n\u001b[1;32m    446\u001b[0m \u001b[43m            \u001b[49m\u001b[43mpreload_content\u001b[49m\u001b[38;5;241;43m=\u001b[39;49m\u001b[38;5;28;43;01mFalse\u001b[39;49;00m\u001b[43m,\u001b[49m\n\u001b[1;32m    447\u001b[0m \u001b[43m            \u001b[49m\u001b[43mdecode_content\u001b[49m\u001b[38;5;241;43m=\u001b[39;49m\u001b[38;5;28;43;01mFalse\u001b[39;49;00m\u001b[43m,\u001b[49m\n\u001b[1;32m    448\u001b[0m \u001b[43m            \u001b[49m\u001b[43mretries\u001b[49m\u001b[38;5;241;43m=\u001b[39;49m\u001b[38;5;28;43mself\u001b[39;49m\u001b[38;5;241;43m.\u001b[39;49m\u001b[43mmax_retries\u001b[49m\u001b[43m,\u001b[49m\n\u001b[1;32m    449\u001b[0m \u001b[43m            \u001b[49m\u001b[43mtimeout\u001b[49m\u001b[38;5;241;43m=\u001b[39;49m\u001b[43mtimeout\u001b[49m\n\u001b[1;32m    450\u001b[0m \u001b[43m        \u001b[49m\u001b[43m)\u001b[49m\n\u001b[1;32m    452\u001b[0m     \u001b[38;5;66;03m# Send the request.\u001b[39;00m\n\u001b[1;32m    453\u001b[0m     \u001b[38;5;28;01melse\u001b[39;00m:\n\u001b[1;32m    454\u001b[0m         \u001b[38;5;28;01mif\u001b[39;00m \u001b[38;5;28mhasattr\u001b[39m(conn, \u001b[38;5;124m'\u001b[39m\u001b[38;5;124mproxy_pool\u001b[39m\u001b[38;5;124m'\u001b[39m):\n",
      "File \u001b[0;32m/usr/lib/python3/dist-packages/urllib3/connectionpool.py:699\u001b[0m, in \u001b[0;36mHTTPConnectionPool.urlopen\u001b[0;34m(self, method, url, body, headers, retries, redirect, assert_same_host, timeout, pool_timeout, release_conn, chunked, body_pos, **response_kw)\u001b[0m\n\u001b[1;32m    696\u001b[0m     \u001b[38;5;28mself\u001b[39m\u001b[38;5;241m.\u001b[39m_prepare_proxy(conn)\n\u001b[1;32m    698\u001b[0m \u001b[38;5;66;03m# Make the request on the httplib connection object.\u001b[39;00m\n\u001b[0;32m--> 699\u001b[0m httplib_response \u001b[38;5;241m=\u001b[39m \u001b[38;5;28;43mself\u001b[39;49m\u001b[38;5;241;43m.\u001b[39;49m\u001b[43m_make_request\u001b[49m\u001b[43m(\u001b[49m\n\u001b[1;32m    700\u001b[0m \u001b[43m    \u001b[49m\u001b[43mconn\u001b[49m\u001b[43m,\u001b[49m\n\u001b[1;32m    701\u001b[0m \u001b[43m    \u001b[49m\u001b[43mmethod\u001b[49m\u001b[43m,\u001b[49m\n\u001b[1;32m    702\u001b[0m \u001b[43m    \u001b[49m\u001b[43murl\u001b[49m\u001b[43m,\u001b[49m\n\u001b[1;32m    703\u001b[0m \u001b[43m    \u001b[49m\u001b[43mtimeout\u001b[49m\u001b[38;5;241;43m=\u001b[39;49m\u001b[43mtimeout_obj\u001b[49m\u001b[43m,\u001b[49m\n\u001b[1;32m    704\u001b[0m \u001b[43m    \u001b[49m\u001b[43mbody\u001b[49m\u001b[38;5;241;43m=\u001b[39;49m\u001b[43mbody\u001b[49m\u001b[43m,\u001b[49m\n\u001b[1;32m    705\u001b[0m \u001b[43m    \u001b[49m\u001b[43mheaders\u001b[49m\u001b[38;5;241;43m=\u001b[39;49m\u001b[43mheaders\u001b[49m\u001b[43m,\u001b[49m\n\u001b[1;32m    706\u001b[0m \u001b[43m    \u001b[49m\u001b[43mchunked\u001b[49m\u001b[38;5;241;43m=\u001b[39;49m\u001b[43mchunked\u001b[49m\u001b[43m,\u001b[49m\n\u001b[1;32m    707\u001b[0m \u001b[43m\u001b[49m\u001b[43m)\u001b[49m\n\u001b[1;32m    709\u001b[0m \u001b[38;5;66;03m# If we're going to release the connection in ``finally:``, then\u001b[39;00m\n\u001b[1;32m    710\u001b[0m \u001b[38;5;66;03m# the response doesn't need to know about the connection. Otherwise\u001b[39;00m\n\u001b[1;32m    711\u001b[0m \u001b[38;5;66;03m# it will also try to release it and we'll have a double-release\u001b[39;00m\n\u001b[1;32m    712\u001b[0m \u001b[38;5;66;03m# mess.\u001b[39;00m\n\u001b[1;32m    713\u001b[0m response_conn \u001b[38;5;241m=\u001b[39m conn \u001b[38;5;28;01mif\u001b[39;00m \u001b[38;5;129;01mnot\u001b[39;00m release_conn \u001b[38;5;28;01melse\u001b[39;00m \u001b[38;5;28;01mNone\u001b[39;00m\n",
      "File \u001b[0;32m/usr/lib/python3/dist-packages/urllib3/connectionpool.py:445\u001b[0m, in \u001b[0;36mHTTPConnectionPool._make_request\u001b[0;34m(self, conn, method, url, timeout, chunked, **httplib_request_kw)\u001b[0m\n\u001b[1;32m    440\u001b[0m             httplib_response \u001b[38;5;241m=\u001b[39m conn\u001b[38;5;241m.\u001b[39mgetresponse()\n\u001b[1;32m    441\u001b[0m         \u001b[38;5;28;01mexcept\u001b[39;00m \u001b[38;5;167;01mBaseException\u001b[39;00m \u001b[38;5;28;01mas\u001b[39;00m e:\n\u001b[1;32m    442\u001b[0m             \u001b[38;5;66;03m# Remove the TypeError from the exception chain in\u001b[39;00m\n\u001b[1;32m    443\u001b[0m             \u001b[38;5;66;03m# Python 3 (including for exceptions like SystemExit).\u001b[39;00m\n\u001b[1;32m    444\u001b[0m             \u001b[38;5;66;03m# Otherwise it looks like a bug in the code.\u001b[39;00m\n\u001b[0;32m--> 445\u001b[0m             \u001b[43msix\u001b[49m\u001b[38;5;241;43m.\u001b[39;49m\u001b[43mraise_from\u001b[49m\u001b[43m(\u001b[49m\u001b[43me\u001b[49m\u001b[43m,\u001b[49m\u001b[43m \u001b[49m\u001b[38;5;28;43;01mNone\u001b[39;49;00m\u001b[43m)\u001b[49m\n\u001b[1;32m    446\u001b[0m \u001b[38;5;28;01mexcept\u001b[39;00m (SocketTimeout, BaseSSLError, SocketError) \u001b[38;5;28;01mas\u001b[39;00m e:\n\u001b[1;32m    447\u001b[0m     \u001b[38;5;28mself\u001b[39m\u001b[38;5;241m.\u001b[39m_raise_timeout(err\u001b[38;5;241m=\u001b[39me, url\u001b[38;5;241m=\u001b[39murl, timeout_value\u001b[38;5;241m=\u001b[39mread_timeout)\n",
      "File \u001b[0;32m<string>:3\u001b[0m, in \u001b[0;36mraise_from\u001b[0;34m(value, from_value)\u001b[0m\n",
      "File \u001b[0;32m/usr/lib/python3/dist-packages/urllib3/connectionpool.py:440\u001b[0m, in \u001b[0;36mHTTPConnectionPool._make_request\u001b[0;34m(self, conn, method, url, timeout, chunked, **httplib_request_kw)\u001b[0m\n\u001b[1;32m    437\u001b[0m \u001b[38;5;28;01mexcept\u001b[39;00m \u001b[38;5;167;01mTypeError\u001b[39;00m:\n\u001b[1;32m    438\u001b[0m     \u001b[38;5;66;03m# Python 3\u001b[39;00m\n\u001b[1;32m    439\u001b[0m     \u001b[38;5;28;01mtry\u001b[39;00m:\n\u001b[0;32m--> 440\u001b[0m         httplib_response \u001b[38;5;241m=\u001b[39m \u001b[43mconn\u001b[49m\u001b[38;5;241;43m.\u001b[39;49m\u001b[43mgetresponse\u001b[49m\u001b[43m(\u001b[49m\u001b[43m)\u001b[49m\n\u001b[1;32m    441\u001b[0m     \u001b[38;5;28;01mexcept\u001b[39;00m \u001b[38;5;167;01mBaseException\u001b[39;00m \u001b[38;5;28;01mas\u001b[39;00m e:\n\u001b[1;32m    442\u001b[0m         \u001b[38;5;66;03m# Remove the TypeError from the exception chain in\u001b[39;00m\n\u001b[1;32m    443\u001b[0m         \u001b[38;5;66;03m# Python 3 (including for exceptions like SystemExit).\u001b[39;00m\n\u001b[1;32m    444\u001b[0m         \u001b[38;5;66;03m# Otherwise it looks like a bug in the code.\u001b[39;00m\n\u001b[1;32m    445\u001b[0m         six\u001b[38;5;241m.\u001b[39mraise_from(e, \u001b[38;5;28;01mNone\u001b[39;00m)\n",
      "File \u001b[0;32m/usr/lib/python3.9/http/client.py:1347\u001b[0m, in \u001b[0;36mHTTPConnection.getresponse\u001b[0;34m(self)\u001b[0m\n\u001b[1;32m   1345\u001b[0m \u001b[38;5;28;01mtry\u001b[39;00m:\n\u001b[1;32m   1346\u001b[0m     \u001b[38;5;28;01mtry\u001b[39;00m:\n\u001b[0;32m-> 1347\u001b[0m         \u001b[43mresponse\u001b[49m\u001b[38;5;241;43m.\u001b[39;49m\u001b[43mbegin\u001b[49m\u001b[43m(\u001b[49m\u001b[43m)\u001b[49m\n\u001b[1;32m   1348\u001b[0m     \u001b[38;5;28;01mexcept\u001b[39;00m \u001b[38;5;167;01mConnectionError\u001b[39;00m:\n\u001b[1;32m   1349\u001b[0m         \u001b[38;5;28mself\u001b[39m\u001b[38;5;241m.\u001b[39mclose()\n",
      "File \u001b[0;32m/usr/lib/python3.9/http/client.py:307\u001b[0m, in \u001b[0;36mHTTPResponse.begin\u001b[0;34m(self)\u001b[0m\n\u001b[1;32m    305\u001b[0m \u001b[38;5;66;03m# read until we get a non-100 response\u001b[39;00m\n\u001b[1;32m    306\u001b[0m \u001b[38;5;28;01mwhile\u001b[39;00m \u001b[38;5;28;01mTrue\u001b[39;00m:\n\u001b[0;32m--> 307\u001b[0m     version, status, reason \u001b[38;5;241m=\u001b[39m \u001b[38;5;28;43mself\u001b[39;49m\u001b[38;5;241;43m.\u001b[39;49m\u001b[43m_read_status\u001b[49m\u001b[43m(\u001b[49m\u001b[43m)\u001b[49m\n\u001b[1;32m    308\u001b[0m     \u001b[38;5;28;01mif\u001b[39;00m status \u001b[38;5;241m!=\u001b[39m CONTINUE:\n\u001b[1;32m    309\u001b[0m         \u001b[38;5;28;01mbreak\u001b[39;00m\n",
      "File \u001b[0;32m/usr/lib/python3.9/http/client.py:268\u001b[0m, in \u001b[0;36mHTTPResponse._read_status\u001b[0;34m(self)\u001b[0m\n\u001b[1;32m    267\u001b[0m \u001b[38;5;28;01mdef\u001b[39;00m \u001b[38;5;21m_read_status\u001b[39m(\u001b[38;5;28mself\u001b[39m):\n\u001b[0;32m--> 268\u001b[0m     line \u001b[38;5;241m=\u001b[39m \u001b[38;5;28mstr\u001b[39m(\u001b[38;5;28;43mself\u001b[39;49m\u001b[38;5;241;43m.\u001b[39;49m\u001b[43mfp\u001b[49m\u001b[38;5;241;43m.\u001b[39;49m\u001b[43mreadline\u001b[49m\u001b[43m(\u001b[49m\u001b[43m_MAXLINE\u001b[49m\u001b[43m \u001b[49m\u001b[38;5;241;43m+\u001b[39;49m\u001b[43m \u001b[49m\u001b[38;5;241;43m1\u001b[39;49m\u001b[43m)\u001b[49m, \u001b[38;5;124m\"\u001b[39m\u001b[38;5;124miso-8859-1\u001b[39m\u001b[38;5;124m\"\u001b[39m)\n\u001b[1;32m    269\u001b[0m     \u001b[38;5;28;01mif\u001b[39;00m \u001b[38;5;28mlen\u001b[39m(line) \u001b[38;5;241m>\u001b[39m _MAXLINE:\n\u001b[1;32m    270\u001b[0m         \u001b[38;5;28;01mraise\u001b[39;00m LineTooLong(\u001b[38;5;124m\"\u001b[39m\u001b[38;5;124mstatus line\u001b[39m\u001b[38;5;124m\"\u001b[39m)\n",
      "File \u001b[0;32m/usr/lib/python3.9/socket.py:704\u001b[0m, in \u001b[0;36mSocketIO.readinto\u001b[0;34m(self, b)\u001b[0m\n\u001b[1;32m    702\u001b[0m \u001b[38;5;28;01mwhile\u001b[39;00m \u001b[38;5;28;01mTrue\u001b[39;00m:\n\u001b[1;32m    703\u001b[0m     \u001b[38;5;28;01mtry\u001b[39;00m:\n\u001b[0;32m--> 704\u001b[0m         \u001b[38;5;28;01mreturn\u001b[39;00m \u001b[38;5;28;43mself\u001b[39;49m\u001b[38;5;241;43m.\u001b[39;49m\u001b[43m_sock\u001b[49m\u001b[38;5;241;43m.\u001b[39;49m\u001b[43mrecv_into\u001b[49m\u001b[43m(\u001b[49m\u001b[43mb\u001b[49m\u001b[43m)\u001b[49m\n\u001b[1;32m    705\u001b[0m     \u001b[38;5;28;01mexcept\u001b[39;00m timeout:\n\u001b[1;32m    706\u001b[0m         \u001b[38;5;28mself\u001b[39m\u001b[38;5;241m.\u001b[39m_timeout_occurred \u001b[38;5;241m=\u001b[39m \u001b[38;5;28;01mTrue\u001b[39;00m\n",
      "\u001b[0;31mKeyboardInterrupt\u001b[0m: "
     ]
    }
   ],
   "source": [
    "import geopy.distance\n",
    "\n",
    "import json\n",
    "import requests\n",
    "#test setup: x,y\n",
    "#punkt 1:52523802, 13368007\n",
    "#punkt 2:52518214, 13390623\n",
    "#startpunkt beier\n",
    "#punkt 3:52541350,  13366540\n",
    "# x sind die 13er zahlen\n",
    "F = 10E-7\n",
    "def distance(x,y,x2,y2):\n",
    "    coords_1 = (y*F, x*F)\n",
    "    coords_2 = (y2*F, x2*F)\n",
    "    return geopy.distance.distance(coords_1, coords_2).km\n",
    "\n",
    "\n",
    "\n",
    "quit()\n",
    "atimes = []\n",
    "i =0\n",
    "\n",
    "#links oben moabit 52.53746136684121, 13.31176629214652\n",
    "#rechts unten moabit 52.51996891399787, 13.366440440707555\n",
    "#xxxxxxxxxx\n",
    "X1=13311766\n",
    "Y1=52519960\n",
    "\n",
    "\n",
    "X2=13366440\n",
    "Y2=52537461\n",
    "\n",
    "print(\"X distance gps\",X2-X1)\n",
    "print(\"Y distance gps\", Y2-Y1)\n",
    "\n",
    "print(\"X distance km\",distance(X1,Y1,X2,Y1))\n",
    "print(\"Y distance km\",distance(X2,Y1,X2,Y2))\n",
    "\n",
    "length = len(range(X1,X2,2000)) * len(range(Y1,Y2,2000))\n",
    "print(\"anzahl berechnungen:\",length)\n",
    "\n",
    "start_lid = get_lid(13366540,52541350)\n",
    "print(start_lid)\n",
    "\n",
    "\n",
    "for x in range(13368007,13390623,2000):\n",
    "    for y in range(52518214,52543802,2000):\n",
    "        try:\n",
    "            print(x,y)\n",
    "            i+=1\n",
    "            print(i/length*100,\"% Fortschritt, es fehlen \",length - i)\n",
    "\n",
    "            dest = get_dest(x,y)\n",
    "            #print(get_lid(x,y))\n",
    "            print(\"destination paramteres:\",dest)\n",
    "            time = get_traveltime(start_lid,dest)\n",
    "            print(time)\n",
    "            f = open(\"results3.txt\",\"a+\")\n",
    "            f.write(str(x)+\",\"+str(y)+\",\"+str(i)+\",\"+str(time)+\"\\n\")\n",
    "            f.close()\n",
    "\n",
    "            #print(distance(13366540,52541350,x,y))\n",
    "            atimes.append((x,y,time))\n",
    "        except ValueError:\n",
    "            with open(\"results3.txt\",\"a+\") as f:\n",
    "                f.write(\"error\"+str(i)+\",x=\"+str(x)+\", \"+str(y)+\"\\n\")\n",
    "\n",
    "            continue\n",
    "            \n",
    "            \n",
    "            "
   ]
  },
  {
   "cell_type": "code",
   "execution_count": 1,
   "id": "dedab06f",
   "metadata": {
    "scrolled": false
   },
   "outputs": [],
   "source": [
    "def get_lid(x,y):\n",
    "    url = \"http://bvg-apps-ext.hafas.de/bin/mgate.exe/mgate.exe\"\n",
    "    s1 = '{\"auth\":{\"aid\":\"%s\",\"type\":\"AID\"},\"client\":{\"id\":\"BVG\",\"type\":\"AND\"},\"ext\":\"BVG.1\",\"ver\":\"1.18\",\"lang\":\"eng\",\"svcReqL\":[{\"meth\":\"ServerInfo\",\"req\":{\"getServerDateTime\":true,\"getTimeTablePeriod\":false}},{\"meth\":\"LocGeoPos\",\"cfg\":{\"polyEnc\":\"GPA\"},\"req\":{\"ring\":{\"cCrd\":{\"x\":%d,\"y\":%d},\"maxDist\":20000},\"getStops\":true,\"getPOIs\":true,\"maxLoc\":1}}],\"formatted\":false}'\n",
    "    s1 = s1 % (key,x,y)\n",
    "    data = json.loads(s1)\n",
    "    headers = {'Content-type': 'application/json', 'Accept': 'text/plain'}\n",
    "    r = requests.post(url, data=json.dumps(data), headers=headers)\n",
    "    #print(r.text)\n",
    "    resp = json.loads(r.text)\n",
    "    return resp[\"svcResL\"][1]['res']['locL'][0]['lid']\n",
    "\n",
    "def get_dest(x,y):\n",
    "    url = \"http://bvg-apps-ext.hafas.de/bin/mgate.exe/mgate.exe\"\n",
    "    s1 = '{\"auth\":{\"aid\":\"%s\",\"type\":\"AID\"},\"client\":{\"id\":\"BVG\",\"type\":\"AND\"},\"ext\":\"BVG.1\",\"ver\":\"1.18\",\"lang\":\"eng\",\"svcReqL\":[{\"meth\":\"ServerInfo\",\"req\":{\"getServerDateTime\":true,\"getTimeTablePeriod\":false}},{\"meth\":\"LocGeoPos\",\"cfg\":{\"polyEnc\":\"GPA\"},\"req\":{\"ring\":{\"cCrd\":{\"x\":%d,\"y\":%d},\"maxDist\":20000},\"getStops\":true,\"getPOIs\":true,\"maxLoc\":1}}],\"formatted\":false}'\n",
    "    s1 = s1 % (key,x,y)\n",
    "    data = json.loads(s1)\n",
    "    headers = {'Content-type': 'application/json', 'Accept': 'text/plain'}\n",
    "    r = requests.post(url, data=json.dumps(data), headers=headers)\n",
    "    #print(r.text)\n",
    "    resp = json.loads(r.text)\n",
    "    e = resp[\"svcResL\"][1]['res']['locL'][0]['extId']\n",
    "    t = resp[\"svcResL\"][1]['res']['locL'][0]['type']\n",
    "    return (e,t)\n",
    "\n",
    "def get_traveltime(start_lid,dest):\n",
    "    extId = dest[0]\n",
    "    dest_type = dest[1]\n",
    "    url = \"http://bvg-apps-ext.hafas.de/bin/mgate.exe/mgate.exe\"\n",
    "    s1 = '{\"auth\":{\"aid\":\"%s\",\"type\":\"AID\"},\"client\":{\"id\":\"BVG\",\"type\":\"AND\"},\"ext\":\"BVG.1\",\"ver\":\"1.18\",\"lang\":\"eng\",\"svcReqL\":[{\"meth\":\"ServerInfo\",\"req\":{\"getServerDateTime\":true,\"getTimeTablePeriod\":false}},{\"meth\":\"TripSearch\",\"cfg\":{\"polyEnc\":\"GPA\"},\"req\":{\"depLocL\":[{\"type\":\"P\",\"lid\":\"%s\"}],\"arrLocL\":[{\"type\":\"%s\",\"extId\":\"%s\"}],\"outDate\":\"20220202\",\"outTime\":\"120000\",\"outFrwd\":true,\"gisFltrL\":[{\"mode\":\"FB\",\"profile\":{\"type\":\"F\",\"linDistRouting\":false,\"maxdist\":2000},\"type\":\"M\",\"meta\":\"foot_speed_normal\"}],\"getPolyline\":true,\"getPasslist\":true,\"getConGroups\":false,\"getIST\":false,\"getEco\":false,\"extChgTime\":-1}}],\"formatted\":false}'\n",
    "    #s1: 1. lid, 2. type, 3. extId\n",
    "    s1 = s1 % (key,start_lid,dest_type, extId)\n",
    "    data = json.loads(s1)\n",
    "    headers = {'Content-type': 'application/json', 'Accept': 'text/plain'}\n",
    "    r = requests.post(url, data=json.dumps(data), headers=headers)\n",
    "    #print(r.text)\n",
    "    resp = json.loads(r.text)\n",
    "    #for x in range(len(resp['svcResL'][1]['res']['outConL'])):\n",
    "    try:\n",
    "        aTime = resp['svcResL'][1]['res']['outConL'][0]['arr']['aTimeS']\n",
    "        print(resp['svcResL'][1]['res']['outConL'][0]['arr'])\n",
    "    except:\n",
    "        print(\"error!\")\n",
    "        print(resp)\n",
    "        return None\n",
    "    if aTime == None:\n",
    "        print(resp['svcResL'][1]['res']['outConL'][0]['arr'])\n",
    "\n",
    "        return None\n",
    "    return int(aTime)\n"
   ]
  },
  {
   "cell_type": "code",
   "execution_count": 6,
   "id": "9315652f",
   "metadata": {},
   "outputs": [],
   "source": [
    " with open(\"results2.txt\") as r:\n",
    "        X = []\n",
    "        Y = []\n",
    "        L = []\n",
    "        for l in r:\n",
    "            if \"error\" in l:\n",
    "                continue\n",
    "            x = l.split(\",\")[0]\n",
    "            y = l.split(\",\")[1]\n",
    "            time = l.split(\",\")[3]\n",
    "            hour = time[0:2]\n",
    "            minutes = time[2:4]\n",
    "            length = int(minutes) + (int(hour) - 12)*60\n",
    "            #print(length)\n",
    "            X.append(int(x))\n",
    "            Y.append(int(y))\n",
    "            L.append(length)"
   ]
  },
  {
   "cell_type": "code",
   "execution_count": 7,
   "id": "adcc7a71",
   "metadata": {},
   "outputs": [
    {
     "data": {
      "text/plain": [
       "149"
      ]
     },
     "execution_count": 7,
     "metadata": {},
     "output_type": "execute_result"
    }
   ],
   "source": [
    "len(L)"
   ]
  },
  {
   "cell_type": "code",
   "execution_count": 9,
   "id": "9615b355",
   "metadata": {},
   "outputs": [
    {
     "name": "stderr",
     "output_type": "stream",
     "text": [
      "/tmp/ipykernel_7796/1715061623.py:17: MatplotlibDeprecationWarning: Axes3D(fig) adding itself to the figure is deprecated since 3.4. Pass the keyword argument auto_add_to_figure=False and use fig.add_axes(ax) to suppress this warning. The default value of auto_add_to_figure will change to False in mpl3.5 and True values will no longer work in 3.6.  This is consistent with other Axes classes.\n",
      "  ax = Axes3D(fig)\n"
     ]
    },
    {
     "data": {
      "image/png": "[encoded data removed]",
      "text/plain": [
       "<Figure size 432x288 with 1 Axes>"
      ]
     },
     "metadata": {
      "needs_background": "light"
     },
     "output_type": "display_data"
    },
    {
     "data": {
      "image/png": "[encoded data removed]",
      "text/plain": [
       "<Figure size 432x288 with 2 Axes>"
      ]
     },
     "metadata": {
      "needs_background": "light"
     },
     "output_type": "display_data"
    },
    {
     "name": "stdout",
     "output_type": "stream",
     "text": [
      "Making animation\n"
     ]
    }
   ],
   "source": [
    "from mpl_toolkits.mplot3d import Axes3D\n",
    "import matplotlib.pyplot as plt\n",
    "from matplotlib import cm\n",
    "import numpy as np\n",
    "from sys import argv\n",
    "import matplotlib.pyplot as plt\n",
    "ax = plt.axes(projection='3d')\n",
    "from mpl_toolkits import mplot3d\n",
    "import matplotlib.animation as animation\n",
    "import numpy as np\n",
    "#fig, ax = plt.subplots(subplot_kw={\"projection\": \"3d\"})\n",
    "#ax.scatter3D(np.array(X),np.array(Y),np.array(length))\n",
    "\n",
    "#ax.scatter3D(X,Y,L,c=L)\n",
    "\n",
    "fig = plt.figure()\n",
    "ax = Axes3D(fig)\n",
    "ax.view_init(azim=180)\n",
    "\n",
    "surf = ax.plot_trisurf(X, Y, L, cmap=cm.jet, linewidth=0.1)\n",
    "fig.colorbar(surf, shrink=0.5, aspect=5)\n",
    "plt.savefig('teste.pdf')\n",
    "plt.show()\n",
    "\n",
    "\n",
    "\n",
    "print(\"Making animation\")\n"
   ]
  }
 ],
 "metadata": {
  "kernelspec": {
   "display_name": "Python 3",
   "language": "python",
   "name": "python3"
  },
  "language_info": {
   "codemirror_mode": {
    "name": "ipython",
    "version": 3
   },
   "file_extension": ".py",
   "mimetype": "text/x-python",
   "name": "python",
   "nbconvert_exporter": "python",
   "pygments_lexer": "ipython3",
   "version": "3.8.10"
  }
 },
 "nbformat": 4,
 "nbformat_minor": 5
}
