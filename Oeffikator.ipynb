{
 "cells": [
  {
   "cell_type": "markdown",
   "id": "aa9c3c26",
   "metadata": {},
   "source": [
    "# Oeffikator"
   ]
  },
  {
   "cell_type": "markdown",
   "id": "209f649f",
   "metadata": {},
   "source": [
    "## Setup\n",
    "We start off with global varibale and function definition and important imports."
   ]
  },
  {
   "cell_type": "code",
   "execution_count": 1,
   "id": "f165cfe8",
   "metadata": {},
   "outputs": [],
   "source": [
    "import asyncio\n",
    "import datetime\n",
    "import geopy.distance\n",
    "import json\n",
    "import matplotlib.colors as mcolors\n",
    "import matplotlib.pyplot as plt\n",
    "import multiprocessing as mp\n",
    "import nest_asyncio\n",
    "import numpy as np\n",
    "import os\n",
    "import pandas as pd\n",
    "import random \n",
    "import requests\n",
    "import time\n",
    "\n",
    "from apis.OeffiAPI import OeffiAPI\n",
    "from apis.BVGRestAPI import BVGRestAPI\n",
    "from concurrent.futures import ThreadPoolExecutor\n",
    "from TimeTransformer import TimeTransformer\n",
    "from scipy.spatial import Delaunay"
   ]
  },
  {
   "cell_type": "code",
   "execution_count": 2,
   "id": "9c87ba12",
   "metadata": {},
   "outputs": [],
   "source": [
    "DAY = datetime.datetime.today() + datetime.timedelta(days=1)\n",
    "while DAY.weekday()!= 0:\n",
    "    DAY+=datetime.timedelta(1)\n",
    "cdict = {'red':   ((0.0, 0.0, 0.0),\n",
    "                   (0.5, 0.0, 0.0),\n",
    "                   (1.0, 1.0, 1.0)),\n",
    "         'blue':  ((0.0, 0.0, 0.0),\n",
    "                   (1.0, 0.0, 0.0)),\n",
    "         'green': ((0.0, 0.0, 1.0),\n",
    "                   (0.5, 0.0, 0.0),\n",
    "                   (1.0, 0.0, 0.0))}\n",
    "CMAP = mcolors.LinearSegmentedColormap('my_colormap', cdict, 100)"
   ]
  },
  {
   "cell_type": "code",
   "execution_count": 3,
   "id": "5ee1421e",
   "metadata": {},
   "outputs": [],
   "source": [
    "def compute_distance(x1,y1,x2,y2):\n",
    "    return geopy.distance.distance((x1,y1), (x2,y2)).km\n",
    "\n",
    "def to_BVG_sdt(x : float) -> int:\n",
    "    return int(x*10E5)\n",
    "\n",
    "async def start_async_process(apis, origin, tri_centers, starting_date):\n",
    "    amount_of_workers = len(tri_centers)\n",
    "    journeys = []\n",
    "    with ThreadPoolExecutor(max_workers=amount_of_workers) as executor:\n",
    "        loop = asyncio.get_event_loop()\n",
    "        responses = [\n",
    "            loop.run_in_executor(\n",
    "                executor,\n",
    "                apis[i%len(apis)].get_journey,\n",
    "                *(origin,{\"longitude\": str(tri_centers[i][0]), \"latitude\": str(tri_centers[i][1]), \"address\": \"placeholder\"}, starting_date)\n",
    "            )\n",
    "            for i in range(amount_of_workers)\n",
    "        ]\n",
    "        for journey in await asyncio.gather(*responses):\n",
    "            journeys.append(journey)\n",
    "    return journeys"
   ]
  },
  {
   "cell_type": "markdown",
   "id": "62cf3f32",
   "metadata": {},
   "source": [
    "## Crawl Data"
   ]
  },
  {
   "cell_type": "markdown",
   "id": "80d9a6fb",
   "metadata": {},
   "source": [
    "Let's define some parameter first."
   ]
  },
  {
   "cell_type": "code",
   "execution_count": 4,
   "id": "8b203f5e",
   "metadata": {},
   "outputs": [
    {
     "name": "stdout",
     "output_type": "stream",
     "text": [
      "We gonne use following address: 13347 Berlin-Wedding, Maxstr. 5\n"
     ]
    }
   ],
   "source": [
    "api = BVGRestAPI()\n",
    "api2 = OeffiAPI()\n",
    "apis = [api, api2]\n",
    "query = \"maxstr 5, wedding\"\n",
    "start = api.query_location(query)\n",
    "print(\"We gonne use following address: \" + start[\"address\"])"
   ]
  },
  {
   "cell_type": "code",
   "execution_count": 5,
   "id": "c9534c8c",
   "metadata": {},
   "outputs": [
    {
     "name": "stdout",
     "output_type": "stream",
     "text": [
      "Amount of requests:  396\n",
      "Estimated time: 10min\n"
     ]
    }
   ],
   "source": [
    "file_name = str(to_BVG_sdt(start[\"longitude\"])) + \"_\" + str(to_BVG_sdt(start[\"latitude\"])) + \".csv\"\n",
    "# in format left, right, bottom, top\n",
    "# or xmin, xmax, ymin, ymax\n",
    "bounding_box = (13.2756, 13.4892, 52.4677, 52.5532)\n",
    "step_size_x = 0.01\n",
    "step_size_y = step_size_x / 2\n",
    "\n",
    "length = len(np.arange(bounding_box[0],bounding_box[1],step_size_x)) * len(np.arange(bounding_box[2],bounding_box[3],step_size_y))\n",
    "print(\"Amount of requests: \",length)\n",
    "print(\"Estimated time: \" + str(int(length/38)) + \"min\")"
   ]
  },
  {
   "cell_type": "markdown",
   "id": "4fe4b780",
   "metadata": {},
   "source": [
    "## Linear Computing"
   ]
  },
  {
   "cell_type": "markdown",
   "id": "16aad915",
   "metadata": {},
   "source": [
    "And now let's get the points."
   ]
  },
  {
   "cell_type": "code",
   "execution_count": null,
   "id": "c2dae912",
   "metadata": {},
   "outputs": [],
   "source": [
    "i = 0\n",
    "destination_i = 0\n",
    "df = pd.DataFrame(columns = ['X', 'Y', 'Time'])\n",
    "start_time = datetime.datetime.now()\n",
    "for x in np.arange(bounding_box[0],bounding_box[1],step_size_x):\n",
    "    for y in np.arange(bounding_box[2],bounding_box[3],step_size_y):\n",
    "        destination_i+=1\n",
    "        destination = {\"longitude\": str(x), \"latitude\": str(y), \"address\": \"placeholder\"}\n",
    "        print(destination_i/length*100,\"% Fortschritt, es fehlen\",length - destination_i)\n",
    "        print(\"Current Destination: \" + str(x) + \", \" + str(y))\n",
    "        try:\n",
    "            #time.sleep(60/100)\n",
    "            journey = api.get_journey(start,destination,DAY)\n",
    "            for stop in journey[\"stopovers\"]:\n",
    "                i+=1\n",
    "                df.loc[i] = [stop[\"longitude\"], stop[\"latitude\"], stop[\"time\"]]\n",
    "            i+=1\n",
    "            df.loc[i] = [journey[\"destination\"][\"longitude\"], journey[\"destination\"][\"latitude\"], journey[\"arrivalTime\"]]\n",
    "        except (ValueError, KeyError):\n",
    "            df.loc[i] = [destination[\"longitude\"], destination[\"latitude\"], \"error\"]\n",
    "            continue\n",
    "\n",
    "        if datetime.datetime.now() - start_time > datetime.timedelta(seconds=32):\n",
    "            df = df.drop_duplicates()\n",
    "            df.to_csv(\"results/\"+file_name, index=True, header=False)\n",
    "            start_time = datetime.datetime.now()\n",
    "\n",
    "df = df.drop_duplicates()\n",
    "df.to_csv(\"results/\"+file_name, index=True, header=False)"
   ]
  },
  {
   "cell_type": "markdown",
   "id": "debd9fc3",
   "metadata": {},
   "source": [
    "## Parallel computing"
   ]
  },
  {
   "cell_type": "markdown",
   "id": "cb494ce9",
   "metadata": {},
   "source": [
    "And one alternative method of computing the map."
   ]
  },
  {
   "cell_type": "code",
   "execution_count": 6,
   "id": "43beb479",
   "metadata": {},
   "outputs": [],
   "source": [
    "parallel_threads = 8"
   ]
  },
  {
   "cell_type": "code",
   "execution_count": 7,
   "id": "ea5fd62b",
   "metadata": {},
   "outputs": [
    {
     "name": "stdout",
     "output_type": "stream",
     "text": [
      "So far 0 points were generated of which 0 are destinations.\n",
      "So far 1 points were generated of which 1 are destinations.\n",
      "So far 2 points were generated of which 2 are destinations.\n",
      "So far 3 points were generated of which 3 are destinations.\n",
      "So far 4 points were generated of which 4 are destinations.\n",
      "So far 5 points were generated of which 5 are destinations.\n",
      "So far 6 points were generated of which 6 are destinations.\n",
      "So far 7 points were generated of which 7 are destinations.\n",
      "So far 8 points were generated of which 8 are destinations.\n",
      "This took us:\n",
      "0:00:14.001347\n"
     ]
    }
   ],
   "source": [
    "def get_area(points):\n",
    "    first = np.multiply(points[:,0,0], np.subtract(points[:,1,1],points[:,2,1]))\n",
    "    second = np.multiply(points[:,1,0], np.subtract(points[:,2,1],points[:,0,1]))\n",
    "    third = np.multiply(points[:,2,0], np.subtract(points[:,0,1],points[:,1,1]))\n",
    "    return 0.5*np.add(np.add(first,second),third)\n",
    "\n",
    "i = 0\n",
    "destination_i = 0\n",
    "df = pd.DataFrame(columns = ['longitude', 'latitude', 'Time'])\n",
    "start_time = datetime.datetime.now()\n",
    "for x in np.linspace(bounding_box[0], bounding_box[1], 3):\n",
    "    for y in np.linspace(bounding_box[2], bounding_box[3], 3):\n",
    "        print(f\"So far {i} points were generated of which {destination_i} are destinations.\")\n",
    "        i += 1\n",
    "        destination_i += 1\n",
    "        destination = {\"longitude\": str(x), \"latitude\": str(y), \"address\": \"placeholder\"}\n",
    "        journey = api.get_journey(start,destination,DAY)\n",
    "        df.loc[i] = [journey[\"destination\"][\"longitude\"], journey[\"destination\"][\"latitude\"], journey[\"arrivalTime\"]]\n",
    "time_taken_total = datetime.datetime.now() - start_time\n",
    "print(\"This took us:\")\n",
    "print(time_taken_total)"
   ]
  },
  {
   "cell_type": "markdown",
   "id": "c3a706d2",
   "metadata": {},
   "source": [
    "Running the requests asynchonously which speeds up the requests per minute up to > 200."
   ]
  },
  {
   "cell_type": "code",
   "execution_count": 9,
   "id": "cc6e8eb9",
   "metadata": {},
   "outputs": [
    {
     "name": "stdout",
     "output_type": "stream",
     "text": [
      "<apis.BVGRestAPI.BVGRestAPI object at 0x7ff5c6eaeeb0> 9\n",
      "<apis.OeffiAPI.OeffiAPI object at 0x7ff5c6eaed60> 20\n",
      "So far 282 points were generated of which 49 are destinations.\n",
      "<apis.BVGRestAPI.BVGRestAPI object at 0x7ff5c6eaeeb0> 12\n",
      "<apis.OeffiAPI.OeffiAPI object at 0x7ff5c6eaed60> 20\n",
      "So far 328 points were generated of which 54 are destinations.\n",
      "<apis.BVGRestAPI.BVGRestAPI object at 0x7ff5c6eaeeb0> 9\n",
      "<apis.OeffiAPI.OeffiAPI object at 0x7ff5c6eaed60> 19\n",
      "So far 366 points were generated of which 59 are destinations.\n",
      "<apis.BVGRestAPI.BVGRestAPI object at 0x7ff5c6eaeeb0> 11\n",
      "<apis.OeffiAPI.OeffiAPI object at 0x7ff5c6eaed60> 21\n",
      "So far 399 points were generated of which 64 are destinations.\n",
      "<apis.BVGRestAPI.BVGRestAPI object at 0x7ff5c6eaeeb0> 12\n",
      "<apis.OeffiAPI.OeffiAPI object at 0x7ff5c6eaed60> 24\n",
      "So far 419 points were generated of which 69 are destinations.\n",
      "<apis.BVGRestAPI.BVGRestAPI object at 0x7ff5c6eaeeb0> 15\n",
      "<apis.OeffiAPI.OeffiAPI object at 0x7ff5c6eaed60> 30\n",
      "So far 444 points were generated of which 74 are destinations.\n",
      "<apis.BVGRestAPI.BVGRestAPI object at 0x7ff5c6eaeeb0> 18\n",
      "<apis.OeffiAPI.OeffiAPI object at 0x7ff5c6eaed60> 36\n",
      "So far 482 points were generated of which 79 are destinations.\n",
      "<apis.BVGRestAPI.BVGRestAPI object at 0x7ff5c6eaeeb0> 21\n",
      "<apis.OeffiAPI.OeffiAPI object at 0x7ff5c6eaed60> 42\n",
      "So far 517 points were generated of which 84 are destinations.\n",
      "<apis.BVGRestAPI.BVGRestAPI object at 0x7ff5c6eaeeb0> 24\n",
      "<apis.OeffiAPI.OeffiAPI object at 0x7ff5c6eaed60> 48\n",
      "So far 567 points were generated of which 89 are destinations.\n",
      "<apis.BVGRestAPI.BVGRestAPI object at 0x7ff5c6eaeeb0> 27\n",
      "<apis.OeffiAPI.OeffiAPI object at 0x7ff5c6eaed60> 54\n",
      "So far 601 points were generated of which 94 are destinations.\n",
      "<apis.BVGRestAPI.BVGRestAPI object at 0x7ff5c6eaeeb0> 30\n",
      "<apis.OeffiAPI.OeffiAPI object at 0x7ff5c6eaed60> 60\n",
      "So far 644 points were generated of which 99 are destinations.\n",
      "<apis.BVGRestAPI.BVGRestAPI object at 0x7ff5c6eaeeb0> 33\n",
      "<apis.OeffiAPI.OeffiAPI object at 0x7ff5c6eaed60> 66\n",
      "So far 683 points were generated of which 104 are destinations.\n",
      "<apis.BVGRestAPI.BVGRestAPI object at 0x7ff5c6eaeeb0> 36\n",
      "<apis.OeffiAPI.OeffiAPI object at 0x7ff5c6eaed60> 72\n",
      "So far 728 points were generated of which 109 are destinations.\n",
      "<apis.BVGRestAPI.BVGRestAPI object at 0x7ff5c6eaeeb0> 39\n",
      "<apis.OeffiAPI.OeffiAPI object at 0x7ff5c6eaed60> 78\n",
      "So far 763 points were generated of which 114 are destinations.\n",
      "<apis.BVGRestAPI.BVGRestAPI object at 0x7ff5c6eaeeb0> 42\n",
      "<apis.OeffiAPI.OeffiAPI object at 0x7ff5c6eaed60> 84\n",
      "So far 799 points were generated of which 119 are destinations.\n",
      "<apis.BVGRestAPI.BVGRestAPI object at 0x7ff5c6eaeeb0> 45\n",
      "<apis.OeffiAPI.OeffiAPI object at 0x7ff5c6eaed60> 90\n",
      "So far 823 points were generated of which 124 are destinations.\n",
      "<apis.BVGRestAPI.BVGRestAPI object at 0x7ff5c6eaeeb0> 48\n",
      "<apis.OeffiAPI.OeffiAPI object at 0x7ff5c6eaed60> 96\n",
      "So far 855 points were generated of which 129 are destinations.\n",
      "<apis.BVGRestAPI.BVGRestAPI object at 0x7ff5c6eaeeb0> 51\n",
      "So far 892 points were generated of which 134 are destinations.\n",
      "<apis.BVGRestAPI.BVGRestAPI object at 0x7ff5c6eaeeb0> 56\n",
      "So far 945 points were generated of which 139 are destinations.\n",
      "<apis.BVGRestAPI.BVGRestAPI object at 0x7ff5c6eaeeb0> 61\n",
      "So far 1010 points were generated of which 144 are destinations.\n",
      "<apis.BVGRestAPI.BVGRestAPI object at 0x7ff5c6eaeeb0> 66\n",
      "So far 1062 points were generated of which 149 are destinations.\n",
      "<apis.BVGRestAPI.BVGRestAPI object at 0x7ff5c6eaeeb0> 68\n",
      "<apis.OeffiAPI.OeffiAPI object at 0x7ff5c6eaed60> 96\n",
      "So far 1112 points were generated of which 154 are destinations.\n",
      "<apis.BVGRestAPI.BVGRestAPI object at 0x7ff5c6eaeeb0> 69\n",
      "<apis.OeffiAPI.OeffiAPI object at 0x7ff5c6eaed60> 97\n",
      "So far 1134 points were generated of which 159 are destinations.\n",
      "<apis.BVGRestAPI.BVGRestAPI object at 0x7ff5c6eaeeb0> 68\n",
      "<apis.OeffiAPI.OeffiAPI object at 0x7ff5c6eaed60> 96\n",
      "So far 1161 points were generated of which 164 are destinations.\n",
      "<apis.BVGRestAPI.BVGRestAPI object at 0x7ff5c6eaeeb0> 68\n",
      "<apis.OeffiAPI.OeffiAPI object at 0x7ff5c6eaed60> 94\n",
      "So far 1195 points were generated of which 169 are destinations.\n",
      "<apis.BVGRestAPI.BVGRestAPI object at 0x7ff5c6eaeeb0> 68\n",
      "<apis.OeffiAPI.OeffiAPI object at 0x7ff5c6eaed60> 97\n",
      "So far 1230 points were generated of which 174 are destinations.\n",
      "<apis.BVGRestAPI.BVGRestAPI object at 0x7ff5c6eaeeb0> 71\n",
      "<apis.OeffiAPI.OeffiAPI object at 0x7ff5c6eaed60> 99\n",
      "So far 1255 points were generated of which 179 are destinations.\n",
      "<apis.BVGRestAPI.BVGRestAPI object at 0x7ff5c6eaeeb0> 70\n",
      "<apis.OeffiAPI.OeffiAPI object at 0x7ff5c6eaed60> 98\n",
      "So far 1297 points were generated of which 184 are destinations.\n",
      "<apis.BVGRestAPI.BVGRestAPI object at 0x7ff5c6eaeeb0> 68\n",
      "<apis.OeffiAPI.OeffiAPI object at 0x7ff5c6eaed60> 97\n",
      "So far 1343 points were generated of which 189 are destinations.\n",
      "<apis.BVGRestAPI.BVGRestAPI object at 0x7ff5c6eaeeb0> 71\n",
      "<apis.OeffiAPI.OeffiAPI object at 0x7ff5c6eaed60> 100\n",
      "So far 1387 points were generated of which 194 are destinations.\n",
      "<apis.BVGRestAPI.BVGRestAPI object at 0x7ff5c6eaeeb0> 68\n",
      "<apis.OeffiAPI.OeffiAPI object at 0x7ff5c6eaed60> 97\n",
      "So far 1409 points were generated of which 199 are destinations.\n",
      "<apis.BVGRestAPI.BVGRestAPI object at 0x7ff5c6eaeeb0> 68\n",
      "<apis.OeffiAPI.OeffiAPI object at 0x7ff5c6eaed60> 96\n",
      "So far 1425 points were generated of which 204 are destinations.\n",
      "<apis.BVGRestAPI.BVGRestAPI object at 0x7ff5c6eaeeb0> 68\n",
      "<apis.OeffiAPI.OeffiAPI object at 0x7ff5c6eaed60> 97\n",
      "So far 1462 points were generated of which 209 are destinations.\n",
      "<apis.BVGRestAPI.BVGRestAPI object at 0x7ff5c6eaeeb0> 65\n",
      "<apis.OeffiAPI.OeffiAPI object at 0x7ff5c6eaed60> 91\n",
      "So far 1500 points were generated of which 214 are destinations.\n",
      "<apis.BVGRestAPI.BVGRestAPI object at 0x7ff5c6eaeeb0> 59\n",
      "<apis.OeffiAPI.OeffiAPI object at 0x7ff5c6eaed60> 82\n",
      "So far 1533 points were generated of which 219 are destinations.\n",
      "<apis.BVGRestAPI.BVGRestAPI object at 0x7ff5c6eaeeb0> 62\n",
      "<apis.OeffiAPI.OeffiAPI object at 0x7ff5c6eaed60> 85\n",
      "So far 1560 points were generated of which 224 are destinations.\n",
      "<apis.BVGRestAPI.BVGRestAPI object at 0x7ff5c6eaeeb0> 60\n",
      "<apis.OeffiAPI.OeffiAPI object at 0x7ff5c6eaed60> 90\n",
      "So far 1600 points were generated of which 229 are destinations.\n",
      "<apis.BVGRestAPI.BVGRestAPI object at 0x7ff5c6eaeeb0> 58\n",
      "<apis.OeffiAPI.OeffiAPI object at 0x7ff5c6eaed60> 96\n",
      "So far 1636 points were generated of which 234 are destinations.\n",
      "This took us:\n",
      "0:02:02.777350\n"
     ]
    }
   ],
   "source": [
    "nest_asyncio.apply()\n",
    "\n",
    "start_time = datetime.datetime.now()\n",
    "round_time = datetime.datetime.now()\n",
    "while datetime.datetime.now() - start_time < datetime.timedelta(minutes=2):\n",
    "#while destination_i < 48:\n",
    "    available_apis = [api for api in apis if not api.has_reached_request_limit()]\n",
    "    for api in available_apis:\n",
    "        print(api,len(api.past_requests))\n",
    "    if available_apis:\n",
    "        print(f\"So far {i} points were generated of which {destination_i} are destinations.\")\n",
    "\n",
    "\n",
    "\n",
    "        points = np.array(list(zip(df[\"longitude\"], df[\"latitude\"])))\n",
    "        tri = Delaunay(points)\n",
    "        triangle = points[tri.simplices][np.argmax(get_area(points[tri.simplices]))]\n",
    "        areas = get_area(points[tri.simplices])\n",
    "        # get the 5 largest areas\n",
    "        tri_centers = (np.mean(points[tri.simplices][np.argpartition(areas, -parallel_threads)[-parallel_threads:]], 1))\n",
    "\n",
    "        #Run asychnronous requests\n",
    "        loop = asyncio.get_event_loop()\n",
    "        journeys = asyncio.ensure_future(start_async_process(available_apis, start, tri_centers, DAY))\n",
    "        loop.run_until_complete(journeys)\n",
    "        \n",
    "        for journey in journeys.result():\n",
    "            destination_i += 1\n",
    "            if journey[\"stopovers\"] != None:\n",
    "                for stop in journey[\"stopovers\"]:\n",
    "                    i+=1\n",
    "                    df.loc[i] = [stop[\"longitude\"], stop[\"latitude\"], stop[\"time\"]]\n",
    "            i+=1\n",
    "            df.loc[i] = [float(journey[\"destination\"][\"longitude\"]), float(journey[\"destination\"][\"latitude\"]), journey[\"arrivalTime\"]]\n",
    "    else: \n",
    "        print(\"All apis have reached there request threshold. Sleeping ...\")\n",
    "        time.sleep(2)\n",
    "\n",
    "    if datetime.datetime.now() - round_time > datetime.timedelta(seconds=60):\n",
    "        df = df.drop_duplicates()\n",
    "        df.to_csv(\"results/new_\"+file_name, index=True, header=False)\n",
    "        round_time = datetime.datetime.now()\n",
    "\n",
    "df = df.drop_duplicates()\n",
    "df.to_csv(\"results/new_\"+file_name, index=True, header=False)\n",
    "\n",
    "time_taken_total = datetime.datetime.now() - start_time\n",
    "print(\"This took us:\")\n",
    "print(time_taken_total)"
   ]
  },
  {
   "cell_type": "code",
   "execution_count": null,
   "id": "b4134c91",
   "metadata": {},
   "outputs": [],
   "source": [
    "lst = [0,0,0,0,0,1,1,1,1]\n",
    "while lst[0] < 1:\n",
    "    lst.pop(0)\n",
    "lst"
   ]
  },
  {
   "cell_type": "markdown",
   "id": "7f5594b3",
   "metadata": {},
   "source": [
    "(Different Method to generate directions https://stackoverflow.com/questions/57539749/find-out-centre-of-the-most-dense-region-in-a-scatter-plot )"
   ]
  },
  {
   "cell_type": "code",
   "execution_count": null,
   "id": "7810d15e",
   "metadata": {},
   "outputs": [],
   "source": [
    "# Evaluate a gaussian kde on a regular grid of nbins x nbins over data extents\n",
    "# k = kde.gaussian_kde(data.T)\n",
    "# xi, yi = np.mgrid[x.min():x.max():nbins*1j, y.min():y.max():nbins*1j]\n",
    "# zi = k(np.vstack([xi.flatten(), yi.flatten()]))"
   ]
  },
  {
   "cell_type": "markdown",
   "id": "0645887c",
   "metadata": {},
   "source": [
    "Time to get the data."
   ]
  },
  {
   "cell_type": "markdown",
   "id": "b1b54376",
   "metadata": {},
   "source": [
    "## Plotting"
   ]
  },
  {
   "cell_type": "markdown",
   "id": "e7c24a91",
   "metadata": {},
   "source": [
    "Let's read data first."
   ]
  },
  {
   "cell_type": "code",
   "execution_count": null,
   "id": "4fc894de",
   "metadata": {},
   "outputs": [],
   "source": [
    "query = \"maxstr.5, 13347\""
   ]
  },
  {
   "cell_type": "code",
   "execution_count": null,
   "id": "7114995e",
   "metadata": {},
   "outputs": [],
   "source": [
    "start = api.query_location(query)\n",
    "file_name_plottting = str(to_BVG_sdt(start[\"longitude\"])) + \"_\" + str(to_BVG_sdt(start[\"latitude\"])) + \".csv\"\n",
    "df = pd.read_csv(\"results/new_\" + file_name_plottting, sep=\",\", index_col = 0, names=[\"X\",\"Y\",\"Time\"],  na_values=\"None\", dtype = {\"X\": np.float32, \"Y\": np.float32, \"Time\":str})"
   ]
  },
  {
   "cell_type": "markdown",
   "id": "e4e64044",
   "metadata": {},
   "source": [
    "And then transform it with some custom pipelines."
   ]
  },
  {
   "cell_type": "code",
   "execution_count": null,
   "id": "a371a2e1",
   "metadata": {},
   "outputs": [],
   "source": [
    "time_transformer = TimeTransformer()\n",
    "dfn = time_transformer.transform(df)"
   ]
  },
  {
   "cell_type": "markdown",
   "id": "e90b3784",
   "metadata": {},
   "source": [
    "It's time to plot:"
   ]
  },
  {
   "cell_type": "code",
   "execution_count": null,
   "id": "f37f1ab8",
   "metadata": {},
   "outputs": [],
   "source": [
    "dfn.head()\n",
    "dfn.loc[393]"
   ]
  },
  {
   "cell_type": "code",
   "execution_count": null,
   "id": "f046409f",
   "metadata": {},
   "outputs": [],
   "source": [
    "dfn = dfn[dfn[\"Time\"]<200]"
   ]
  },
  {
   "cell_type": "code",
   "execution_count": null,
   "id": "cbd360e1",
   "metadata": {},
   "outputs": [],
   "source": [
    "#get the start location coordinates from the file name\n",
    "start_location = tuple([int(coordinate)*10E-7 for coordinate in file_name_plottting[:-4].split(\"_\")])\n",
    "# get the bounding box from the location\n",
    "bounding_box_locations = (min(dfn[\"X\"]), max(dfn[\"X\"]), min(dfn[\"Y\"]), max(dfn[\"Y\"]))\n",
    "# sets hard coded for the map \"map_berlin_A.png\"\n",
    "bounding_box_map = (13.272, 13.491, 52.456, 52.563)\n",
    "map = plt.imread('maps/map_berlin_A.png')\n",
    "# define the amount of color levels should be there\n",
    "levels = np.linspace(np.min(dfn[\"Time\"]), np.max(dfn[\"Time\"]), 32)\n",
    "\n",
    "fig, ax = plt.subplots(figsize = (18,18))\n",
    "ax.set_xlim(bounding_box[0],bounding_box[1])\n",
    "ax.set_ylim(bounding_box[2],bounding_box[3])\n",
    "ax.tricontourf(dfn[\"X\"], dfn[\"Y\"], dfn[\"Time\"], levels=levels, alpha= 0.5, cmap = CMAP, antialiased=True)\n",
    "#Displaying destination locations\n",
    "ax.scatter(dfn[\"X\"], dfn[\"Y\"], alpha=0.5, color = \"brown\")\n",
    "\n",
    "# \"aspect=1.65\" as a magic number\n",
    "ax.imshow(map, extent = bounding_box_map, aspect = 1.65)\n",
    "# plot the starting position\n",
    "ax.plot(start_location[0], start_location[1], marker=\"*\", markersize=20, color=\"tab:orange\")"
   ]
  },
  {
   "cell_type": "code",
   "execution_count": null,
   "id": "d6db6da8",
   "metadata": {},
   "outputs": [],
   "source": [
    "\n",
    "plt.savefig(\"results/images/map_berlin_sWedding.png\")"
   ]
  },
  {
   "cell_type": "markdown",
   "id": "15e3b3e7",
   "metadata": {},
   "source": [
    "## Creating a map\n",
    "This code is copied from following website: http://bigmap.osmz.ru/"
   ]
  },
  {
   "cell_type": "code",
   "execution_count": null,
   "id": "1e9c7a92",
   "metadata": {},
   "outputs": [],
   "source": [
    "#!/usr/bin/env python\n",
    "# Generated by BigMap 2. Permalink: http://bigmap.osmz.ru/bigmap.php?xmin=17592&xmax=17611&ymin=10740&ymax=10755&zoom=15&scale=256&tiles=osm-de\n",
    "\n",
    "import io, urllib.request, datetime, time, re, random\n",
    "from PIL import Image, ImageDraw\n",
    "# ^^^^^^ install \"python-pillow\" package | pip install Pillow | easy_install Pillow\n",
    "\n",
    "(zoom, xmin, ymin, xmax, ymax) = (15, 17592, 10740, 17611, 10755)\n",
    "layers = [\"https://{abc}.tile.openstreetmap.de/tiles/osmde/!z/!x/!y.png\"]\n",
    "attribution = 'Map data (c) OpenStreetMap, Tiles (c) OSM DE'\n",
    "xsize = xmax - xmin + 1\n",
    "ysize = ymax - ymin + 1\n",
    "tilesize = 256\n",
    "\n",
    "resultImage = Image.new(\"RGBA\", (xsize * tilesize, ysize * tilesize), (0,0,0,0))\n",
    "counter = 0\n",
    "for x in range(xmin, xmax+1):\n",
    "\tfor y in range(ymin, ymax+1):\n",
    "\t\tfor layer in layers:\n",
    "\t\t\turl = layer.replace(\"!x\", str(x)).replace(\"!y\", str(y)).replace(\"!z\", str(zoom))\n",
    "\t\t\tmatch = re.search(\"{([a-z0-9]+)}\", url)\n",
    "\t\t\tif match:\n",
    "\t\t\t\turl = url.replace(match.group(0), random.choice(match.group(1)))\n",
    "\t\t\tprint(url, \"... \");\n",
    "\t\t\ttry:\n",
    "\t\t\t\treq = urllib.request.Request(url, headers={'User-Agent': 'BigMap/2.0'})\n",
    "\t\t\t\ttile = urllib.request.urlopen(req).read()\n",
    "\t\t\texcept Exception as e:\n",
    "\t\t\t\tprint(\"Error\", e)\n",
    "\t\t\t\tcontinue;\n",
    "\t\t\timage = Image.open(io.BytesIO(tile))\n",
    "\t\t\tresultImage.paste(image, ((x-xmin)*tilesize, (y-ymin)*tilesize), image.convert(\"RGBA\"))\n",
    "\t\t\tcounter += 1\n",
    "\t\t\tif counter == 10:\n",
    "\t\t\t\ttime.sleep(2);\n",
    "\t\t\t\tcounter = 0\n",
    "\n",
    "draw = ImageDraw.Draw(resultImage)\n",
    "draw.text((5, ysize*tilesize-15), attribution, (0,0,0))\n",
    "del draw\n",
    "\n",
    "now = datetime.datetime.now()\n",
    "outputFileName = \"maps/map_Berlin_A_high.png\"# % (zoom, now.year % 100, now.month, now.day, now.hour, now.minute)\n",
    "resultImage.save(outputFileName)"
   ]
  },
  {
   "cell_type": "markdown",
   "id": "3e43683c",
   "metadata": {},
   "source": [
    "## Previous code"
   ]
  },
  {
   "cell_type": "code",
   "execution_count": null,
   "id": "a4c050d6",
   "metadata": {},
   "outputs": [],
   "source": [
    "import json\n",
    "import requests\n",
    "url = \"http://bvg-apps-ext.hafas.de/bin/mgate.exe/mgate.exe\"\n",
    "s1 = '{\"auth\":{\"aid\":\"%s\",\"type\":\"AID\"},\"client\":{\"id\":\"BVG\",\"type\":\"AND\"},\"ext\":\"BVG.1\",\"ver\":\"1.18\",\"lang\":\"eng\",\"svcReqL\":[{\"meth\":\"ServerInfo\",\"req\":{\"getServerDateTime\":true,\"getTimeTablePeriod\":false}},{\"meth\":\"LocGeoPos\",\"cfg\":{\"polyEnc\":\"GPA\"},\"req\":{\"ring\":{\"cCrd\":{\"x\":%d,\"y\":%d},\"maxDist\":20000},\"getStops\":true,\"getPOIs\":true,\"maxLoc\":1}}],\"formatted\":false}'\n",
    "s1 = s1 % (key,13430400,52536099)\n",
    "data = json.loads(s1)\n",
    "headers = {'Content-type': 'application/json', 'Accept': 'text/plain'}\n",
    "r = requests.post(url, data=json.dumps(data), headers=headers)\n",
    "#print(r.text)\n",
    "resp = json.loads(r.text)\n",
    "resp[\"svcResL\"][1]['res']['locL'][0]['lid']"
   ]
  },
  {
   "cell_type": "code",
   "execution_count": null,
   "id": "c77d3f29",
   "metadata": {},
   "outputs": [],
   "source": [
    "rp = \"\"\"{\"ver\":\"1.18\",\"ext\":\"BVG.1\",\"lang\":\"eng\",\"id\":\"tm2ktgxukkk3y2wg\",\"err\":\"OK\",\"svcResL\":[{\"meth\":\"ServerInfo\",\"err\":\"OK\",\"res\":{\"common\":{\"locL\":[],\"prodL\":[],\"polyL\":[],\"layerL\":[{\"id\":\"standard\",\"name\":\"standard\",\"index\":0,\"annoCnt\":0}],\"crdSysL\":[{\"id\":\"standard\",\"index\":0,\"type\":\"WGS84\"}],\"opL\":[],\"remL\":[],\"icoL\":[]},\"sD\":\"20220202\",\"sT\":\"114242\",\"enc\":\"ISO-8859-1\",\"planrtTS\":\"1643798528\"}},{\"meth\":\"LocGeoPos\",\"err\":\"OK\",\"res\":{\"common\":{\"locL\":[],\"prodL\":[{\"pid\":\"L::2::Tram::B3041857784::Tram_3041857784_M10::*\",\"name\":\"M10\",\"nameS\":\"M10\",\"icoX\":0,\"cls\":4,\"prodCtx\":{\"name\":\"M10\",\"line\":\"M10\",\"lineId\":\"M10\",\"catOut\":\"Tram    \",\"catOutS\":\"T\",\"catOutL\":\"Tram    \"},\"himIdL\":[\"HIM_FREETEXT_75748\",\"HIM_FREETEXT_52249\"]}],\"polyL\":[],\"layerL\":[{\"id\":\"standard\",\"name\":\"standard\",\"index\":0,\"annoCnt\":0}],\"crdSysL\":[{\"id\":\"standard\",\"index\":0,\"type\":\"WGS84\"}],\"opL\":[],\"remL\":[],\"icoL\":[{\"res\":\"prod_gen\"},{\"res\":\"POI\"}]},\"locL\":[{\"lid\":\"A=4@O=Berlin, Theater unterm Dach@X=13430936@Y=52537482@u=158@U=104@L=900980701@\",\"type\":\"P\",\"name\":\"Berlin, Theater unterm Dach\",\"icoX\":1,\"extId\":\"900980701\",\"state\":\"F\",\"crd\":{\"x\":13430936,\"y\":52537482,\"layerX\":0,\"crdSysX\":0},\"dist\":158,\"dur\":309}]}}]}\n",
    "\"\"\"\n",
    "resp = json.loads(rp)\n",
    "a = resp[\"svcResL\"][1]['res']['locL'][0]['extId']\n",
    "b = resp[\"svcResL\"][1]['res']['locL'][0]['type']\n",
    "print(a,b)\n",
    "\n",
    "resp"
   ]
  },
  {
   "cell_type": "code",
   "execution_count": null,
   "id": "a806b98a",
   "metadata": {
    "scrolled": false
   },
   "outputs": [],
   "source": [
    "import geopy.distance\n",
    "\n",
    "F = 10E-7\n",
    "def distance(x,y,x2,y2):\n",
    "    coords_1 = (y*F, x*F)\n",
    "    coords_2 = (y2*F, x2*F)\n",
    "    return geopy.distance.distance(coords_1, coords_2).km\n",
    "\n",
    "\n",
    "F = 10E-7\n",
    "import json\n",
    "import requests\n",
    "url = \"http://bvg-apps-ext.hafas.de/bin/mgate.exe/mgate.exe\"\n",
    "s1 = '{\"auth\":{\"aid\":\"%s\",\"type\":\"AID\"},\"client\":{\"id\":\"BVG\",\"type\":\"AND\"},\"ext\":\"BVG.1\",\"ver\":\"1.18\",\"lang\":\"eng\",\"svcReqL\":[{\"meth\":\"ServerInfo\",\"req\":{\"getServerDateTime\":true,\"getTimeTablePeriod\":false}},{\"meth\":\"LocGeoPos\",\"cfg\":{\"polyEnc\":\"GPA\"},\"req\":{\"ring\":{\"cCrd\":{\"x\":%d,\"y\":%d},\"maxDist\":20000},\"getStops\":true,\"getPOIs\":true,\"maxLoc\":1}}],\"formatted\":false}'\n",
    "s1 = s1 % (key)\n",
    "teststops = []\n",
    "for x in range(13440000,13490000,2000):\n",
    "    print(x)\n",
    "    y= 52536099\n",
    "    \n",
    "    s1_con = s1 % (x,y)\n",
    "    print(distance(x*F,y*F,13430400*F,52536099*F))\n",
    "    data = json.loads(s1_con)\n",
    "    headers = {'Content-type': 'application/json', 'Accept': 'text/plain'}\n",
    "    r = requests.post(url, data=json.dumps(data), headers=headers)\n",
    "    #print(r.text)\n",
    "    resp = json.loads(r.text)\n",
    "    stop = resp[\"svcResL\"][1]['res']['locL'][0]['lid']\n",
    "    teststops.append(stop)"
   ]
  },
  {
   "cell_type": "code",
   "execution_count": null,
   "id": "59b6c2fa",
   "metadata": {},
   "outputs": [],
   "source": [
    "teststops"
   ]
  },
  {
   "cell_type": "code",
   "execution_count": null,
   "id": "819bf4c5",
   "metadata": {},
   "outputs": [],
   "source": [
    "#messung wie weit die generierte station und die urpsprünglichen koordinaten auseinander liegen\n",
    "#ist 350m wenig genug?\n",
    "distance(13355768,52635339,13350744,52636099)"
   ]
  },
  {
   "cell_type": "code",
   "execution_count": null,
   "id": "34dac6ee",
   "metadata": {},
   "outputs": [],
   "source": [
    "distance(13355000*F,52635000*F,13357000*F,52635000*F)*1000"
   ]
  },
  {
   "cell_type": "code",
   "execution_count": null,
   "id": "143abeb2",
   "metadata": {},
   "outputs": [],
   "source": [
    "import json\n",
    "import requests\n",
    "url = \"http://bvg-apps-ext.hafas.de/bin/mgate.exe/mgate.exe\"\n",
    "s1 = '{\"auth\":{\"aid\":\"%s\",\"type\":\"AID\"},\"client\":{\"id\":\"BVG\",\"type\":\"AND\"},\"ext\":\"BVG.1\",\"ver\":\"1.18\",\"lang\":\"eng\",\"svcReqL\":[{\"meth\":\"ServerInfo\",\"req\":{\"getServerDateTime\":true,\"getTimeTablePeriod\":false}},{\"meth\":\"TripSearch\",\"cfg\":{\"polyEnc\":\"GPA\"},\"req\":{\"depLocL\":[{\"type\":\"P\",\"lid\":\"A=4@O=Berlin, Prenzlkasper@X=13424679@Y=52536107@u=109@U=104@L=900980734@\"}],\"arrLocL\":[{\"type\":\"S\",\"extId\":\"900200507\"}],\"outDate\":\"20220202\",\"outTime\":\"120000\",\"outFrwd\":true,\"gisFltrL\":[{\"mode\":\"FB\",\"profile\":{\"type\":\"F\",\"linDistRouting\":false,\"maxdist\":2000},\"type\":\"M\",\"meta\":\"foot_speed_normal\"}],\"getPolyline\":true,\"getPasslist\":true,\"getConGroups\":false,\"getIST\":false,\"getEco\":false,\"extChgTime\":-1}}],\"formatted\":false}'\n",
    "s1 = s1 % (key)\n",
    "#s1 = s1 % (13430400,52536099)\n",
    "data = json.loads(s1)\n",
    "headers = {'Content-type': 'application/json', 'Accept': 'text/plain'}\n",
    "r = requests.post(url, data=json.dumps(data), headers=headers)\n",
    "#print(r.text)\n",
    "resp = json.loads(r.text)\n",
    "for x in range(len(resp['svcResL'][1]['res']['outConL'])):\n",
    "    print(resp['svcResL'][1]['res']['outConL'][x]['arr']['aTimeS'])\n",
    "\n",
    "    print(\"\")"
   ]
  },
  {
   "cell_type": "code",
   "execution_count": null,
   "id": "ebb26edc",
   "metadata": {},
   "outputs": [],
   "source": [
    "length = len(range(13368007,13390623,2000)) * len(range(52518214,52523802,2000))\n",
    "length2 = len(range(13368007,13390623,2000)) * len(range(52518214,52543802,2000))\n",
    "print(length)\n",
    "print(length2)"
   ]
  },
  {
   "cell_type": "code",
   "execution_count": null,
   "id": "6e38f2ce",
   "metadata": {
    "scrolled": true
   },
   "outputs": [],
   "source": [
    "import geopy.distance\n",
    "\n",
    "import json\n",
    "import requests\n",
    "#test setup: x,y\n",
    "#punkt 1:52523802, 13368007\n",
    "#punkt 2:52518214, 13390623\n",
    "#startpunkt beier\n",
    "#punkt 3:52541350,  13366540\n",
    "# x sind die 13er zahlen\n",
    "F = 10E-7\n",
    "def distance(x,y,x2,y2):\n",
    "    coords_1 = (y*F, x*F)\n",
    "    coords_2 = (y2*F, x2*F)\n",
    "    return geopy.distance.distance(coords_1, coords_2).km\n",
    "\n",
    "\n",
    "\n",
    "quit()\n",
    "atimes = []\n",
    "i =0\n",
    "\n",
    "#links oben moabit 52.53746136684121, 13.31176629214652\n",
    "#rechts unten moabit 52.51996891399787, 13.366440440707555\n",
    "#xxxxxxxxxx\n",
    "X1=13311766\n",
    "Y1=52519960\n",
    "\n",
    "\n",
    "X2=13366440\n",
    "Y2=52537461\n",
    "\n",
    "print(\"X distance gps\",X2-X1)\n",
    "print(\"Y distance gps\", Y2-Y1)\n",
    "\n",
    "print(\"X distance km\",distance(X1,Y1,X2,Y1))\n",
    "print(\"Y distance km\",distance(X2,Y1,X2,Y2))\n",
    "\n",
    "length = len(range(X1,X2,2000)) * len(range(Y1,Y2,2000))\n",
    "print(\"anzahl berechnungen:\",length)\n",
    "\n",
    "start_lid = get_lid(13366540,52541350)\n",
    "print(start_lid)\n",
    "\n",
    "\n",
    "for x in range(13368007,13390623,2000):\n",
    "    for y in range(52518214,52543802,2000):\n",
    "        try:\n",
    "            print(x,y)\n",
    "            i+=1\n",
    "            print(i/length*100,\"% Fortschritt, es fehlen \",length - i)\n",
    "\n",
    "            dest = get_dest(x,y)\n",
    "            #print(get_lid(x,y))\n",
    "            print(\"destination paramteres:\",dest)\n",
    "            time = get_traveltime(start_lid,dest)\n",
    "            print(time)\n",
    "            f = open(\"results3.txt\",\"a+\")\n",
    "            f.write(str(x)+\",\"+str(y)+\",\"+str(i)+\",\"+str(time)+\"\\n\")\n",
    "            f.close()\n",
    "\n",
    "            #print(distance(13366540,52541350,x,y))\n",
    "            atimes.append((x,y,time))\n",
    "        except ValueError:\n",
    "            with open(\"results3.txt\",\"a+\") as f:\n",
    "                f.write(\"error\"+str(i)+\",x=\"+str(x)+\", \"+str(y)+\"\\n\")\n",
    "\n",
    "            continue\n",
    "            \n",
    "            \n",
    "            "
   ]
  },
  {
   "cell_type": "code",
   "execution_count": null,
   "id": "dedab06f",
   "metadata": {
    "scrolled": false
   },
   "outputs": [],
   "source": [
    "def get_lid(x,y):\n",
    "    url = \"http://bvg-apps-ext.hafas.de/bin/mgate.exe/mgate.exe\"\n",
    "    s1 = '{\"auth\":{\"aid\":\"%s\",\"type\":\"AID\"},\"client\":{\"id\":\"BVG\",\"type\":\"AND\"},\"ext\":\"BVG.1\",\"ver\":\"1.18\",\"lang\":\"eng\",\"svcReqL\":[{\"meth\":\"ServerInfo\",\"req\":{\"getServerDateTime\":true,\"getTimeTablePeriod\":false}},{\"meth\":\"LocGeoPos\",\"cfg\":{\"polyEnc\":\"GPA\"},\"req\":{\"ring\":{\"cCrd\":{\"x\":%d,\"y\":%d},\"maxDist\":20000},\"getStops\":true,\"getPOIs\":true,\"maxLoc\":1}}],\"formatted\":false}'\n",
    "    s1 = s1 % (key,x,y)\n",
    "    data = json.loads(s1)\n",
    "    headers = {'Content-type': 'application/json', 'Accept': 'text/plain'}\n",
    "    r = requests.post(url, data=json.dumps(data), headers=headers)\n",
    "    #print(r.text)\n",
    "    resp = json.loads(r.text)\n",
    "    return resp[\"svcResL\"][1]['res']['locL'][0]['lid']\n",
    "\n",
    "def get_dest(x,y):\n",
    "    url = \"http://bvg-apps-ext.hafas.de/bin/mgate.exe/mgate.exe\"\n",
    "    s1 = '{\"auth\":{\"aid\":\"%s\",\"type\":\"AID\"},\"client\":{\"id\":\"BVG\",\"type\":\"AND\"},\"ext\":\"BVG.1\",\"ver\":\"1.18\",\"lang\":\"eng\",\"svcReqL\":[{\"meth\":\"ServerInfo\",\"req\":{\"getServerDateTime\":true,\"getTimeTablePeriod\":false}},{\"meth\":\"LocGeoPos\",\"cfg\":{\"polyEnc\":\"GPA\"},\"req\":{\"ring\":{\"cCrd\":{\"x\":%d,\"y\":%d},\"maxDist\":20000},\"getStops\":true,\"getPOIs\":true,\"maxLoc\":1}}],\"formatted\":false}'\n",
    "    s1 = s1 % (key,x,y)\n",
    "    data = json.loads(s1)\n",
    "    headers = {'Content-type': 'application/json', 'Accept': 'text/plain'}\n",
    "    r = requests.post(url, data=json.dumps(data), headers=headers)\n",
    "    #print(r.text)\n",
    "    resp = json.loads(r.text)\n",
    "    e = resp[\"svcResL\"][1]['res']['locL'][0]['extId']\n",
    "    t = resp[\"svcResL\"][1]['res']['locL'][0]['type']\n",
    "    return (e,t)\n",
    "\n",
    "def get_traveltime(start_lid,dest):\n",
    "    extId = dest[0]\n",
    "    dest_type = dest[1]\n",
    "    url = \"http://bvg-apps-ext.hafas.de/bin/mgate.exe/mgate.exe\"\n",
    "    s1 = '{\"auth\":{\"aid\":\"%s\",\"type\":\"AID\"},\"client\":{\"id\":\"BVG\",\"type\":\"AND\"},\"ext\":\"BVG.1\",\"ver\":\"1.18\",\"lang\":\"eng\",\"svcReqL\":[{\"meth\":\"ServerInfo\",\"req\":{\"getServerDateTime\":true,\"getTimeTablePeriod\":false}},{\"meth\":\"TripSearch\",\"cfg\":{\"polyEnc\":\"GPA\"},\"req\":{\"depLocL\":[{\"type\":\"P\",\"lid\":\"%s\"}],\"arrLocL\":[{\"type\":\"%s\",\"extId\":\"%s\"}],\"outDate\":\"20220202\",\"outTime\":\"120000\",\"outFrwd\":true,\"gisFltrL\":[{\"mode\":\"FB\",\"profile\":{\"type\":\"F\",\"linDistRouting\":false,\"maxdist\":2000},\"type\":\"M\",\"meta\":\"foot_speed_normal\"}],\"getPolyline\":true,\"getPasslist\":true,\"getConGroups\":false,\"getIST\":false,\"getEco\":false,\"extChgTime\":-1}}],\"formatted\":false}'\n",
    "    #s1: 1. lid, 2. type, 3. extId\n",
    "    s1 = s1 % (key,start_lid,dest_type, extId)\n",
    "    data = json.loads(s1)\n",
    "    headers = {'Content-type': 'application/json', 'Accept': 'text/plain'}\n",
    "    r = requests.post(url, data=json.dumps(data), headers=headers)\n",
    "    #print(r.text)\n",
    "    resp = json.loads(r.text)\n",
    "    #for x in range(len(resp['svcResL'][1]['res']['outConL'])):\n",
    "    try:\n",
    "        aTime = resp['svcResL'][1]['res']['outConL'][0]['arr']['aTimeS']\n",
    "        print(resp['svcResL'][1]['res']['outConL'][0]['arr'])\n",
    "    except:\n",
    "        print(\"error!\")\n",
    "        print(resp)\n",
    "        return None\n",
    "    if aTime == None:\n",
    "        print(resp['svcResL'][1]['res']['outConL'][0]['arr'])\n",
    "\n",
    "        return None\n",
    "    return int(aTime)\n"
   ]
  },
  {
   "cell_type": "code",
   "execution_count": null,
   "id": "9315652f",
   "metadata": {},
   "outputs": [],
   "source": [
    "with open(\"results2.txt\") as r:\n",
    "        X = []\n",
    "        Y = []\n",
    "        L = []\n",
    "        for l in r:\n",
    "            if \"error\" in l:\n",
    "                continue\n",
    "            x = l.split(\",\")[0]\n",
    "            y = l.split(\",\")[1]\n",
    "            time = l.split(\",\")[3]\n",
    "            hour = time[0:2]\n",
    "            minutes = time[2:4]\n",
    "            length = int(minutes) + (int(hour) - 12)*60\n",
    "            #print(length)\n",
    "            X.append(int(x))\n",
    "            Y.append(int(y))\n",
    "            L.append(length)"
   ]
  },
  {
   "cell_type": "code",
   "execution_count": null,
   "id": "adcc7a71",
   "metadata": {},
   "outputs": [],
   "source": [
    "len(L)"
   ]
  },
  {
   "cell_type": "code",
   "execution_count": null,
   "id": "9615b355",
   "metadata": {},
   "outputs": [],
   "source": [
    "from mpl_toolkits.mplot3d import Axes3D\n",
    "import matplotlib.pyplot as plt\n",
    "from matplotlib import cm\n",
    "import numpy as np\n",
    "from sys import argv\n",
    "import matplotlib.pyplot as plt\n",
    "ax = plt.axes(projection='3d')\n",
    "from mpl_toolkits import mplot3d\n",
    "import matplotlib.animation as animation\n",
    "import numpy as np\n",
    "#fig, ax = plt.subplots(subplot_kw={\"projection\": \"3d\"})\n",
    "#ax.scatter3D(np.array(X),np.array(Y),np.array(length))\n",
    "\n",
    "#ax.scatter3D(X,Y,L,c=L)\n",
    "\n",
    "fig = plt.figure()\n",
    "ax = Axes3D(fig)\n",
    "ax.view_init(azim=180)\n",
    "\n",
    "surf = ax.plot_trisurf(X, Y, L, cmap=cm.jet, linewidth=0.1)\n",
    "fig.colorbar(surf, shrink=0.5, aspect=5)\n",
    "plt.savefig('teste.pdf')\n",
    "plt.show()\n",
    "\n",
    "\n",
    "\n",
    "print(\"Making animation\")\n"
   ]
  },
  {
   "cell_type": "markdown",
   "id": "06812d92",
   "metadata": {},
   "source": [
    "### Visualisation of Triangulization\n",
    "\n",
    "The underlying idea is the computation of traingles and identifying the largest area. This code block visualizes the working principle."
   ]
  },
  {
   "cell_type": "code",
   "execution_count": null,
   "id": "2bb31037",
   "metadata": {},
   "outputs": [],
   "source": [
    "\n",
    "\n",
    "start_location = [start[\"longitude\"], start[\"latitude\"]]\n",
    "# get the bounding box from the location\n",
    "#bounding_box_locations = (min(dfn[\"longitude\"]), max(dfn[\"longitude\"]), min(dfn[\"latitude\"]), max(dfn[\"latitude\"]))\n",
    "# sets hard coded for the map \"map_berlin_A.png\"\n",
    "bounding_box_map = (13.272, 13.491, 52.456, 52.563)\n",
    "\n",
    "fig, ax = plt.subplots(figsize = (12,12))\n",
    "\n",
    "def plotting():\n",
    "    map = plt.imread('maps/map_berlin_A-min.png')\n",
    "    # define the amount of color levels should be there\n",
    "    levels = np.linspace(0, 90, 32)\n",
    "\n",
    "    ax.set_xlim(bounding_box_map[0],bounding_box_map[1])\n",
    "    ax.set_ylim(bounding_box_map[2],bounding_box_map[3])\n",
    "    #ax.tricontourf(dfn[\"longitude\"], dfn[\"latitude\"], dfn[\"Time\"], levels=levels, alpha= 0.5, cmap = CMAP, antialiased=True)\n",
    "    #Displaying destination locations\n",
    "    #ax.scatter(dfn[\"longitude\"], dfn[\"latitude\"], alpha=0.5, color = \"brown\")\n",
    "\n",
    "    # \"aspect=1.65\" as a magic number\n",
    "    ax.imshow(map, extent = bounding_box_map, aspect = 1.65)\n",
    "    # plot the starting position\n",
    "    ax.plot(start_location[0], start_location[1], marker=\"*\", markersize=20, color=\"tab:orange\")\n",
    "plotting()\n",
    "display(fig)\n",
    "clear_output(wait=True)\n",
    "\n",
    "\n",
    "\n",
    "start_time = datetime.datetime.now()\n",
    "round_time = start_time\n",
    "while datetime.datetime.now() - start_time < datetime.timedelta(seconds=100):\n",
    "\n",
    "        points = np.array(list(zip(df[\"longitude\"], df[\"latitude\"])))\n",
    "        tri = Delaunay(points)\n",
    "        triangle = points[tri.simplices][np.argmax(get_area(points[tri.simplices]))]\n",
    "        triangle = np.vstack((triangle, triangle[0,:]))\n",
    "        ax.plot(triangle[:,0], triangle[:,1])\n",
    "\n",
    "        display(fig)\n",
    "        clear_output(wait=True)\n",
    "        time.sleep(0.5)\n",
    "\n",
    "\n",
    "\n",
    "        point  = np.mean(points[tri.simplices][np.argmax(get_area(points[tri.simplices]))],0)\n",
    "        x = point[0]\n",
    "        y = point[1]\n",
    "        ax.plot(x, y, marker=\"o\", markersize=20, color=\"yellow\")\n",
    "\n",
    "        display(fig)\n",
    "        clear_output(wait=True)\n",
    "        #time.sleep(1)\n",
    "\n",
    "\n",
    "        destination = {\"longitude\": str(x), \"latitude\": str(y), \"address\": \"placeholder\"}\n",
    "        try:\n",
    "            journey = api.get_journey(start,destination,DAY)\n",
    "            for stop in journey[\"stopovers\"]:\n",
    "               i+=1\n",
    "               df.loc[i] = [stop[\"longitude\"], stop[\"latitude\"], stop[\"time\"]]\n",
    "            i+=1\n",
    "            df.loc[i] = [journey[\"destination\"][\"longitude\"], journey[\"destination\"][\"latitude\"], journey[\"arrivalTime\"]]\n",
    "        except (ValueError, KeyError):\n",
    "            df.loc[i] = [destination[\"longitude\"], destination[\"latitude\"], \"error\"]\n",
    "            continue\n",
    "\n",
    "        dfn = df.copy()\n",
    "        dfn = time_transformer.transform(dfn)\n",
    "        asd = ax.remove()\n",
    "\n",
    "        fig, ax = plt.subplots(figsize = (12,12))\n",
    "        plotting()\n",
    "        ax.scatter(dfn[\"longitude\"], dfn[\"latitude\"], alpha=1, color = \"brown\")\n",
    "\n",
    "\n",
    "        display(fig)\n",
    "        clear_output(wait=True)\n",
    "        time.sleep(0.5)\n",
    "\n"
   ]
  }
 ],
 "metadata": {
  "kernelspec": {
   "display_name": "Python 3",
   "language": "python",
   "name": "python3"
  },
  "language_info": {
   "codemirror_mode": {
    "name": "ipython",
    "version": 3
   },
   "file_extension": ".py",
   "mimetype": "text/x-python",
   "name": "python",
   "nbconvert_exporter": "python",
   "pygments_lexer": "ipython3",
   "version": "3.8.10"
  }
 },
 "nbformat": 4,
 "nbformat_minor": 5
}
