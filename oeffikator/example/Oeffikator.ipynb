{
 "cells": [
  {
   "cell_type": "markdown",
   "id": "aa9c3c26",
   "metadata": {},
   "source": [
    "# Oeffikator"
   ]
  },
  {
   "cell_type": "markdown",
   "id": "209f649f",
   "metadata": {},
   "source": [
    "## Setup\n",
    "We start off with global varibale and function definition and important imports."
   ]
  },
  {
   "cell_type": "code",
   "execution_count": 235,
   "id": "f165cfe8",
   "metadata": {},
   "outputs": [],
   "source": [
    "# pylint: disable-msg=C0103,C0114,C0413,E0401,W0621,W0511\n",
    "# TODO (W0511) quick fix for now. \"Redefining name\" (W0621) should be fixed with a complete re-factor of this notebook\n",
    "# pycodestyle: disable=ignore\n",
    "import os\n",
    "import sys\n",
    "\n",
    "module_path = os.path.abspath(os.path.join(\"..\"))\n",
    "sys.path.append(module_path)\n",
    "\n",
    "# 'noqa' ignroes E402 error for pycodestyle on imports\n",
    "import asyncio  # noqa\n",
    "import datetime  # noqa\n",
    "import time  # noqa\n",
    "from concurrent.futures import ThreadPoolExecutor  # noqa\n",
    "\n",
    "import geopy.distance  # noqa\n",
    "import imageio  # noqa\n",
    "import matplotlib.colors as mcolors  # noqa\n",
    "import matplotlib.pyplot as plt  # noqa\n",
    "from matplotlib.figure import Figure  # noqa\n",
    "import nest_asyncio  # noqa\n",
    "import numpy as np  # noqa\n",
    "import pandas as pd  # noqa\n",
    "from point_iterator.grid_point_iterator import GridPointIterator  # noqa\n",
    "from point_iterator.triangular_iterator_interface import TriangularPointIterator  # noqa\n",
    "from requesters.bvg_rest_requester import BVGRestRequester  # noqa\n",
    "from requesters.oeffi_requester import OeffiRequester  # noqa\n",
    "\n",
    "nest_asyncio.apply()"
   ]
  },
  {
   "cell_type": "code",
   "execution_count": 236,
   "id": "9c87ba12",
   "metadata": {},
   "outputs": [],
   "source": [
    "DAY = datetime.datetime.today() + datetime.timedelta(days=1)\n",
    "while DAY.weekday() != 0:\n",
    "    DAY += datetime.timedelta(1)\n",
    "cdict = {\n",
    "    \"red\": ((0.0, 0.0, 0.0), (0.5, 0.0, 0.0), (1.0, 1.0, 1.0)),\n",
    "    \"blue\": ((0.0, 0.0, 0.0), (1.0, 0.0, 0.0)),\n",
    "    \"green\": ((0.0, 0.0, 1.0), (0.5, 0.0, 0.0), (1.0, 0.0, 0.0)),\n",
    "}\n",
    "CMAP = mcolors.LinearSegmentedColormap(\"my_colormap\", cdict, 100)"
   ]
  },
  {
   "cell_type": "code",
   "execution_count": 237,
   "id": "5ee1421e",
   "metadata": {},
   "outputs": [],
   "source": [
    "def compute_distance(x1: float, y1: float, x2: float, y2: float) -> float:\n",
    "    \"\"\"computes the distance in kilometers between to coordinates (EPSG:4326)\n",
    "\n",
    "    Args:\n",
    "        x1 (float): latitude point 1\n",
    "        y1 (float): longitude point 1\n",
    "        x2 (float): latitude point 2\n",
    "        y2 (float): longitude point 2\n",
    "\n",
    "    Returns:\n",
    "        float: distance between the two points in kilometers\n",
    "    \"\"\"\n",
    "    return geopy.distance.distance((x1, y1), (x2, y2)).km\n",
    "\n",
    "\n",
    "def to_BVG_sdt(x: float) -> int:\n",
    "    \"\"\"Transform a coordinate from the (more or less) standard formate to the BVG format.\n",
    "    E.g. 13.47 -> 1347000\n",
    "\n",
    "    Args:\n",
    "        x (float): coordinate in standard format, e.g. 13.47\n",
    "\n",
    "    Returns:\n",
    "        int: cooridnate in BVG standard, e.g. 1347000\n",
    "    \"\"\"\n",
    "    return int(x * 10e5)\n",
    "\n",
    "\n",
    "async def start_async_process(\n",
    "    current_requesters: list, origin: dict, destinations: list, starting_date: datetime.datetime\n",
    ") -> list:\n",
    "    \"\"\"An asynchronous function which computes the travel time in minutes\n",
    "    from an origin to a batch of destinations.\n",
    "\n",
    "    Args:\n",
    "        requesters (list): a list of requesters making calls to corresponding apis\n",
    "        origin (dict): address of the origin\n",
    "        destinations (list): a batch of destination coordinates\n",
    "        starting_date (datetime.datetime): date of travel\n",
    "\n",
    "    Returns:\n",
    "        list: a list of travel times for the given destinations\n",
    "    \"\"\"\n",
    "    amount_of_workers = len(destinations)\n",
    "    batch_journeys = []\n",
    "    with ThreadPoolExecutor(max_workers=amount_of_workers) as executor:\n",
    "        async_loop = asyncio.get_event_loop()\n",
    "        responses = [\n",
    "            async_loop.run_in_executor(\n",
    "                executor,\n",
    "                current_requesters[i % len(current_requesters)].get_journey,\n",
    "                *(\n",
    "                    origin,\n",
    "                    {\n",
    "                        \"longitude\": str(destinations[i][0]),\n",
    "                        \"latitude\": str(destinations[i][1]),\n",
    "                        \"address\": \"placeholder\",\n",
    "                    },\n",
    "                    starting_date,\n",
    "                )\n",
    "            )\n",
    "            for i in range(amount_of_workers)\n",
    "        ]\n",
    "        for batch_journey in await asyncio.gather(*responses):\n",
    "            batch_journeys.append(batch_journey)\n",
    "    return batch_journeys"
   ]
  },
  {
   "cell_type": "markdown",
   "id": "62cf3f32",
   "metadata": {},
   "source": [
    "## Crawl Data"
   ]
  },
  {
   "cell_type": "markdown",
   "id": "80d9a6fb",
   "metadata": {},
   "source": [
    "Let's define some parameter first."
   ]
  },
  {
   "cell_type": "code",
   "execution_count": 238,
   "id": "8b203f5e",
   "metadata": {},
   "outputs": [
    {
     "name": "stdout",
     "output_type": "stream",
     "text": [
      "We gonne use following address: 10117 Berlin, Platz Vor dem Brandenburger Tor\n"
     ]
    }
   ],
   "source": [
    "requester1 = BVGRestRequester()\n",
    "requesters = [requester1]\n",
    "\n",
    "AUTHKEY = \"\"\n",
    "if AUTHKEY != \"\":\n",
    "    requester2 = OeffiRequester(AUTHKEY)\n",
    "    requesters.append(requester2)\n",
    "\n",
    "query = \"Brandenburger Tor\"\n",
    "start = requester1.query_location(query)\n",
    "print(\"We gonne use following address: \" + start[\"address\"])"
   ]
  },
  {
   "cell_type": "code",
   "execution_count": 239,
   "id": "c9534c8c",
   "metadata": {},
   "outputs": [
    {
     "name": "stdout",
     "output_type": "stream",
     "text": [
      "Amount of requests:  99\n",
      "Estimated time serial: 2min\n",
      "Estimated time parallel: 0min\n"
     ]
    }
   ],
   "source": [
    "file_name = str(to_BVG_sdt(start[\"longitude\"])) + \"_\" + str(to_BVG_sdt(start[\"latitude\"])) + \".csv\"\n",
    "# in format left, right, bottom, top\n",
    "# or xmin, xmax, ymin, ymax\n",
    "bounding_box = (13.2756, 13.4892, 52.4677, 52.5532)\n",
    "step_size_x = 0.02\n",
    "step_size_y = step_size_x / 2\n",
    "\n",
    "length = len(np.arange(bounding_box[0], bounding_box[1], step_size_x)) * len(\n",
    "    np.arange(bounding_box[2], bounding_box[3], step_size_y)\n",
    ")\n",
    "print(\"Amount of requests: \", length)\n",
    "print(\"Estimated time serial: \" + str(int(length / 38)) + \"min\")\n",
    "print(\"Estimated time parallel: \" + str(int(length / 138)) + \"min\")"
   ]
  },
  {
   "cell_type": "markdown",
   "id": "debd9fc3",
   "metadata": {},
   "source": [
    "## Parallel computing"
   ]
  },
  {
   "cell_type": "code",
   "execution_count": 240,
   "id": "43beb479",
   "metadata": {},
   "outputs": [],
   "source": [
    "parallel_threads = 8\n",
    "duration = 20  # minutes"
   ]
  },
  {
   "cell_type": "code",
   "execution_count": 241,
   "id": "ea5fd62b",
   "metadata": {},
   "outputs": [
    {
     "name": "stdout",
     "output_type": "stream",
     "text": [
      "So far 8 points were generated of which 8 are destinations.\n",
      "So far 9 points were generated of which 9 are destinations.\n",
      "This took us:\n",
      "0:00:03.364155\n"
     ]
    }
   ],
   "source": [
    "i = 0\n",
    "destination_i = 0\n",
    "df = pd.DataFrame(columns=[\"longitude\", \"latitude\", \"Time\"])\n",
    "start_time = datetime.datetime.now()\n",
    "\n",
    "\n",
    "grid_point_iterator = GridPointIterator(bounding_box, 3)\n",
    "while grid_point_iterator.has_points_remaining():\n",
    "    points = [next(grid_point_iterator) for _ in range(parallel_threads) if grid_point_iterator.has_points_remaining()]\n",
    "    loop = asyncio.get_event_loop()\n",
    "    journeys = asyncio.ensure_future(start_async_process(requesters, start, points, DAY))\n",
    "    loop.run_until_complete(journeys)\n",
    "\n",
    "    for journey in journeys.result():\n",
    "        destination_i += 1\n",
    "        i += 1\n",
    "        df.loc[i] = [\n",
    "            float(journey[\"destination\"][\"longitude\"]),\n",
    "            float(journey[\"destination\"][\"latitude\"]),\n",
    "            journey[\"arrivalTime\"],\n",
    "        ]\n",
    "    print(f\"So far {i} points were generated of which {destination_i} are destinations.\")\n",
    "\n",
    "\n",
    "time_taken_total = datetime.datetime.now() - start_time\n",
    "print(\"This took us:\")\n",
    "print(time_taken_total)"
   ]
  },
  {
   "cell_type": "code",
   "execution_count": 242,
   "id": "19fbbc24",
   "metadata": {},
   "outputs": [
    {
     "name": "stdout",
     "output_type": "stream",
     "text": [
      "<requesters.bvg_rest_requester.BVGRestRequester object at 0x7f9d17f61090> 10\n",
      "So far 103 points were generated of which 17 are destinations.\n",
      "<requesters.bvg_rest_requester.BVGRestRequester object at 0x7f9d17f61090> 18\n",
      "So far 197 points were generated of which 25 are destinations.\n",
      "<requesters.bvg_rest_requester.BVGRestRequester object at 0x7f9d17f61090> 26\n",
      "So far 269 points were generated of which 33 are destinations.\n",
      "<requesters.bvg_rest_requester.BVGRestRequester object at 0x7f9d17f61090> 34\n"
     ]
    },
    {
     "ename": "KeyboardInterrupt",
     "evalue": "",
     "output_type": "error",
     "traceback": [
      "\u001b[0;31m---------------------------------------------------------------------------\u001b[0m",
      "\u001b[0;31mKeyboardInterrupt\u001b[0m                         Traceback (most recent call last)",
      "Cell \u001b[0;32mIn[242], line 18\u001b[0m\n\u001b[1;32m     16\u001b[0m loop \u001b[39m=\u001b[39m asyncio\u001b[39m.\u001b[39mget_event_loop()\n\u001b[1;32m     17\u001b[0m journeys \u001b[39m=\u001b[39m asyncio\u001b[39m.\u001b[39mensure_future(start_async_process(available_requesters, start, points, DAY))\n\u001b[0;32m---> 18\u001b[0m loop\u001b[39m.\u001b[39;49mrun_until_complete(journeys)\n\u001b[1;32m     20\u001b[0m \u001b[39mfor\u001b[39;00m journey \u001b[39min\u001b[39;00m journeys\u001b[39m.\u001b[39mresult():\n\u001b[1;32m     21\u001b[0m     destination_i \u001b[39m+\u001b[39m\u001b[39m=\u001b[39m \u001b[39m1\u001b[39m\n",
      "File \u001b[0;32m~/Documents/Learning/Oeffikator/.venv/lib/python3.10/site-packages/nest_asyncio.py:84\u001b[0m, in \u001b[0;36m_patch_loop.<locals>.run_until_complete\u001b[0;34m(self, future)\u001b[0m\n\u001b[1;32m     82\u001b[0m     f\u001b[39m.\u001b[39m_log_destroy_pending \u001b[39m=\u001b[39m \u001b[39mFalse\u001b[39;00m\n\u001b[1;32m     83\u001b[0m \u001b[39mwhile\u001b[39;00m \u001b[39mnot\u001b[39;00m f\u001b[39m.\u001b[39mdone():\n\u001b[0;32m---> 84\u001b[0m     \u001b[39mself\u001b[39;49m\u001b[39m.\u001b[39;49m_run_once()\n\u001b[1;32m     85\u001b[0m     \u001b[39mif\u001b[39;00m \u001b[39mself\u001b[39m\u001b[39m.\u001b[39m_stopping:\n\u001b[1;32m     86\u001b[0m         \u001b[39mbreak\u001b[39;00m\n",
      "File \u001b[0;32m~/Documents/Learning/Oeffikator/.venv/lib/python3.10/site-packages/nest_asyncio.py:107\u001b[0m, in \u001b[0;36m_patch_loop.<locals>._run_once\u001b[0;34m(self)\u001b[0m\n\u001b[1;32m    100\u001b[0m     heappop(scheduled)\n\u001b[1;32m    102\u001b[0m timeout \u001b[39m=\u001b[39m (\n\u001b[1;32m    103\u001b[0m     \u001b[39m0\u001b[39m \u001b[39mif\u001b[39;00m ready \u001b[39mor\u001b[39;00m \u001b[39mself\u001b[39m\u001b[39m.\u001b[39m_stopping\n\u001b[1;32m    104\u001b[0m     \u001b[39melse\u001b[39;00m \u001b[39mmin\u001b[39m(\u001b[39mmax\u001b[39m(\n\u001b[1;32m    105\u001b[0m         scheduled[\u001b[39m0\u001b[39m]\u001b[39m.\u001b[39m_when \u001b[39m-\u001b[39m \u001b[39mself\u001b[39m\u001b[39m.\u001b[39mtime(), \u001b[39m0\u001b[39m), \u001b[39m86400\u001b[39m) \u001b[39mif\u001b[39;00m scheduled\n\u001b[1;32m    106\u001b[0m     \u001b[39melse\u001b[39;00m \u001b[39mNone\u001b[39;00m)\n\u001b[0;32m--> 107\u001b[0m event_list \u001b[39m=\u001b[39m \u001b[39mself\u001b[39;49m\u001b[39m.\u001b[39;49m_selector\u001b[39m.\u001b[39;49mselect(timeout)\n\u001b[1;32m    108\u001b[0m \u001b[39mself\u001b[39m\u001b[39m.\u001b[39m_process_events(event_list)\n\u001b[1;32m    110\u001b[0m end_time \u001b[39m=\u001b[39m \u001b[39mself\u001b[39m\u001b[39m.\u001b[39mtime() \u001b[39m+\u001b[39m \u001b[39mself\u001b[39m\u001b[39m.\u001b[39m_clock_resolution\n",
      "File \u001b[0;32m/usr/lib/python3.10/selectors.py:469\u001b[0m, in \u001b[0;36mEpollSelector.select\u001b[0;34m(self, timeout)\u001b[0m\n\u001b[1;32m    467\u001b[0m ready \u001b[39m=\u001b[39m []\n\u001b[1;32m    468\u001b[0m \u001b[39mtry\u001b[39;00m:\n\u001b[0;32m--> 469\u001b[0m     fd_event_list \u001b[39m=\u001b[39m \u001b[39mself\u001b[39;49m\u001b[39m.\u001b[39;49m_selector\u001b[39m.\u001b[39;49mpoll(timeout, max_ev)\n\u001b[1;32m    470\u001b[0m \u001b[39mexcept\u001b[39;00m \u001b[39mInterruptedError\u001b[39;00m:\n\u001b[1;32m    471\u001b[0m     \u001b[39mreturn\u001b[39;00m ready\n",
      "\u001b[0;31mKeyboardInterrupt\u001b[0m: "
     ]
    }
   ],
   "source": [
    "triangular_point_iterator = TriangularPointIterator(np.array(list(zip(df[\"longitude\"], df[\"latitude\"]))))\n",
    "\n",
    "start_time = datetime.datetime.now()\n",
    "round_time = datetime.datetime.now()\n",
    "while datetime.datetime.now() - start_time < datetime.timedelta(minutes=duration):\n",
    "    # while destination_i < 48:\n",
    "    available_requesters = [requester for requester in requesters if not requester.has_reached_request_limit()]\n",
    "    for requester in available_requesters:\n",
    "        print(requester, len(requester.past_requests))\n",
    "\n",
    "    if available_requesters:\n",
    "        triangular_point_iterator.points = np.array(list(zip(df[\"longitude\"], df[\"latitude\"])))\n",
    "        points = [next(triangular_point_iterator) for _ in range(parallel_threads)]\n",
    "\n",
    "        # Run asychnronous requests\n",
    "        loop = asyncio.get_event_loop()\n",
    "        journeys = asyncio.ensure_future(start_async_process(available_requesters, start, points, DAY))\n",
    "        loop.run_until_complete(journeys)\n",
    "\n",
    "        for journey in journeys.result():\n",
    "            destination_i += 1\n",
    "            if journey[\"stopovers\"] is not None:\n",
    "                for stop in journey[\"stopovers\"]:\n",
    "                    i += 1\n",
    "                    df.loc[i] = [stop[\"longitude\"], stop[\"latitude\"], stop[\"time\"]]\n",
    "            i += 1\n",
    "            df.loc[i] = [\n",
    "                float(journey[\"destination\"][\"longitude\"]),\n",
    "                float(journey[\"destination\"][\"latitude\"]),\n",
    "                journey[\"arrivalTime\"],\n",
    "            ]\n",
    "    else:\n",
    "        print(\"All requesters have reached there request threshold. Sleeping ...\")\n",
    "        time.sleep(2)\n",
    "\n",
    "    if datetime.datetime.now() - round_time > datetime.timedelta(seconds=60):\n",
    "        df = df.drop_duplicates()\n",
    "        df.to_csv(\"results/locations/new_\" + file_name, index=True, header=False)\n",
    "        round_time = datetime.datetime.now()\n",
    "\n",
    "    print(f\"So far {i} points were generated of which {destination_i} are destinations.\")\n",
    "\n",
    "df = df.drop_duplicates()\n",
    "df.to_csv(\"results/locations/new_\" + file_name, index=True, header=False)\n",
    "\n",
    "time_taken_total = datetime.datetime.now() - start_time\n",
    "print(\"This took us:\")\n",
    "print(time_taken_total)"
   ]
  },
  {
   "cell_type": "markdown",
   "id": "b1b54376",
   "metadata": {},
   "source": [
    "## Plotting"
   ]
  },
  {
   "cell_type": "markdown",
   "id": "e7c24a91",
   "metadata": {},
   "source": [
    "Let's read data first."
   ]
  },
  {
   "cell_type": "code",
   "execution_count": null,
   "id": "7114995e",
   "metadata": {},
   "outputs": [],
   "source": [
    "start = requester1.query_location(query)\n",
    "file_name_plotting = str(to_BVG_sdt(start[\"longitude\"])) + \"_\" + str(to_BVG_sdt(start[\"latitude\"])) + \".csv\"\n",
    "df = pd.read_csv(\n",
    "    \"results/locations/new_\" + file_name_plotting,\n",
    "    sep=\",\",\n",
    "    index_col=0,\n",
    "    names=[\"longitude\", \"latitude\", \"Time\"],\n",
    "    na_values=\"None\",\n",
    "    dtype={\"df\": np.float32, \"latitude\": np.float32, \"Time\": str},\n",
    ")"
   ]
  },
  {
   "attachments": {},
   "cell_type": "markdown",
   "id": "5eac6abd",
   "metadata": {},
   "source": [
    "Format the time from datetime formate to simple seconds (integer)."
   ]
  },
  {
   "cell_type": "code",
   "execution_count": null,
   "id": "1d729a88",
   "metadata": {},
   "outputs": [],
   "source": [
    "start_time = datetime.datetime.strptime(\"12000\", \"%H%M%S\")\n",
    "MAX_TRIP_TIME = 120\n",
    "\n",
    "df = df.dropna()\n",
    "df.drop(df[df[\"Time\"] == \"error\"].index, inplace=True)\n",
    "df.drop(df[~df[\"Time\"].str.match(r\"(\\b\\d{6}\\b)\", na=False)].index, inplace=True)\n",
    "# df.loc[:, :] = df[df[\"Time\"] != \"error\"]\n",
    "# df.loc[:, :] = df[df[\"Time\"].str.match(r\"(\\b\\d{6}\\b)\", na=False)]  # Remove wrong time formate\n",
    "df.loc[:, \"Time\"] = pd.to_datetime(df[\"Time\"], format=\"%H%M%S\")\n",
    "df.loc[:, \"Time\"] = df[\"Time\"] - start_time\n",
    "df.loc[:, \"Time\"] = df[\"Time\"].dt.total_seconds() / 60\n",
    "df.drop(df[df[\"Time\"] < 0].index, inplace=True)  # drop all items where time is negative\n",
    "df.drop(df[df[\"Time\"] > MAX_TRIP_TIME].index, inplace=True)  # drop all items where time is negative"
   ]
  },
  {
   "cell_type": "markdown",
   "id": "e90b3784",
   "metadata": {},
   "source": [
    "It's time to plot:"
   ]
  },
  {
   "cell_type": "code",
   "execution_count": null,
   "id": "cbd360e1",
   "metadata": {},
   "outputs": [],
   "source": [
    "# get the start location coordinates from the file name\n",
    "start_location = tuple(int(coordinate) * 10e-7 for coordinate in file_name_plotting[:-4].split(\"_\"))\n",
    "# get the bounding box from the location\n",
    "bounding_box_locations = (min(df[\"longitude\"]), max(df[\"longitude\"]), min(df[\"latitude\"]), max(df[\"latitude\"]))\n",
    "# sets hard coded for the map \"map_berlin_A.png\"\n",
    "bounding_box_map = (13.272, 13.491, 52.456, 52.563)\n",
    "berlin_map = plt.imread(\"maps/map_berlin_A.png\")\n",
    "# define the amount of color levels should be there\n",
    "levels = np.linspace(np.min(df[\"Time\"]), np.max(df[\"Time\"]), 32)\n",
    "\n",
    "fig, ax = plt.subplots(figsize=(18, 18))\n",
    "ax.set_xlim(bounding_box[0], bounding_box[1])\n",
    "ax.set_ylim(bounding_box[2], bounding_box[3])\n",
    "ax.tricontourf(df[\"longitude\"], df[\"latitude\"], df[\"Time\"], levels=levels, alpha=0.5, cmap=CMAP, antialiased=True)\n",
    "# Displaying destination locations\n",
    "# ax.scatter(df[\"longitude\"], df[\"latitude\"], alpha=0.5, color = \"brown\")\n",
    "\n",
    "# \"aspect=1.65\" as a magic number\n",
    "ax.imshow(berlin_map, extent=bounding_box_map, aspect=1.65)\n",
    "# plot the starting position\n",
    "ax.plot(start_location[0], start_location[1], marker=\"*\", markersize=20, color=\"tab:orange\")\n",
    "\n",
    "plt.savefig(f\"results/images/map_{query}.png\")"
   ]
  },
  {
   "cell_type": "code",
   "execution_count": null,
   "id": "d6db6da8",
   "metadata": {},
   "outputs": [],
   "source": [
    "plt.savefig(\"results/images/map_berlin_sWedding.png\")"
   ]
  },
  {
   "attachments": {},
   "cell_type": "markdown",
   "id": "70eb4188",
   "metadata": {},
   "source": [
    "## Animated Plot"
   ]
  },
  {
   "attachments": {},
   "cell_type": "markdown",
   "id": "0a13b4e0",
   "metadata": {},
   "source": [
    "This next section creates a plot which visualises the destination determination and image generation to improve understandibility of the project."
   ]
  },
  {
   "cell_type": "code",
   "execution_count": 277,
   "id": "dccc3764",
   "metadata": {},
   "outputs": [],
   "source": [
    "def convert_figure_to_np_array(fig: Figure) -> np.ndarray:\n",
    "    \"\"\"Converts a matplotlib Figure to a numpy array.\n",
    "\n",
    "    Args:\n",
    "        fig (Figure): matplotlib figure\n",
    "\n",
    "    Returns:\n",
    "        np.ndarray: figure converted to a numpy array\n",
    "    \"\"\"\n",
    "    data = np.frombuffer(fig.canvas.tostring_rgb(), dtype=np.uint8)\n",
    "    w, h = fig.canvas.get_width_height()\n",
    "    im = data.reshape((int(h), int(w), -1))\n",
    "    return np.array(im)\n",
    "\n",
    "\n",
    "def get_inital_points(start: dict, bounding_box: tuple) -> pd.DataFrame:\n",
    "    \"\"\"Retrieves the initial points through the grid point generator\n",
    "\n",
    "    Args:\n",
    "        start (dict): a dictionary with location information of the origin\n",
    "        bounding_box (tuple): the edges of the grid\n",
    "\n",
    "    Returns:\n",
    "        pd.DataFrame: returns the first coordinates with its required travel time\n",
    "    \"\"\"\n",
    "    i = 0\n",
    "    df = pd.DataFrame(columns=[\"longitude\", \"latitude\", \"Time\"])\n",
    "\n",
    "    grid_point_iterator = GridPointIterator(bounding_box, 3)\n",
    "    while grid_point_iterator.has_points_remaining():\n",
    "        points = [\n",
    "            next(grid_point_iterator) for _ in range(parallel_threads) if grid_point_iterator.has_points_remaining()\n",
    "        ]\n",
    "        loop = asyncio.get_event_loop()\n",
    "        journeys = asyncio.ensure_future(start_async_process(requesters, start, points, DAY))\n",
    "        loop.run_until_complete(journeys)\n",
    "\n",
    "        for journey in journeys.result():\n",
    "            i += 1\n",
    "            df.loc[i] = [\n",
    "                float(journey[\"destination\"][\"longitude\"]),\n",
    "                float(journey[\"destination\"][\"latitude\"]),\n",
    "                journey[\"arrivalTime\"],\n",
    "            ]\n",
    "    return df\n",
    "\n",
    "\n",
    "def get_next_points(df: pd.DataFrame, number_of_points: int) -> np.ndarray:\n",
    "    \"\"\"Given a set of coordinates return new points based on the Triangular Point Iterator\n",
    "\n",
    "    Args:\n",
    "        df (pd.DataFrame): set of coordinates\n",
    "        number_of_points (int): number of points which should be return\n",
    "\n",
    "    Returns:\n",
    "        np.ndarray: returned coordinates\n",
    "    \"\"\"\n",
    "    triangular_point_iterator = TriangularPointIterator(np.array(list(zip(df[\"longitude\"], df[\"latitude\"]))))\n",
    "    triangular_point_iterator.points = np.array(list(zip(df[\"longitude\"], df[\"latitude\"])))\n",
    "    points = [next(triangular_point_iterator) for _ in range(number_of_points)]\n",
    "    return points\n",
    "\n",
    "\n",
    "def compute_travel_time(df: pd.DataFrame, points: np.ndarray, requesters: list) -> pd.DataFrame:\n",
    "    \"\"\"Compute travel time for given points\n",
    "\n",
    "    Args:\n",
    "        df (pd.DataFrame): set of points for which travel time was already computed\n",
    "        points (np.ndarray): set of points for which travel time needs to be computed\n",
    "        requesters (list): requesters which can query journey data\n",
    "\n",
    "    Returns:\n",
    "        pd.DataFrame: an increased set of points for which travel time was already computed\n",
    "    \"\"\"\n",
    "    i = len(df)\n",
    "\n",
    "    # Run asychnronous requests\n",
    "    loop = asyncio.get_event_loop()\n",
    "\n",
    "    available_requesters = [requester for requester in requesters if not requester.has_reached_request_limit()]\n",
    "    journeys = asyncio.ensure_future(start_async_process(available_requesters, start, points, DAY))\n",
    "    loop.run_until_complete(journeys)\n",
    "\n",
    "    for journey in journeys.result():\n",
    "        if journey[\"stopovers\"] is not None:\n",
    "            for stop in journey[\"stopovers\"]:\n",
    "                i += 1\n",
    "                df.loc[i] = [stop[\"longitude\"], stop[\"latitude\"], stop[\"time\"]]\n",
    "        i += 1\n",
    "        df.loc[i] = [\n",
    "            float(journey[\"destination\"][\"longitude\"]),\n",
    "            float(journey[\"destination\"][\"latitude\"]),\n",
    "            journey[\"arrivalTime\"],\n",
    "        ]\n",
    "\n",
    "    df = df.drop_duplicates()\n",
    "    return df\n",
    "\n",
    "\n",
    "def draw_map(\n",
    "    df: pd.DataFrame,\n",
    "    origin: dict = None,\n",
    "    extra_points: np.ndarray = None,\n",
    "    is_only_image: bool = False,\n",
    "    is_scattering: bool = True,\n",
    ") -> np.ndarray:\n",
    "    \"\"\"Draws the map and returns a frame. Additional data can be added.\n",
    "\n",
    "    Args:\n",
    "        df (pd.DataFrame): set of coordinates for which travel time has been computed\n",
    "        start (dict, optional): coordinates of origin. Defaults to None.\n",
    "        extra_points (np.ndarray, optional): extra points to be displayed. Defaults to None.\n",
    "        is_only_image (bool, optional): shall we only plot the image?. Defaults to False.\n",
    "        is_scattering (bool, optional): shall we plot all the plots?. Defaults to True.\n",
    "\n",
    "    Returns:\n",
    "        np.ndarray: frame of the map\n",
    "    \"\"\"\n",
    "    start_time = datetime.datetime.strptime(\"12000\", \"%H%M%S\")\n",
    "\n",
    "    bounding_box_map = (13.272, 13.491, 52.456, 52.563)\n",
    "    berlin_map = plt.imread(\"maps/map_berlin_A.png\")\n",
    "\n",
    "    fig, ax = plt.subplots(figsize=(18, 13))\n",
    "    ax.set_xlim(bounding_box[0], bounding_box[1])\n",
    "    ax.set_ylim(bounding_box[2], bounding_box[3])\n",
    "\n",
    "    # \"aspect=1.65\" as a magic number\n",
    "    z_order = -10 if not is_only_image else 0\n",
    "    ax.imshow(berlin_map, extent=bounding_box_map, aspect=1.65, zorder=z_order)\n",
    "\n",
    "    df = df.dropna()\n",
    "    df.drop(df[df[\"Time\"] == \"error\"].index, inplace=True)\n",
    "    df.drop(df[~df[\"Time\"].str.match(r\"(\\b\\d{6}\\b)\", na=False)].index, inplace=True)\n",
    "    df[\"Time\"] = pd.to_datetime(df[\"Time\"], format=\"%H%M%S\")\n",
    "    df.loc[:, \"Time\"] = df[\"Time\"] - start_time\n",
    "    df.loc[:, \"Time\"] = df[\"Time\"].dt.total_seconds() / 60\n",
    "    df.drop(df[df[\"Time\"] < 0].index, inplace=True)  # drop all items where time is negative\n",
    "    df.drop(df[df[\"Time\"] > MAX_TRIP_TIME].index, inplace=True)  # drop all items where time is negative\n",
    "\n",
    "    # define the amount of color levels should be there\n",
    "    levels = np.linspace(np.min(df[\"Time\"]), np.max(df[\"Time\"]), 60)\n",
    "    tcf = ax.tricontourf(\n",
    "        df[\"longitude\"], df[\"latitude\"], df[\"Time\"], levels=levels, alpha=0.5, cmap=CMAP, antialiased=True, zorder=-2\n",
    "    )\n",
    "    fig.colorbar(tcf, shrink=0.67, label=\"Travel Time in minutes\", format=\"{x:.0f} min\")\n",
    "\n",
    "    # Displaying destination locations\n",
    "    if is_scattering:\n",
    "        ax.scatter(df[\"longitude\"], df[\"latitude\"], alpha=0.5, color=\"tab:purple\", label=\"Journey Stops\", zorder=-2)\n",
    "\n",
    "    # plot the starting position\n",
    "    if origin is not None:\n",
    "        ax.plot(origin[0], origin[1], marker=\"p\", markersize=20, color=\"tab:blue\", label=\"Origin\")\n",
    "\n",
    "    if extra_points is not None:\n",
    "        ax.scatter(extra_points[:, 0], extra_points[:, 1], marker=\"o\", s=300, color=\"tab:red\")\n",
    "\n",
    "    ax.legend(fontsize=\"xx-large\")\n",
    "\n",
    "    fig.canvas.draw()\n",
    "    plt.close()\n",
    "\n",
    "    return convert_figure_to_np_array(fig)"
   ]
  },
  {
   "cell_type": "code",
   "execution_count": 278,
   "id": "e02252f8",
   "metadata": {},
   "outputs": [],
   "source": [
    "df = get_inital_points(start, bounding_box)\n",
    "origin = np.array([start[\"longitude\"], start[\"latitude\"]])\n",
    "frames = [\n",
    "    draw_map(df, origin=origin, is_only_image=True),\n",
    "] * 3\n",
    "frames.extend([draw_map(df, origin=origin)] * 2)\n",
    "for _ in range(20):\n",
    "    next_points = get_next_points(df, 1)\n",
    "    frames.append(draw_map(df, origin=origin, extra_points=np.array(next_points)))\n",
    "    df = pd.concat([df, compute_travel_time(df, next_points, requesters)], axis=0)\n",
    "    frames.append(draw_map(df, origin=origin, extra_points=np.array(next_points)))\n",
    "\n",
    "frames.extend([draw_map(df, origin=origin, is_scattering=False)] * 7)"
   ]
  },
  {
   "cell_type": "code",
   "execution_count": 279,
   "id": "11b4cbe3",
   "metadata": {},
   "outputs": [],
   "source": [
    "imageio.mimsave(\"./example.gif\", frames, fps=1.25)"
   ]
  }
 ],
 "metadata": {
  "kernelspec": {
   "display_name": ".venv",
   "language": "python",
   "name": "python3"
  },
  "language_info": {
   "codemirror_mode": {
    "name": "ipython",
    "version": 3
   },
   "file_extension": ".py",
   "mimetype": "text/x-python",
   "name": "python",
   "nbconvert_exporter": "python",
   "pygments_lexer": "ipython3",
   "version": "3.10.9"
  },
  "vscode": {
   "interpreter": {
    "hash": "d8a49a75ee7a4487a0348e6a8a0040cbb35b2e502927d00e0606738785a45890"
   }
  }
 },
 "nbformat": 4,
 "nbformat_minor": 5
}
