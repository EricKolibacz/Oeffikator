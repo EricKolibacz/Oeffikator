{
 "cells": [
  {
   "cell_type": "markdown",
   "id": "aa9c3c26",
   "metadata": {},
   "source": [
    "# Oeffikator"
   ]
  },
  {
   "cell_type": "markdown",
   "id": "209f649f",
   "metadata": {},
   "source": [
    "## Setup\n",
    "We start off with global varibale and function definition and important imports."
   ]
  },
  {
   "cell_type": "code",
   "execution_count": 7,
   "id": "f165cfe8",
   "metadata": {},
   "outputs": [],
   "source": [
    "# pylint: disable-msg=C0103,C0114,C0413,E0401\n",
    "# pycodestyle: disable=ignore\n",
    "import os\n",
    "import sys\n",
    "\n",
    "module_path = os.path.abspath(os.path.join(\"..\"))\n",
    "sys.path.append(module_path)\n",
    "\n",
    "# 'noqa' ignroes E402 error for pycodestyle on imports\n",
    "import asyncio  # noqa\n",
    "import datetime  # noqa\n",
    "import time  # noqa\n",
    "from concurrent.futures import ThreadPoolExecutor  # noqa\n",
    "\n",
    "import geopy.distance  # noqa\n",
    "import matplotlib.colors as mcolors  # noqa\n",
    "import matplotlib.pyplot as plt  # noqa\n",
    "import nest_asyncio  # noqa\n",
    "import numpy as np  # noqa\n",
    "import pandas as pd  # noqa\n",
    "from point_iterator.grid_point_iterator import GridPointIterator  # noqa\n",
    "from point_iterator.triangular_iterator_interface import TriangularPointIterator  # noqa\n",
    "from requesters.bvg_rest_requester import BVGRestRequester  # noqa\n",
    "from requesters.oeffi_requester import OeffiRequester  # noqa\n",
    "\n",
    "nest_asyncio.apply()"
   ]
  },
  {
   "cell_type": "code",
   "execution_count": null,
   "id": "9c87ba12",
   "metadata": {},
   "outputs": [],
   "source": [
    "DAY = datetime.datetime.today() + datetime.timedelta(days=1)\n",
    "while DAY.weekday() != 0:\n",
    "    DAY += datetime.timedelta(1)\n",
    "cdict = {\n",
    "    \"red\": ((0.0, 0.0, 0.0), (0.5, 0.0, 0.0), (1.0, 1.0, 1.0)),\n",
    "    \"blue\": ((0.0, 0.0, 0.0), (1.0, 0.0, 0.0)),\n",
    "    \"green\": ((0.0, 0.0, 1.0), (0.5, 0.0, 0.0), (1.0, 0.0, 0.0)),\n",
    "}\n",
    "CMAP = mcolors.LinearSegmentedColormap(\"my_colormap\", cdict, 100)"
   ]
  },
  {
   "cell_type": "code",
   "execution_count": null,
   "id": "5ee1421e",
   "metadata": {},
   "outputs": [],
   "source": [
    "def compute_distance(x1: float, y1: float, x2: float, y2: float) -> float:\n",
    "    \"\"\"computes the distance in kilometers between to coordinates (EPSG:4326)\n",
    "\n",
    "    Args:\n",
    "        x1 (float): latitude point 1\n",
    "        y1 (float): longitude point 1\n",
    "        x2 (float): latitude point 2\n",
    "        y2 (float): longitude point 2\n",
    "\n",
    "    Returns:\n",
    "        float: distance between the two points in kilometers\n",
    "    \"\"\"\n",
    "    return geopy.distance.distance((x1, y1), (x2, y2)).km\n",
    "\n",
    "\n",
    "def to_BVG_sdt(x: float) -> int:\n",
    "    \"\"\"Transform a coordinate from the (more or less) standard formate to the BVG format.\n",
    "    E.g. 13.47 -> 1347000\n",
    "\n",
    "    Args:\n",
    "        x (float): coordinate in standard format, e.g. 13.47\n",
    "\n",
    "    Returns:\n",
    "        int: cooridnate in BVG standard, e.g. 1347000\n",
    "    \"\"\"\n",
    "    return int(x * 10e5)\n",
    "\n",
    "\n",
    "async def start_async_process(\n",
    "    current_requesters: list, origin: dict, destinations: list, starting_date: datetime.datetime\n",
    ") -> list:\n",
    "    \"\"\"An asynchronous function which computes the travel time in minutes\n",
    "    from an origin to a batch of destinations.\n",
    "\n",
    "    Args:\n",
    "        requesters (list): a list of requesters making calls to corresponding apis\n",
    "        origin (dict): address of the origin\n",
    "        destinations (list): a batch of destination coordinates\n",
    "        starting_date (datetime.datetime): date of travel\n",
    "\n",
    "    Returns:\n",
    "        list: a list of travel times for the given destinations\n",
    "    \"\"\"\n",
    "    amount_of_workers = len(destinations)\n",
    "    batch_journeys = []\n",
    "    with ThreadPoolExecutor(max_workers=amount_of_workers) as executor:\n",
    "        async_loop = asyncio.get_event_loop()\n",
    "        responses = [\n",
    "            async_loop.run_in_executor(\n",
    "                executor,\n",
    "                current_requesters[i % len(current_requesters)].get_journey,\n",
    "                *(\n",
    "                    origin,\n",
    "                    {\n",
    "                        \"longitude\": str(destinations[i][0]),\n",
    "                        \"latitude\": str(destinations[i][1]),\n",
    "                        \"address\": \"placeholder\",\n",
    "                    },\n",
    "                    starting_date,\n",
    "                )\n",
    "            )\n",
    "            for i in range(amount_of_workers)\n",
    "        ]\n",
    "        for batch_journey in await asyncio.gather(*responses):\n",
    "            batch_journeys.append(batch_journey)\n",
    "    return batch_journeys"
   ]
  },
  {
   "cell_type": "markdown",
   "id": "62cf3f32",
   "metadata": {},
   "source": [
    "## Crawl Data"
   ]
  },
  {
   "cell_type": "markdown",
   "id": "80d9a6fb",
   "metadata": {},
   "source": [
    "Let's define some parameter first."
   ]
  },
  {
   "cell_type": "code",
   "execution_count": null,
   "id": "8b203f5e",
   "metadata": {},
   "outputs": [],
   "source": [
    "requester1 = BVGRestRequester()\n",
    "requesters = [requester1]\n",
    "\n",
    "AUTHKEY = \"\"\n",
    "if AUTHKEY != \"\":\n",
    "    requester2 = OeffiRequester(AUTHKEY)\n",
    "    requesters.append(requester2)\n",
    "    \n",
    "query = \"Brandenburger Tor\"\n",
    "start = requester1.query_location(query)\n",
    "print(\"We gonne use following address: \" + start[\"address\"])"
   ]
  },
  {
   "cell_type": "code",
   "execution_count": null,
   "id": "c9534c8c",
   "metadata": {},
   "outputs": [],
   "source": [
    "file_name = str(to_BVG_sdt(start[\"longitude\"])) + \"_\" + str(to_BVG_sdt(start[\"latitude\"])) + \".csv\"\n",
    "# in format left, right, bottom, top\n",
    "# or xmin, xmax, ymin, ymax\n",
    "bounding_box = (13.2756, 13.4892, 52.4677, 52.5532)\n",
    "step_size_x = 0.02\n",
    "step_size_y = step_size_x / 2\n",
    "\n",
    "length = len(np.arange(bounding_box[0], bounding_box[1], step_size_x)) * len(\n",
    "    np.arange(bounding_box[2], bounding_box[3], step_size_y)\n",
    ")\n",
    "print(\"Amount of requests: \", length)\n",
    "print(\"Estimated time serial: \" + str(int(length / 38)) + \"min\")\n",
    "print(\"Estimated time parallel: \" + str(int(length / 138)) + \"min\")"
   ]
  },
  {
   "cell_type": "markdown",
   "id": "debd9fc3",
   "metadata": {},
   "source": [
    "## Parallel computing"
   ]
  },
  {
   "cell_type": "code",
   "execution_count": null,
   "id": "43beb479",
   "metadata": {},
   "outputs": [],
   "source": [
    "parallel_threads = 8\n",
    "duration = 20  # minutes"
   ]
  },
  {
   "cell_type": "code",
   "execution_count": null,
   "id": "ea5fd62b",
   "metadata": {},
   "outputs": [],
   "source": [
    "i = 0\n",
    "destination_i = 0\n",
    "df = pd.DataFrame(columns=[\"longitude\", \"latitude\", \"Time\"])\n",
    "start_time = datetime.datetime.now()\n",
    "\n",
    "\n",
    "grid_point_iterator = GridPointIterator(bounding_box, 3)\n",
    "while grid_point_iterator.has_points_remaining():\n",
    "    points = [next(grid_point_iterator) for _ in range(parallel_threads) if grid_point_iterator.has_points_remaining()]\n",
    "    loop = asyncio.get_event_loop()\n",
    "    journeys = asyncio.ensure_future(start_async_process(requesters, start, points, DAY))\n",
    "    loop.run_until_complete(journeys)\n",
    "\n",
    "    for journey in journeys.result():\n",
    "        destination_i += 1\n",
    "        i += 1\n",
    "        df.loc[i] = [\n",
    "            float(journey[\"destination\"][\"longitude\"]),\n",
    "            float(journey[\"destination\"][\"latitude\"]),\n",
    "            journey[\"arrivalTime\"],\n",
    "        ]\n",
    "    print(f\"So far {i} points were generated of which {destination_i} are destinations.\")\n",
    "\n",
    "\n",
    "time_taken_total = datetime.datetime.now() - start_time\n",
    "print(\"This took us:\")\n",
    "print(time_taken_total)"
   ]
  },
  {
   "cell_type": "code",
   "execution_count": null,
   "id": "19fbbc24",
   "metadata": {},
   "outputs": [],
   "source": [
    "triangular_point_iterator = TriangularPointIterator(np.array(list(zip(df[\"longitude\"], df[\"latitude\"]))))\n",
    "\n",
    "start_time = datetime.datetime.now()\n",
    "round_time = datetime.datetime.now()\n",
    "while datetime.datetime.now() - start_time < datetime.timedelta(minutes=duration):\n",
    "    # while destination_i < 48:\n",
    "    available_requesters = [requester for requester in requesters if not requester.has_reached_request_limit()]\n",
    "    for requester in available_requesters:\n",
    "        print(requester, len(requester.past_requests))\n",
    "\n",
    "    if available_requesters:\n",
    "        triangular_point_iterator.points = np.array(list(zip(df[\"longitude\"], df[\"latitude\"])))\n",
    "        points = [next(triangular_point_iterator) for _ in range(parallel_threads)]\n",
    "\n",
    "        # Run asychnronous requests\n",
    "        loop = asyncio.get_event_loop()\n",
    "        journeys = asyncio.ensure_future(start_async_process(available_requesters, start, points, DAY))\n",
    "        loop.run_until_complete(journeys)\n",
    "\n",
    "        for journey in journeys.result():\n",
    "            destination_i += 1\n",
    "            if journey[\"stopovers\"] is not None:\n",
    "                for stop in journey[\"stopovers\"]:\n",
    "                    i += 1\n",
    "                    df.loc[i] = [stop[\"longitude\"], stop[\"latitude\"], stop[\"time\"]]\n",
    "            i += 1\n",
    "            df.loc[i] = [\n",
    "                float(journey[\"destination\"][\"longitude\"]),\n",
    "                float(journey[\"destination\"][\"latitude\"]),\n",
    "                journey[\"arrivalTime\"],\n",
    "            ]\n",
    "    else:\n",
    "        print(\"All requesters have reached there request threshold. Sleeping ...\")\n",
    "        time.sleep(2)\n",
    "\n",
    "    if datetime.datetime.now() - round_time > datetime.timedelta(seconds=60):\n",
    "        df = df.drop_duplicates()\n",
    "        df.to_csv(\"results/locations/new_\" + file_name, index=True, header=False)\n",
    "        round_time = datetime.datetime.now()\n",
    "\n",
    "    print(f\"So far {i} points were generated of which {destination_i} are destinations.\")\n",
    "\n",
    "df = df.drop_duplicates()\n",
    "df.to_csv(\"results/locations/new_\" + file_name, index=True, header=False)\n",
    "\n",
    "time_taken_total = datetime.datetime.now() - start_time\n",
    "print(\"This took us:\")\n",
    "print(time_taken_total)"
   ]
  },
  {
   "cell_type": "markdown",
   "id": "b1b54376",
   "metadata": {},
   "source": [
    "## Plotting"
   ]
  },
  {
   "cell_type": "markdown",
   "id": "e7c24a91",
   "metadata": {},
   "source": [
    "Let's read data first."
   ]
  },
  {
   "cell_type": "code",
   "execution_count": null,
   "id": "7114995e",
   "metadata": {},
   "outputs": [],
   "source": [
    "start = requester1.query_location(query)\n",
    "file_name_plotting = str(to_BVG_sdt(start[\"longitude\"])) + \"_\" + str(to_BVG_sdt(start[\"latitude\"])) + \".csv\"\n",
    "df = pd.read_csv(\n",
    "    \"results/locations/new_\" + file_name_plotting,\n",
    "    sep=\",\",\n",
    "    index_col=0,\n",
    "    names=[\"X\", \"Y\", \"Time\"],\n",
    "    na_values=\"None\",\n",
    "    dtype={\"df\": np.float32, \"Y\": np.float32, \"Time\": str},\n",
    ")"
   ]
  },
  {
   "attachments": {},
   "cell_type": "markdown",
   "id": "5eac6abd",
   "metadata": {},
   "source": [
    "Format the time from datetime formate to simple seconds (integer)."
   ]
  },
  {
   "cell_type": "code",
   "execution_count": null,
   "id": "1d729a88",
   "metadata": {},
   "outputs": [],
   "source": [
    "start_time = datetime.datetime.strptime(\"12000\", \"%H%M%S\")\n",
    "MAX_TRIP_TIME = 120\n",
    "\n",
    "df = df.dropna()\n",
    "df.drop(df[df[\"Time\"] == \"error\"].index, inplace=True)\n",
    "df.drop(df[~df[\"Time\"].str.match(r\"(\\b\\d{6}\\b)\", na=False)].index, inplace=True)\n",
    "# df.loc[:, :] = df[df[\"Time\"] != \"error\"]\n",
    "# df.loc[:, :] = df[df[\"Time\"].str.match(r\"(\\b\\d{6}\\b)\", na=False)]  # Remove wrong time formate\n",
    "df.loc[:, \"Time\"] = pd.to_datetime(df[\"Time\"], format=\"%H%M%S\")\n",
    "df.loc[:, \"Time\"] = df[\"Time\"] - start_time\n",
    "df.loc[:, \"Time\"] = df[\"Time\"].dt.total_seconds() / 60\n",
    "df.drop(df[df[\"Time\"] < 0].index, inplace=True)  # drop all items where time is negative\n",
    "df.drop(df[df[\"Time\"] > MAX_TRIP_TIME].index, inplace=True)  # drop all items where time is negative"
   ]
  },
  {
   "cell_type": "markdown",
   "id": "e90b3784",
   "metadata": {},
   "source": [
    "It's time to plot:"
   ]
  },
  {
   "cell_type": "code",
   "execution_count": null,
   "id": "cbd360e1",
   "metadata": {},
   "outputs": [],
   "source": [
    "# get the start location coordinates from the file name\n",
    "start_location = tuple(int(coordinate) * 10e-7 for coordinate in file_name_plotting[:-4].split(\"_\"))\n",
    "# get the bounding box from the location\n",
    "bounding_box_locations = (min(df[\"X\"]), max(df[\"X\"]), min(df[\"Y\"]), max(df[\"Y\"]))\n",
    "# sets hard coded for the map \"map_berlin_A.png\"\n",
    "bounding_box_map = (13.272, 13.491, 52.456, 52.563)\n",
    "berlin_map = plt.imread(\"maps/map_berlin_A.png\")\n",
    "# define the amount of color levels should be there\n",
    "levels = np.linspace(np.min(df[\"Time\"]), np.max(df[\"Time\"]), 32)\n",
    "\n",
    "fig, ax = plt.subplots(figsize=(18, 18))\n",
    "ax.set_xlim(bounding_box[0], bounding_box[1])\n",
    "ax.set_ylim(bounding_box[2], bounding_box[3])\n",
    "ax.tricontourf(df[\"X\"], df[\"Y\"], df[\"Time\"], levels=levels, alpha=0.5, cmap=CMAP, antialiased=True)\n",
    "# Displaying destination locations\n",
    "# ax.scatter(df[\"X\"], df[\"Y\"], alpha=0.5, color = \"brown\")\n",
    "\n",
    "# \"aspect=1.65\" as a magic number\n",
    "ax.imshow(berlin_map, extent=bounding_box_map, aspect=1.65)\n",
    "# plot the starting position\n",
    "ax.plot(start_location[0], start_location[1], marker=\"*\", markersize=20, color=\"tab:orange\")\n",
    "\n",
    "plt.savefig(f\"results/images/map_{query}.png\")"
   ]
  },
  {
   "cell_type": "code",
   "execution_count": null,
   "id": "d6db6da8",
   "metadata": {},
   "outputs": [],
   "source": [
    "plt.savefig(\"results/images/map_berlin_sWedding.png\")"
   ]
  }
 ],
 "metadata": {
  "kernelspec": {
   "display_name": ".venv",
   "language": "python",
   "name": "python3"
  },
  "language_info": {
   "codemirror_mode": {
    "name": "ipython",
    "version": 3
   },
   "file_extension": ".py",
   "mimetype": "text/x-python",
   "name": "python",
   "nbconvert_exporter": "python",
   "pygments_lexer": "ipython3",
   "version": "3.10.9"
  },
  "vscode": {
   "interpreter": {
    "hash": "d8a49a75ee7a4487a0348e6a8a0040cbb35b2e502927d00e0606738785a45890"
   }
  }
 },
 "nbformat": 4,
 "nbformat_minor": 5
}
